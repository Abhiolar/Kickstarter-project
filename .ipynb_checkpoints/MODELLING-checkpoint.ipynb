{
 "cells": [
  {
   "cell_type": "code",
   "execution_count": 40,
   "metadata": {},
   "outputs": [],
   "source": [
    "import pandas as pd\n",
    "import matplotlib.pyplot as plt\n",
    "import seaborn as sns\n",
    "from sklearn.model_selection import train_test_split\n",
    "from sklearn.preprocessing import MinMaxScaler\n",
    "from sklearn.preprocessing import StandardScaler\n",
    "from sklearn.linear_model import LogisticRegression\n",
    "from sklearn.metrics import classification_report\n",
    "from sklearn.metrics import accuracy_score\n",
    "from sklearn.metrics import roc_curve, auc\n",
    "from sklearn.metrics import confusion_matrix\n",
    "sns.set_style('darkgrid')\n",
    "import numpy as np\n",
    "%matplotlib inline"
   ]
  },
  {
   "cell_type": "markdown",
   "metadata": {},
   "source": [
    "## LOGISTIC REGRESSION BASELINE MODEL"
   ]
  },
  {
   "cell_type": "code",
   "execution_count": 2,
   "metadata": {},
   "outputs": [],
   "source": [
    "kick = pd.read_csv('cleaned_data')"
   ]
  },
  {
   "cell_type": "code",
   "execution_count": 3,
   "metadata": {},
   "outputs": [
    {
     "data": {
      "text/html": [
       "<div>\n",
       "<style scoped>\n",
       "    .dataframe tbody tr th:only-of-type {\n",
       "        vertical-align: middle;\n",
       "    }\n",
       "\n",
       "    .dataframe tbody tr th {\n",
       "        vertical-align: top;\n",
       "    }\n",
       "\n",
       "    .dataframe thead th {\n",
       "        text-align: right;\n",
       "    }\n",
       "</style>\n",
       "<table border=\"1\" class=\"dataframe\">\n",
       "  <thead>\n",
       "    <tr style=\"text-align: right;\">\n",
       "      <th></th>\n",
       "      <th>ID</th>\n",
       "      <th>name</th>\n",
       "      <th>category</th>\n",
       "      <th>main_category</th>\n",
       "      <th>currency</th>\n",
       "      <th>deadline</th>\n",
       "      <th>launched</th>\n",
       "      <th>state</th>\n",
       "      <th>backers</th>\n",
       "      <th>country</th>\n",
       "      <th>usd_pledged_real</th>\n",
       "      <th>usd_goal_real</th>\n",
       "      <th>number_of_days</th>\n",
       "      <th>pledged_goal_diff</th>\n",
       "      <th>classes_state</th>\n",
       "    </tr>\n",
       "  </thead>\n",
       "  <tbody>\n",
       "    <tr>\n",
       "      <th>0</th>\n",
       "      <td>1000002330</td>\n",
       "      <td>The Songs of Adelaide &amp; Abullah</td>\n",
       "      <td>Poetry</td>\n",
       "      <td>Publishing</td>\n",
       "      <td>GBP</td>\n",
       "      <td>2015-10-09 00:00:00</td>\n",
       "      <td>2015-08-11 12:12:28</td>\n",
       "      <td>failed</td>\n",
       "      <td>0</td>\n",
       "      <td>GB</td>\n",
       "      <td>0.0</td>\n",
       "      <td>1533.95</td>\n",
       "      <td>58</td>\n",
       "      <td>-1533.95</td>\n",
       "      <td>0</td>\n",
       "    </tr>\n",
       "    <tr>\n",
       "      <th>1</th>\n",
       "      <td>1000003930</td>\n",
       "      <td>Greeting From Earth: ZGAC Arts Capsule For ET</td>\n",
       "      <td>Narrative Film</td>\n",
       "      <td>Film &amp; Video</td>\n",
       "      <td>USD</td>\n",
       "      <td>2017-11-01 00:00:00</td>\n",
       "      <td>2017-09-02 04:43:57</td>\n",
       "      <td>failed</td>\n",
       "      <td>15</td>\n",
       "      <td>US</td>\n",
       "      <td>2421.0</td>\n",
       "      <td>30000.00</td>\n",
       "      <td>59</td>\n",
       "      <td>-27579.00</td>\n",
       "      <td>0</td>\n",
       "    </tr>\n",
       "    <tr>\n",
       "      <th>2</th>\n",
       "      <td>1000004038</td>\n",
       "      <td>Where is Hank?</td>\n",
       "      <td>Narrative Film</td>\n",
       "      <td>Film &amp; Video</td>\n",
       "      <td>USD</td>\n",
       "      <td>2013-02-26 00:00:00</td>\n",
       "      <td>2013-01-12 00:20:50</td>\n",
       "      <td>failed</td>\n",
       "      <td>3</td>\n",
       "      <td>US</td>\n",
       "      <td>220.0</td>\n",
       "      <td>45000.00</td>\n",
       "      <td>44</td>\n",
       "      <td>-44780.00</td>\n",
       "      <td>0</td>\n",
       "    </tr>\n",
       "    <tr>\n",
       "      <th>3</th>\n",
       "      <td>1000007540</td>\n",
       "      <td>ToshiCapital Rekordz Needs Help to Complete Album</td>\n",
       "      <td>Music</td>\n",
       "      <td>Music</td>\n",
       "      <td>USD</td>\n",
       "      <td>2012-04-16 00:00:00</td>\n",
       "      <td>2012-03-17 03:24:11</td>\n",
       "      <td>failed</td>\n",
       "      <td>1</td>\n",
       "      <td>US</td>\n",
       "      <td>1.0</td>\n",
       "      <td>5000.00</td>\n",
       "      <td>29</td>\n",
       "      <td>-4999.00</td>\n",
       "      <td>0</td>\n",
       "    </tr>\n",
       "    <tr>\n",
       "      <th>4</th>\n",
       "      <td>1000014025</td>\n",
       "      <td>Monarch Espresso Bar</td>\n",
       "      <td>Restaurants</td>\n",
       "      <td>Food</td>\n",
       "      <td>USD</td>\n",
       "      <td>2016-04-01 00:00:00</td>\n",
       "      <td>2016-02-26 13:38:27</td>\n",
       "      <td>successful</td>\n",
       "      <td>224</td>\n",
       "      <td>US</td>\n",
       "      <td>52375.0</td>\n",
       "      <td>50000.00</td>\n",
       "      <td>34</td>\n",
       "      <td>2375.00</td>\n",
       "      <td>1</td>\n",
       "    </tr>\n",
       "  </tbody>\n",
       "</table>\n",
       "</div>"
      ],
      "text/plain": [
       "           ID                                               name  \\\n",
       "0  1000002330                    The Songs of Adelaide & Abullah   \n",
       "1  1000003930      Greeting From Earth: ZGAC Arts Capsule For ET   \n",
       "2  1000004038                                     Where is Hank?   \n",
       "3  1000007540  ToshiCapital Rekordz Needs Help to Complete Album   \n",
       "4  1000014025                               Monarch Espresso Bar   \n",
       "\n",
       "         category main_category currency             deadline  \\\n",
       "0          Poetry    Publishing      GBP  2015-10-09 00:00:00   \n",
       "1  Narrative Film  Film & Video      USD  2017-11-01 00:00:00   \n",
       "2  Narrative Film  Film & Video      USD  2013-02-26 00:00:00   \n",
       "3           Music         Music      USD  2012-04-16 00:00:00   \n",
       "4     Restaurants          Food      USD  2016-04-01 00:00:00   \n",
       "\n",
       "              launched       state  backers country  usd_pledged_real  \\\n",
       "0  2015-08-11 12:12:28      failed        0      GB               0.0   \n",
       "1  2017-09-02 04:43:57      failed       15      US            2421.0   \n",
       "2  2013-01-12 00:20:50      failed        3      US             220.0   \n",
       "3  2012-03-17 03:24:11      failed        1      US               1.0   \n",
       "4  2016-02-26 13:38:27  successful      224      US           52375.0   \n",
       "\n",
       "   usd_goal_real  number_of_days  pledged_goal_diff  classes_state  \n",
       "0        1533.95              58           -1533.95              0  \n",
       "1       30000.00              59          -27579.00              0  \n",
       "2       45000.00              44          -44780.00              0  \n",
       "3        5000.00              29           -4999.00              0  \n",
       "4       50000.00              34            2375.00              1  "
      ]
     },
     "execution_count": 3,
     "metadata": {},
     "output_type": "execute_result"
    }
   ],
   "source": [
    "kick.head()"
   ]
  },
  {
   "cell_type": "code",
   "execution_count": 4,
   "metadata": {},
   "outputs": [
    {
     "data": {
      "text/html": [
       "<div>\n",
       "<style scoped>\n",
       "    .dataframe tbody tr th:only-of-type {\n",
       "        vertical-align: middle;\n",
       "    }\n",
       "\n",
       "    .dataframe tbody tr th {\n",
       "        vertical-align: top;\n",
       "    }\n",
       "\n",
       "    .dataframe thead th {\n",
       "        text-align: right;\n",
       "    }\n",
       "</style>\n",
       "<table border=\"1\" class=\"dataframe\">\n",
       "  <thead>\n",
       "    <tr style=\"text-align: right;\">\n",
       "      <th></th>\n",
       "      <th>ID</th>\n",
       "      <th>backers</th>\n",
       "      <th>usd_pledged_real</th>\n",
       "      <th>usd_goal_real</th>\n",
       "      <th>number_of_days</th>\n",
       "      <th>pledged_goal_diff</th>\n",
       "      <th>classes_state</th>\n",
       "    </tr>\n",
       "  </thead>\n",
       "  <tbody>\n",
       "    <tr>\n",
       "      <th>count</th>\n",
       "      <td>3.314620e+05</td>\n",
       "      <td>331462.000000</td>\n",
       "      <td>3.314620e+05</td>\n",
       "      <td>3.314620e+05</td>\n",
       "      <td>331462.000000</td>\n",
       "      <td>3.314620e+05</td>\n",
       "      <td>331462.000000</td>\n",
       "    </tr>\n",
       "    <tr>\n",
       "      <th>mean</th>\n",
       "      <td>1.074288e+09</td>\n",
       "      <td>116.456315</td>\n",
       "      <td>9.939989e+03</td>\n",
       "      <td>4.152286e+04</td>\n",
       "      <td>32.955938</td>\n",
       "      <td>-3.158287e+04</td>\n",
       "      <td>0.403820</td>\n",
       "    </tr>\n",
       "    <tr>\n",
       "      <th>std</th>\n",
       "      <td>6.191996e+08</td>\n",
       "      <td>965.732911</td>\n",
       "      <td>9.664561e+04</td>\n",
       "      <td>1.109279e+06</td>\n",
       "      <td>12.714064</td>\n",
       "      <td>1.112869e+06</td>\n",
       "      <td>0.490663</td>\n",
       "    </tr>\n",
       "    <tr>\n",
       "      <th>min</th>\n",
       "      <td>5.971000e+03</td>\n",
       "      <td>0.000000</td>\n",
       "      <td>0.000000e+00</td>\n",
       "      <td>1.000000e-02</td>\n",
       "      <td>0.000000</td>\n",
       "      <td>-1.663614e+08</td>\n",
       "      <td>0.000000</td>\n",
       "    </tr>\n",
       "    <tr>\n",
       "      <th>25%</th>\n",
       "      <td>5.371698e+08</td>\n",
       "      <td>2.000000</td>\n",
       "      <td>5.000000e+01</td>\n",
       "      <td>2.000000e+03</td>\n",
       "      <td>29.000000</td>\n",
       "      <td>-9.224000e+03</td>\n",
       "      <td>0.000000</td>\n",
       "    </tr>\n",
       "    <tr>\n",
       "      <th>50%</th>\n",
       "      <td>1.074686e+09</td>\n",
       "      <td>15.000000</td>\n",
       "      <td>7.875000e+02</td>\n",
       "      <td>5.000000e+03</td>\n",
       "      <td>29.000000</td>\n",
       "      <td>-1.263095e+03</td>\n",
       "      <td>0.000000</td>\n",
       "    </tr>\n",
       "    <tr>\n",
       "      <th>75%</th>\n",
       "      <td>1.609865e+09</td>\n",
       "      <td>63.000000</td>\n",
       "      <td>4.609000e+03</td>\n",
       "      <td>1.500000e+04</td>\n",
       "      <td>35.000000</td>\n",
       "      <td>2.980750e+02</td>\n",
       "      <td>1.000000</td>\n",
       "    </tr>\n",
       "    <tr>\n",
       "      <th>max</th>\n",
       "      <td>2.147476e+09</td>\n",
       "      <td>219382.000000</td>\n",
       "      <td>2.033899e+07</td>\n",
       "      <td>1.663614e+08</td>\n",
       "      <td>91.000000</td>\n",
       "      <td>1.983899e+07</td>\n",
       "      <td>1.000000</td>\n",
       "    </tr>\n",
       "  </tbody>\n",
       "</table>\n",
       "</div>"
      ],
      "text/plain": [
       "                 ID        backers  usd_pledged_real  usd_goal_real  \\\n",
       "count  3.314620e+05  331462.000000      3.314620e+05   3.314620e+05   \n",
       "mean   1.074288e+09     116.456315      9.939989e+03   4.152286e+04   \n",
       "std    6.191996e+08     965.732911      9.664561e+04   1.109279e+06   \n",
       "min    5.971000e+03       0.000000      0.000000e+00   1.000000e-02   \n",
       "25%    5.371698e+08       2.000000      5.000000e+01   2.000000e+03   \n",
       "50%    1.074686e+09      15.000000      7.875000e+02   5.000000e+03   \n",
       "75%    1.609865e+09      63.000000      4.609000e+03   1.500000e+04   \n",
       "max    2.147476e+09  219382.000000      2.033899e+07   1.663614e+08   \n",
       "\n",
       "       number_of_days  pledged_goal_diff  classes_state  \n",
       "count   331462.000000       3.314620e+05  331462.000000  \n",
       "mean        32.955938      -3.158287e+04       0.403820  \n",
       "std         12.714064       1.112869e+06       0.490663  \n",
       "min          0.000000      -1.663614e+08       0.000000  \n",
       "25%         29.000000      -9.224000e+03       0.000000  \n",
       "50%         29.000000      -1.263095e+03       0.000000  \n",
       "75%         35.000000       2.980750e+02       1.000000  \n",
       "max         91.000000       1.983899e+07       1.000000  "
      ]
     },
     "execution_count": 4,
     "metadata": {},
     "output_type": "execute_result"
    }
   ],
   "source": [
    "kick.describe()"
   ]
  },
  {
   "cell_type": "code",
   "execution_count": 5,
   "metadata": {},
   "outputs": [
    {
     "data": {
      "text/plain": [
       "<matplotlib.axes._subplots.AxesSubplot at 0x1a1ad2f908>"
      ]
     },
     "execution_count": 5,
     "metadata": {},
     "output_type": "execute_result"
    },
    {
     "data": {
      "image/png": "[encoded data removed]",
      "text/plain": [
       "<Figure size 1440x720 with 5 Axes>"
      ]
     },
     "metadata": {
      "needs_background": "light"
     },
     "output_type": "display_data"
    }
   ],
   "source": [
    "fig = plt.figure(figsize = (20,10))\n",
    "\n",
    "ax1 = fig.add_subplot(2,3,1)\n",
    "ax2 = fig.add_subplot(2,3,2)\n",
    "ax3 = fig.add_subplot(2,3,3)\n",
    "ax4 = fig.add_subplot(2,3,4)\n",
    "ax5 = fig.add_subplot(2,3,5)\n",
    "\n",
    "sns.distplot(kick['usd_pledged_real'], color = 'red', ax = ax1)\n",
    "sns.distplot(kick['usd_goal_real'], color = 'blue', ax = ax2)\n",
    "sns.distplot(kick['number_of_days'], color = 'green', ax = ax3)\n",
    "sns.distplot(kick['pledged_goal_diff'], color = 'blue', ax = ax4)\n",
    "sns.distplot(kick['backers'], color = 'purple', ax = ax5)\n"
   ]
  },
  {
   "cell_type": "markdown",
   "metadata": {},
   "source": [
    "clearly from the above plot we have to log transform our continuous values for prediction\n",
    "We have decided to not use the varaibles - usd_pledged, pledged_goal_diff and backers as they will cause data leakage"
   ]
  },
  {
   "cell_type": "code",
   "execution_count": 6,
   "metadata": {},
   "outputs": [],
   "source": [
    "log_kick = kick.loc[kick['usd_goal_real'] > 1]"
   ]
  },
  {
   "cell_type": "code",
   "execution_count": 7,
   "metadata": {},
   "outputs": [
    {
     "data": {
      "text/plain": [
       "0    197571\n",
       "1    133579\n",
       "Name: classes_state, dtype: int64"
      ]
     },
     "execution_count": 7,
     "metadata": {},
     "output_type": "execute_result"
    }
   ],
   "source": [
    "log_kick.classes_state.value_counts()"
   ]
  },
  {
   "cell_type": "code",
   "execution_count": 8,
   "metadata": {},
   "outputs": [
    {
     "data": {
      "text/html": [
       "<div>\n",
       "<style scoped>\n",
       "    .dataframe tbody tr th:only-of-type {\n",
       "        vertical-align: middle;\n",
       "    }\n",
       "\n",
       "    .dataframe tbody tr th {\n",
       "        vertical-align: top;\n",
       "    }\n",
       "\n",
       "    .dataframe thead th {\n",
       "        text-align: right;\n",
       "    }\n",
       "</style>\n",
       "<table border=\"1\" class=\"dataframe\">\n",
       "  <thead>\n",
       "    <tr style=\"text-align: right;\">\n",
       "      <th></th>\n",
       "      <th>ID</th>\n",
       "      <th>backers</th>\n",
       "      <th>usd_pledged_real</th>\n",
       "      <th>usd_goal_real</th>\n",
       "      <th>number_of_days</th>\n",
       "      <th>pledged_goal_diff</th>\n",
       "      <th>classes_state</th>\n",
       "    </tr>\n",
       "  </thead>\n",
       "  <tbody>\n",
       "    <tr>\n",
       "      <th>count</th>\n",
       "      <td>3.311500e+05</td>\n",
       "      <td>331150.000000</td>\n",
       "      <td>3.311500e+05</td>\n",
       "      <td>3.311500e+05</td>\n",
       "      <td>331150.000000</td>\n",
       "      <td>3.311500e+05</td>\n",
       "      <td>331150.000000</td>\n",
       "    </tr>\n",
       "    <tr>\n",
       "      <th>mean</th>\n",
       "      <td>1.074401e+09</td>\n",
       "      <td>116.496340</td>\n",
       "      <td>9.947149e+03</td>\n",
       "      <td>4.156198e+04</td>\n",
       "      <td>32.959224</td>\n",
       "      <td>-3.161483e+04</td>\n",
       "      <td>0.403379</td>\n",
       "    </tr>\n",
       "    <tr>\n",
       "      <th>std</th>\n",
       "      <td>6.192124e+08</td>\n",
       "      <td>966.141781</td>\n",
       "      <td>9.669047e+04</td>\n",
       "      <td>1.109800e+06</td>\n",
       "      <td>12.709896</td>\n",
       "      <td>1.113393e+06</td>\n",
       "      <td>0.490576</td>\n",
       "    </tr>\n",
       "    <tr>\n",
       "      <th>min</th>\n",
       "      <td>5.971000e+03</td>\n",
       "      <td>0.000000</td>\n",
       "      <td>0.000000e+00</td>\n",
       "      <td>1.040000e+00</td>\n",
       "      <td>0.000000</td>\n",
       "      <td>-1.663614e+08</td>\n",
       "      <td>0.000000</td>\n",
       "    </tr>\n",
       "    <tr>\n",
       "      <th>25%</th>\n",
       "      <td>5.372342e+08</td>\n",
       "      <td>2.000000</td>\n",
       "      <td>5.000000e+01</td>\n",
       "      <td>2.000000e+03</td>\n",
       "      <td>29.000000</td>\n",
       "      <td>-9.240000e+03</td>\n",
       "      <td>0.000000</td>\n",
       "    </tr>\n",
       "    <tr>\n",
       "      <th>50%</th>\n",
       "      <td>1.074887e+09</td>\n",
       "      <td>15.000000</td>\n",
       "      <td>7.900000e+02</td>\n",
       "      <td>5.000000e+03</td>\n",
       "      <td>29.000000</td>\n",
       "      <td>-1.275000e+03</td>\n",
       "      <td>0.000000</td>\n",
       "    </tr>\n",
       "    <tr>\n",
       "      <th>75%</th>\n",
       "      <td>1.610028e+09</td>\n",
       "      <td>63.000000</td>\n",
       "      <td>4.614000e+03</td>\n",
       "      <td>1.500000e+04</td>\n",
       "      <td>35.000000</td>\n",
       "      <td>2.970150e+02</td>\n",
       "      <td>1.000000</td>\n",
       "    </tr>\n",
       "    <tr>\n",
       "      <th>max</th>\n",
       "      <td>2.147476e+09</td>\n",
       "      <td>219382.000000</td>\n",
       "      <td>2.033899e+07</td>\n",
       "      <td>1.663614e+08</td>\n",
       "      <td>91.000000</td>\n",
       "      <td>1.983899e+07</td>\n",
       "      <td>1.000000</td>\n",
       "    </tr>\n",
       "  </tbody>\n",
       "</table>\n",
       "</div>"
      ],
      "text/plain": [
       "                 ID        backers  usd_pledged_real  usd_goal_real  \\\n",
       "count  3.311500e+05  331150.000000      3.311500e+05   3.311500e+05   \n",
       "mean   1.074401e+09     116.496340      9.947149e+03   4.156198e+04   \n",
       "std    6.192124e+08     966.141781      9.669047e+04   1.109800e+06   \n",
       "min    5.971000e+03       0.000000      0.000000e+00   1.040000e+00   \n",
       "25%    5.372342e+08       2.000000      5.000000e+01   2.000000e+03   \n",
       "50%    1.074887e+09      15.000000      7.900000e+02   5.000000e+03   \n",
       "75%    1.610028e+09      63.000000      4.614000e+03   1.500000e+04   \n",
       "max    2.147476e+09  219382.000000      2.033899e+07   1.663614e+08   \n",
       "\n",
       "       number_of_days  pledged_goal_diff  classes_state  \n",
       "count   331150.000000       3.311500e+05  331150.000000  \n",
       "mean        32.959224      -3.161483e+04       0.403379  \n",
       "std         12.709896       1.113393e+06       0.490576  \n",
       "min          0.000000      -1.663614e+08       0.000000  \n",
       "25%         29.000000      -9.240000e+03       0.000000  \n",
       "50%         29.000000      -1.275000e+03       0.000000  \n",
       "75%         35.000000       2.970150e+02       1.000000  \n",
       "max         91.000000       1.983899e+07       1.000000  "
      ]
     },
     "execution_count": 8,
     "metadata": {},
     "output_type": "execute_result"
    }
   ],
   "source": [
    "log_kick.describe()"
   ]
  },
  {
   "cell_type": "code",
   "execution_count": 9,
   "metadata": {},
   "outputs": [],
   "source": [
    "distrib = np.log(log_kick.usd_goal_real)"
   ]
  },
  {
   "cell_type": "code",
   "execution_count": 10,
   "metadata": {},
   "outputs": [
    {
     "data": {
      "text/plain": [
       "<matplotlib.axes._subplots.AxesSubplot at 0x1a1ae94710>"
      ]
     },
     "execution_count": 10,
     "metadata": {},
     "output_type": "execute_result"
    },
    {
     "data": {
      "image/png": "[encoded data removed]",
      "text/plain": [
       "<Figure size 432x288 with 1 Axes>"
      ]
     },
     "metadata": {
      "needs_background": "light"
     },
     "output_type": "display_data"
    }
   ],
   "source": [
    "sns.distplot(distrib)"
   ]
  },
  {
   "cell_type": "markdown",
   "metadata": {},
   "source": [
    "Now we can see from the above plot that we have somewhat of a normal distribution"
   ]
  },
  {
   "cell_type": "markdown",
   "metadata": {},
   "source": [
    "For the next predictor variable, we use the same method on the number of days."
   ]
  },
  {
   "cell_type": "code",
   "execution_count": 11,
   "metadata": {},
   "outputs": [
    {
     "data": {
      "text/plain": [
       "<matplotlib.axes._subplots.AxesSubplot at 0x1a1af99cf8>"
      ]
     },
     "execution_count": 11,
     "metadata": {},
     "output_type": "execute_result"
    },
    {
     "data": {
      "image/png": "[encoded data removed]",
      "text/plain": [
       "<Figure size 432x288 with 1 Axes>"
      ]
     },
     "metadata": {
      "needs_background": "light"
     },
     "output_type": "display_data"
    }
   ],
   "source": [
    "sns.distplot(log_kick['number_of_days'])"
   ]
  },
  {
   "cell_type": "markdown",
   "metadata": {},
   "source": [
    "The distribution on these variables is not to bad, so we are not going to log-transform this continuous variable.\n",
    "The next step is to scale our continous variables but before then let's sort the categorical variables"
   ]
  },
  {
   "cell_type": "code",
   "execution_count": 12,
   "metadata": {},
   "outputs": [
    {
     "data": {
      "text/html": [
       "<div>\n",
       "<style scoped>\n",
       "    .dataframe tbody tr th:only-of-type {\n",
       "        vertical-align: middle;\n",
       "    }\n",
       "\n",
       "    .dataframe tbody tr th {\n",
       "        vertical-align: top;\n",
       "    }\n",
       "\n",
       "    .dataframe thead th {\n",
       "        text-align: right;\n",
       "    }\n",
       "</style>\n",
       "<table border=\"1\" class=\"dataframe\">\n",
       "  <thead>\n",
       "    <tr style=\"text-align: right;\">\n",
       "      <th></th>\n",
       "      <th>ID</th>\n",
       "      <th>name</th>\n",
       "      <th>category</th>\n",
       "      <th>main_category</th>\n",
       "      <th>currency</th>\n",
       "      <th>deadline</th>\n",
       "      <th>launched</th>\n",
       "      <th>state</th>\n",
       "      <th>backers</th>\n",
       "      <th>country</th>\n",
       "      <th>usd_pledged_real</th>\n",
       "      <th>usd_goal_real</th>\n",
       "      <th>number_of_days</th>\n",
       "      <th>pledged_goal_diff</th>\n",
       "      <th>classes_state</th>\n",
       "    </tr>\n",
       "  </thead>\n",
       "  <tbody>\n",
       "    <tr>\n",
       "      <th>0</th>\n",
       "      <td>1000002330</td>\n",
       "      <td>The Songs of Adelaide &amp; Abullah</td>\n",
       "      <td>Poetry</td>\n",
       "      <td>Publishing</td>\n",
       "      <td>GBP</td>\n",
       "      <td>2015-10-09 00:00:00</td>\n",
       "      <td>2015-08-11 12:12:28</td>\n",
       "      <td>failed</td>\n",
       "      <td>0</td>\n",
       "      <td>GB</td>\n",
       "      <td>0.0</td>\n",
       "      <td>1533.95</td>\n",
       "      <td>58</td>\n",
       "      <td>-1533.95</td>\n",
       "      <td>0</td>\n",
       "    </tr>\n",
       "    <tr>\n",
       "      <th>1</th>\n",
       "      <td>1000003930</td>\n",
       "      <td>Greeting From Earth: ZGAC Arts Capsule For ET</td>\n",
       "      <td>Narrative Film</td>\n",
       "      <td>Film &amp; Video</td>\n",
       "      <td>USD</td>\n",
       "      <td>2017-11-01 00:00:00</td>\n",
       "      <td>2017-09-02 04:43:57</td>\n",
       "      <td>failed</td>\n",
       "      <td>15</td>\n",
       "      <td>US</td>\n",
       "      <td>2421.0</td>\n",
       "      <td>30000.00</td>\n",
       "      <td>59</td>\n",
       "      <td>-27579.00</td>\n",
       "      <td>0</td>\n",
       "    </tr>\n",
       "    <tr>\n",
       "      <th>2</th>\n",
       "      <td>1000004038</td>\n",
       "      <td>Where is Hank?</td>\n",
       "      <td>Narrative Film</td>\n",
       "      <td>Film &amp; Video</td>\n",
       "      <td>USD</td>\n",
       "      <td>2013-02-26 00:00:00</td>\n",
       "      <td>2013-01-12 00:20:50</td>\n",
       "      <td>failed</td>\n",
       "      <td>3</td>\n",
       "      <td>US</td>\n",
       "      <td>220.0</td>\n",
       "      <td>45000.00</td>\n",
       "      <td>44</td>\n",
       "      <td>-44780.00</td>\n",
       "      <td>0</td>\n",
       "    </tr>\n",
       "    <tr>\n",
       "      <th>3</th>\n",
       "      <td>1000007540</td>\n",
       "      <td>ToshiCapital Rekordz Needs Help to Complete Album</td>\n",
       "      <td>Music</td>\n",
       "      <td>Music</td>\n",
       "      <td>USD</td>\n",
       "      <td>2012-04-16 00:00:00</td>\n",
       "      <td>2012-03-17 03:24:11</td>\n",
       "      <td>failed</td>\n",
       "      <td>1</td>\n",
       "      <td>US</td>\n",
       "      <td>1.0</td>\n",
       "      <td>5000.00</td>\n",
       "      <td>29</td>\n",
       "      <td>-4999.00</td>\n",
       "      <td>0</td>\n",
       "    </tr>\n",
       "    <tr>\n",
       "      <th>4</th>\n",
       "      <td>1000014025</td>\n",
       "      <td>Monarch Espresso Bar</td>\n",
       "      <td>Restaurants</td>\n",
       "      <td>Food</td>\n",
       "      <td>USD</td>\n",
       "      <td>2016-04-01 00:00:00</td>\n",
       "      <td>2016-02-26 13:38:27</td>\n",
       "      <td>successful</td>\n",
       "      <td>224</td>\n",
       "      <td>US</td>\n",
       "      <td>52375.0</td>\n",
       "      <td>50000.00</td>\n",
       "      <td>34</td>\n",
       "      <td>2375.00</td>\n",
       "      <td>1</td>\n",
       "    </tr>\n",
       "  </tbody>\n",
       "</table>\n",
       "</div>"
      ],
      "text/plain": [
       "           ID                                               name  \\\n",
       "0  1000002330                    The Songs of Adelaide & Abullah   \n",
       "1  1000003930      Greeting From Earth: ZGAC Arts Capsule For ET   \n",
       "2  1000004038                                     Where is Hank?   \n",
       "3  1000007540  ToshiCapital Rekordz Needs Help to Complete Album   \n",
       "4  1000014025                               Monarch Espresso Bar   \n",
       "\n",
       "         category main_category currency             deadline  \\\n",
       "0          Poetry    Publishing      GBP  2015-10-09 00:00:00   \n",
       "1  Narrative Film  Film & Video      USD  2017-11-01 00:00:00   \n",
       "2  Narrative Film  Film & Video      USD  2013-02-26 00:00:00   \n",
       "3           Music         Music      USD  2012-04-16 00:00:00   \n",
       "4     Restaurants          Food      USD  2016-04-01 00:00:00   \n",
       "\n",
       "              launched       state  backers country  usd_pledged_real  \\\n",
       "0  2015-08-11 12:12:28      failed        0      GB               0.0   \n",
       "1  2017-09-02 04:43:57      failed       15      US            2421.0   \n",
       "2  2013-01-12 00:20:50      failed        3      US             220.0   \n",
       "3  2012-03-17 03:24:11      failed        1      US               1.0   \n",
       "4  2016-02-26 13:38:27  successful      224      US           52375.0   \n",
       "\n",
       "   usd_goal_real  number_of_days  pledged_goal_diff  classes_state  \n",
       "0        1533.95              58           -1533.95              0  \n",
       "1       30000.00              59          -27579.00              0  \n",
       "2       45000.00              44          -44780.00              0  \n",
       "3        5000.00              29           -4999.00              0  \n",
       "4       50000.00              34            2375.00              1  "
      ]
     },
     "execution_count": 12,
     "metadata": {},
     "output_type": "execute_result"
    }
   ],
   "source": [
    "log_kick.head()"
   ]
  },
  {
   "cell_type": "markdown",
   "metadata": {},
   "source": [
    "using get dummies for the categorical variables."
   ]
  },
  {
   "cell_type": "code",
   "execution_count": 13,
   "metadata": {},
   "outputs": [],
   "source": [
    "relevant_columns = ['category', 'main_category', 'currency', 'country']\n",
    "cat_kick = log_kick[relevant_columns]\n",
    "dummy_dataframe = pd.get_dummies(cat_kick, drop_first=True)\n",
    "continuous_df = log_kick[['usd_goal_real', 'number_of_days']]"
   ]
  },
  {
   "cell_type": "code",
   "execution_count": 14,
   "metadata": {},
   "outputs": [],
   "source": [
    "predictors = pd.concat([continuous_df, dummy_dataframe],axis =1)"
   ]
  },
  {
   "cell_type": "code",
   "execution_count": 15,
   "metadata": {},
   "outputs": [
    {
     "data": {
      "text/html": [
       "<div>\n",
       "<style scoped>\n",
       "    .dataframe tbody tr th:only-of-type {\n",
       "        vertical-align: middle;\n",
       "    }\n",
       "\n",
       "    .dataframe tbody tr th {\n",
       "        vertical-align: top;\n",
       "    }\n",
       "\n",
       "    .dataframe thead th {\n",
       "        text-align: right;\n",
       "    }\n",
       "</style>\n",
       "<table border=\"1\" class=\"dataframe\">\n",
       "  <thead>\n",
       "    <tr style=\"text-align: right;\">\n",
       "      <th></th>\n",
       "      <th>usd_goal_real</th>\n",
       "      <th>number_of_days</th>\n",
       "      <th>category_Academic</th>\n",
       "      <th>category_Accessories</th>\n",
       "      <th>category_Action</th>\n",
       "      <th>category_Animals</th>\n",
       "      <th>category_Animation</th>\n",
       "      <th>category_Anthologies</th>\n",
       "      <th>category_Apparel</th>\n",
       "      <th>category_Apps</th>\n",
       "      <th>...</th>\n",
       "      <th>country_IT</th>\n",
       "      <th>country_JP</th>\n",
       "      <th>country_LU</th>\n",
       "      <th>country_MX</th>\n",
       "      <th>country_NL</th>\n",
       "      <th>country_NO</th>\n",
       "      <th>country_NZ</th>\n",
       "      <th>country_SE</th>\n",
       "      <th>country_SG</th>\n",
       "      <th>country_US</th>\n",
       "    </tr>\n",
       "  </thead>\n",
       "  <tbody>\n",
       "    <tr>\n",
       "      <th>0</th>\n",
       "      <td>1533.95</td>\n",
       "      <td>58</td>\n",
       "      <td>0</td>\n",
       "      <td>0</td>\n",
       "      <td>0</td>\n",
       "      <td>0</td>\n",
       "      <td>0</td>\n",
       "      <td>0</td>\n",
       "      <td>0</td>\n",
       "      <td>0</td>\n",
       "      <td>...</td>\n",
       "      <td>0</td>\n",
       "      <td>0</td>\n",
       "      <td>0</td>\n",
       "      <td>0</td>\n",
       "      <td>0</td>\n",
       "      <td>0</td>\n",
       "      <td>0</td>\n",
       "      <td>0</td>\n",
       "      <td>0</td>\n",
       "      <td>0</td>\n",
       "    </tr>\n",
       "    <tr>\n",
       "      <th>1</th>\n",
       "      <td>30000.00</td>\n",
       "      <td>59</td>\n",
       "      <td>0</td>\n",
       "      <td>0</td>\n",
       "      <td>0</td>\n",
       "      <td>0</td>\n",
       "      <td>0</td>\n",
       "      <td>0</td>\n",
       "      <td>0</td>\n",
       "      <td>0</td>\n",
       "      <td>...</td>\n",
       "      <td>0</td>\n",
       "      <td>0</td>\n",
       "      <td>0</td>\n",
       "      <td>0</td>\n",
       "      <td>0</td>\n",
       "      <td>0</td>\n",
       "      <td>0</td>\n",
       "      <td>0</td>\n",
       "      <td>0</td>\n",
       "      <td>1</td>\n",
       "    </tr>\n",
       "    <tr>\n",
       "      <th>2</th>\n",
       "      <td>45000.00</td>\n",
       "      <td>44</td>\n",
       "      <td>0</td>\n",
       "      <td>0</td>\n",
       "      <td>0</td>\n",
       "      <td>0</td>\n",
       "      <td>0</td>\n",
       "      <td>0</td>\n",
       "      <td>0</td>\n",
       "      <td>0</td>\n",
       "      <td>...</td>\n",
       "      <td>0</td>\n",
       "      <td>0</td>\n",
       "      <td>0</td>\n",
       "      <td>0</td>\n",
       "      <td>0</td>\n",
       "      <td>0</td>\n",
       "      <td>0</td>\n",
       "      <td>0</td>\n",
       "      <td>0</td>\n",
       "      <td>1</td>\n",
       "    </tr>\n",
       "    <tr>\n",
       "      <th>3</th>\n",
       "      <td>5000.00</td>\n",
       "      <td>29</td>\n",
       "      <td>0</td>\n",
       "      <td>0</td>\n",
       "      <td>0</td>\n",
       "      <td>0</td>\n",
       "      <td>0</td>\n",
       "      <td>0</td>\n",
       "      <td>0</td>\n",
       "      <td>0</td>\n",
       "      <td>...</td>\n",
       "      <td>0</td>\n",
       "      <td>0</td>\n",
       "      <td>0</td>\n",
       "      <td>0</td>\n",
       "      <td>0</td>\n",
       "      <td>0</td>\n",
       "      <td>0</td>\n",
       "      <td>0</td>\n",
       "      <td>0</td>\n",
       "      <td>1</td>\n",
       "    </tr>\n",
       "    <tr>\n",
       "      <th>4</th>\n",
       "      <td>50000.00</td>\n",
       "      <td>34</td>\n",
       "      <td>0</td>\n",
       "      <td>0</td>\n",
       "      <td>0</td>\n",
       "      <td>0</td>\n",
       "      <td>0</td>\n",
       "      <td>0</td>\n",
       "      <td>0</td>\n",
       "      <td>0</td>\n",
       "      <td>...</td>\n",
       "      <td>0</td>\n",
       "      <td>0</td>\n",
       "      <td>0</td>\n",
       "      <td>0</td>\n",
       "      <td>0</td>\n",
       "      <td>0</td>\n",
       "      <td>0</td>\n",
       "      <td>0</td>\n",
       "      <td>0</td>\n",
       "      <td>1</td>\n",
       "    </tr>\n",
       "  </tbody>\n",
       "</table>\n",
       "<p>5 rows × 208 columns</p>\n",
       "</div>"
      ],
      "text/plain": [
       "   usd_goal_real  number_of_days  category_Academic  category_Accessories  \\\n",
       "0        1533.95              58                  0                     0   \n",
       "1       30000.00              59                  0                     0   \n",
       "2       45000.00              44                  0                     0   \n",
       "3        5000.00              29                  0                     0   \n",
       "4       50000.00              34                  0                     0   \n",
       "\n",
       "   category_Action  category_Animals  category_Animation  \\\n",
       "0                0                 0                   0   \n",
       "1                0                 0                   0   \n",
       "2                0                 0                   0   \n",
       "3                0                 0                   0   \n",
       "4                0                 0                   0   \n",
       "\n",
       "   category_Anthologies  category_Apparel  category_Apps  ...  country_IT  \\\n",
       "0                     0                 0              0  ...           0   \n",
       "1                     0                 0              0  ...           0   \n",
       "2                     0                 0              0  ...           0   \n",
       "3                     0                 0              0  ...           0   \n",
       "4                     0                 0              0  ...           0   \n",
       "\n",
       "   country_JP  country_LU  country_MX  country_NL  country_NO  country_NZ  \\\n",
       "0           0           0           0           0           0           0   \n",
       "1           0           0           0           0           0           0   \n",
       "2           0           0           0           0           0           0   \n",
       "3           0           0           0           0           0           0   \n",
       "4           0           0           0           0           0           0   \n",
       "\n",
       "   country_SE  country_SG  country_US  \n",
       "0           0           0           0  \n",
       "1           0           0           1  \n",
       "2           0           0           1  \n",
       "3           0           0           1  \n",
       "4           0           0           1  \n",
       "\n",
       "[5 rows x 208 columns]"
      ]
     },
     "execution_count": 15,
     "metadata": {},
     "output_type": "execute_result"
    }
   ],
   "source": [
    "predictors.head()"
   ]
  },
  {
   "cell_type": "code",
   "execution_count": 16,
   "metadata": {},
   "outputs": [],
   "source": [
    "target = log_kick['classes_state']"
   ]
  },
  {
   "cell_type": "markdown",
   "metadata": {},
   "source": [
    "Building logistic regression using statsmodels without train_test_split"
   ]
  },
  {
   "cell_type": "code",
   "execution_count": 17,
   "metadata": {},
   "outputs": [
    {
     "name": "stderr",
     "output_type": "stream",
     "text": [
      "/Users/yusufolodo/anaconda3/lib/python3.7/site-packages/numpy/core/fromnumeric.py:2389: FutureWarning: Method .ptp is deprecated and will be removed in a future version. Use numpy.ptp instead.\n",
      "  return ptp(axis=axis, out=out, **kwargs)\n"
     ]
    },
    {
     "name": "stdout",
     "output_type": "stream",
     "text": [
      "Optimization terminated successfully.\n",
      "         Current function value: 0.603452\n",
      "         Iterations 10\n"
     ]
    }
   ],
   "source": [
    "import statsmodels.api as sm\n",
    "X = sm.tools.add_constant(predictors)\n",
    "logit_model = sm.Logit(target, predictors)\n",
    "result = logit_model.fit()"
   ]
  },
  {
   "cell_type": "code",
   "execution_count": 18,
   "metadata": {},
   "outputs": [
    {
     "name": "stderr",
     "output_type": "stream",
     "text": [
      "/Users/yusufolodo/anaconda3/lib/python3.7/site-packages/statsmodels/base/model.py:1286: RuntimeWarning: invalid value encountered in sqrt\n",
      "  bse_ = np.sqrt(np.diag(self.cov_params()))\n",
      "/Users/yusufolodo/anaconda3/lib/python3.7/site-packages/scipy/stats/_distn_infrastructure.py:901: RuntimeWarning: invalid value encountered in greater\n",
      "  return (a < x) & (x < b)\n",
      "/Users/yusufolodo/anaconda3/lib/python3.7/site-packages/scipy/stats/_distn_infrastructure.py:901: RuntimeWarning: invalid value encountered in less\n",
      "  return (a < x) & (x < b)\n",
      "/Users/yusufolodo/anaconda3/lib/python3.7/site-packages/scipy/stats/_distn_infrastructure.py:1892: RuntimeWarning: invalid value encountered in less_equal\n",
      "  cond2 = cond0 & (x <= _a)\n"
     ]
    },
    {
     "data": {
      "text/html": [
       "<table class=\"simpletable\">\n",
       "<caption>Logit Regression Results</caption>\n",
       "<tr>\n",
       "  <th>Dep. Variable:</th>     <td>classes_state</td>  <th>  No. Observations:  </th>   <td>331150</td>   \n",
       "</tr>\n",
       "<tr>\n",
       "  <th>Model:</th>                 <td>Logit</td>      <th>  Df Residuals:      </th>   <td>330960</td>   \n",
       "</tr>\n",
       "<tr>\n",
       "  <th>Method:</th>                 <td>MLE</td>       <th>  Df Model:          </th>   <td>   189</td>   \n",
       "</tr>\n",
       "<tr>\n",
       "  <th>Date:</th>            <td>Wed, 11 Dec 2019</td> <th>  Pseudo R-squ.:     </th>   <td>0.1051</td>   \n",
       "</tr>\n",
       "<tr>\n",
       "  <th>Time:</th>                <td>16:04:33</td>     <th>  Log-Likelihood:    </th> <td>-1.9983e+05</td>\n",
       "</tr>\n",
       "<tr>\n",
       "  <th>converged:</th>             <td>True</td>       <th>  LL-Null:           </th> <td>-2.2331e+05</td>\n",
       "</tr>\n",
       "<tr>\n",
       "  <th>Covariance Type:</th>     <td>nonrobust</td>    <th>  LLR p-value:       </th>   <td> 0.000</td>   \n",
       "</tr>\n",
       "</table>\n",
       "<table class=\"simpletable\">\n",
       "<tr>\n",
       "               <td></td>                  <th>coef</th>     <th>std err</th>      <th>z</th>      <th>P>|z|</th>  <th>[0.025</th>    <th>0.975]</th>  \n",
       "</tr>\n",
       "<tr>\n",
       "  <th>usd_goal_real</th>               <td>-1.406e-05</td> <td> 2.14e-07</td> <td>  -65.600</td> <td> 0.000</td> <td>-1.45e-05</td> <td>-1.36e-05</td>\n",
       "</tr>\n",
       "<tr>\n",
       "  <th>number_of_days</th>              <td>   -0.0177</td> <td>    0.000</td> <td>  -56.056</td> <td> 0.000</td> <td>   -0.018</td> <td>   -0.017</td>\n",
       "</tr>\n",
       "<tr>\n",
       "  <th>category_Academic</th>           <td>   -0.4779</td> <td> 4.46e+05</td> <td>-1.07e-06</td> <td> 1.000</td> <td>-8.74e+05</td> <td> 8.74e+05</td>\n",
       "</tr>\n",
       "<tr>\n",
       "  <th>category_Accessories</th>        <td>    0.4520</td> <td> 7.03e+05</td> <td> 6.43e-07</td> <td> 1.000</td> <td>-1.38e+06</td> <td> 1.38e+06</td>\n",
       "</tr>\n",
       "<tr>\n",
       "  <th>category_Action</th>             <td>   -0.8932</td> <td>  4.5e+05</td> <td>-1.99e-06</td> <td> 1.000</td> <td>-8.82e+05</td> <td> 8.82e+05</td>\n",
       "</tr>\n",
       "<tr>\n",
       "  <th>category_Animals</th>            <td>   -0.1711</td> <td> 7.04e+05</td> <td>-2.43e-07</td> <td> 1.000</td> <td>-1.38e+06</td> <td> 1.38e+06</td>\n",
       "</tr>\n",
       "<tr>\n",
       "  <th>category_Animation</th>          <td>   -0.1729</td> <td>  4.5e+05</td> <td>-3.84e-07</td> <td> 1.000</td> <td>-8.82e+05</td> <td> 8.82e+05</td>\n",
       "</tr>\n",
       "<tr>\n",
       "  <th>category_Anthologies</th>        <td>    1.0477</td> <td> 4.51e+05</td> <td> 2.32e-06</td> <td> 1.000</td> <td>-8.85e+05</td> <td> 8.85e+05</td>\n",
       "</tr>\n",
       "<tr>\n",
       "  <th>category_Apparel</th>            <td>   -0.3202</td> <td> 7.01e+05</td> <td>-4.57e-07</td> <td> 1.000</td> <td>-1.37e+06</td> <td> 1.37e+06</td>\n",
       "</tr>\n",
       "<tr>\n",
       "  <th>category_Apps</th>               <td>   -2.3805</td> <td>    0.104</td> <td>  -22.966</td> <td> 0.000</td> <td>   -2.584</td> <td>   -2.177</td>\n",
       "</tr>\n",
       "<tr>\n",
       "  <th>category_Architecture</th>       <td>   -0.3028</td> <td> 4.67e+05</td> <td>-6.48e-07</td> <td> 1.000</td> <td>-9.16e+05</td> <td> 9.16e+05</td>\n",
       "</tr>\n",
       "<tr>\n",
       "  <th>category_Art</th>                <td>    0.1120</td> <td> 2.19e+05</td> <td>  5.1e-07</td> <td> 1.000</td> <td> -4.3e+05</td> <td>  4.3e+05</td>\n",
       "</tr>\n",
       "<tr>\n",
       "  <th>category_Art Books</th>          <td>    0.7973</td> <td> 4.51e+05</td> <td> 1.77e-06</td> <td> 1.000</td> <td>-8.84e+05</td> <td> 8.84e+05</td>\n",
       "</tr>\n",
       "<tr>\n",
       "  <th>category_Audio</th>              <td>   -1.6482</td> <td>    0.180</td> <td>   -9.181</td> <td> 0.000</td> <td>   -2.000</td> <td>   -1.296</td>\n",
       "</tr>\n",
       "<tr>\n",
       "  <th>category_Bacon</th>              <td>   -0.8367</td> <td> 4.47e+05</td> <td>-1.87e-06</td> <td> 1.000</td> <td>-8.76e+05</td> <td> 8.76e+05</td>\n",
       "</tr>\n",
       "<tr>\n",
       "  <th>category_Blues</th>              <td>    0.5175</td> <td>  4.5e+05</td> <td> 1.15e-06</td> <td> 1.000</td> <td>-8.82e+05</td> <td> 8.82e+05</td>\n",
       "</tr>\n",
       "<tr>\n",
       "  <th>category_Calendars</th>          <td>    0.2348</td> <td> 4.43e+05</td> <td> 5.31e-07</td> <td> 1.000</td> <td>-8.67e+05</td> <td> 8.67e+05</td>\n",
       "</tr>\n",
       "<tr>\n",
       "  <th>category_Camera Equipment</th>   <td>    0.4730</td> <td>    0.142</td> <td>    3.321</td> <td> 0.001</td> <td>    0.194</td> <td>    0.752</td>\n",
       "</tr>\n",
       "<tr>\n",
       "  <th>category_Candles</th>            <td>   -1.5790</td> <td> 4.47e+05</td> <td>-3.53e-06</td> <td> 1.000</td> <td>-8.76e+05</td> <td> 8.76e+05</td>\n",
       "</tr>\n",
       "<tr>\n",
       "  <th>category_Ceramics</th>           <td>    0.2107</td> <td> 2.19e+05</td> <td>  9.6e-07</td> <td> 1.000</td> <td> -4.3e+05</td> <td>  4.3e+05</td>\n",
       "</tr>\n",
       "<tr>\n",
       "  <th>category_Children's Books</th>   <td>    0.0542</td> <td> 4.49e+05</td> <td> 1.21e-07</td> <td> 1.000</td> <td> -8.8e+05</td> <td>  8.8e+05</td>\n",
       "</tr>\n",
       "<tr>\n",
       "  <th>category_Childrenswear</th>      <td>   -0.3316</td> <td> 7.02e+05</td> <td>-4.72e-07</td> <td> 1.000</td> <td>-1.38e+06</td> <td> 1.38e+06</td>\n",
       "</tr>\n",
       "<tr>\n",
       "  <th>category_Chiptune</th>           <td>    2.0704</td> <td> 4.58e+05</td> <td> 4.52e-06</td> <td> 1.000</td> <td>-8.98e+05</td> <td> 8.98e+05</td>\n",
       "</tr>\n",
       "<tr>\n",
       "  <th>category_Civic Design</th>       <td>    0.1634</td> <td> 4.67e+05</td> <td>  3.5e-07</td> <td> 1.000</td> <td>-9.16e+05</td> <td> 9.16e+05</td>\n",
       "</tr>\n",
       "<tr>\n",
       "  <th>category_Classical Music</th>    <td>    1.2459</td> <td> 4.56e+05</td> <td> 2.73e-06</td> <td> 1.000</td> <td>-8.94e+05</td> <td> 8.94e+05</td>\n",
       "</tr>\n",
       "<tr>\n",
       "  <th>category_Comedy</th>             <td>    0.1929</td> <td> 4.52e+05</td> <td> 4.27e-07</td> <td> 1.000</td> <td>-8.85e+05</td> <td> 8.85e+05</td>\n",
       "</tr>\n",
       "<tr>\n",
       "  <th>category_Comic Books</th>        <td>    0.2622</td> <td> 4.49e+05</td> <td> 5.84e-07</td> <td> 1.000</td> <td> -8.8e+05</td> <td>  8.8e+05</td>\n",
       "</tr>\n",
       "<tr>\n",
       "  <th>category_Comics</th>             <td>   -0.0846</td> <td> 4.58e+05</td> <td>-1.85e-07</td> <td> 1.000</td> <td>-8.97e+05</td> <td> 8.97e+05</td>\n",
       "</tr>\n",
       "<tr>\n",
       "  <th>category_Community Gardens</th>  <td>   -0.5809</td> <td> 4.54e+05</td> <td>-1.28e-06</td> <td> 1.000</td> <td>-8.89e+05</td> <td> 8.89e+05</td>\n",
       "</tr>\n",
       "<tr>\n",
       "  <th>category_Conceptual Art</th>     <td>   -0.1694</td> <td> 2.19e+05</td> <td>-7.72e-07</td> <td> 1.000</td> <td> -4.3e+05</td> <td>  4.3e+05</td>\n",
       "</tr>\n",
       "<tr>\n",
       "  <th>category_Cookbooks</th>          <td>   -0.4106</td> <td> 4.54e+05</td> <td>-9.04e-07</td> <td> 1.000</td> <td> -8.9e+05</td> <td>  8.9e+05</td>\n",
       "</tr>\n",
       "<tr>\n",
       "  <th>category_Country & Folk</th>     <td>    1.1700</td> <td> 4.47e+05</td> <td> 2.62e-06</td> <td> 1.000</td> <td>-8.76e+05</td> <td> 8.76e+05</td>\n",
       "</tr>\n",
       "<tr>\n",
       "  <th>category_Couture</th>            <td>   -0.5186</td> <td> 7.03e+05</td> <td>-7.37e-07</td> <td> 1.000</td> <td>-1.38e+06</td> <td> 1.38e+06</td>\n",
       "</tr>\n",
       "<tr>\n",
       "  <th>category_Crafts</th>             <td>   -0.7272</td> <td> 4.45e+05</td> <td>-1.63e-06</td> <td> 1.000</td> <td>-8.73e+05</td> <td> 8.73e+05</td>\n",
       "</tr>\n",
       "<tr>\n",
       "  <th>category_Crochet</th>            <td>   -1.0124</td> <td> 4.51e+05</td> <td>-2.25e-06</td> <td> 1.000</td> <td>-8.84e+05</td> <td> 8.84e+05</td>\n",
       "</tr>\n",
       "<tr>\n",
       "  <th>category_DIY</th>                <td>   -1.2568</td> <td> 4.45e+05</td> <td>-2.83e-06</td> <td> 1.000</td> <td>-8.72e+05</td> <td> 8.72e+05</td>\n",
       "</tr>\n",
       "<tr>\n",
       "  <th>category_DIY Electronics</th>    <td>    0.1295</td> <td>    0.115</td> <td>    1.129</td> <td> 0.259</td> <td>   -0.095</td> <td>    0.354</td>\n",
       "</tr>\n",
       "<tr>\n",
       "  <th>category_Dance</th>              <td>    1.0894</td> <td> 4.48e+05</td> <td> 2.43e-06</td> <td> 1.000</td> <td>-8.79e+05</td> <td> 8.79e+05</td>\n",
       "</tr>\n",
       "<tr>\n",
       "  <th>category_Design</th>             <td>   -0.0056</td> <td> 4.67e+05</td> <td> -1.2e-08</td> <td> 1.000</td> <td>-9.15e+05</td> <td> 9.15e+05</td>\n",
       "</tr>\n",
       "<tr>\n",
       "  <th>category_Digital Art</th>        <td>   -0.5075</td> <td> 2.19e+05</td> <td>-2.31e-06</td> <td> 1.000</td> <td> -4.3e+05</td> <td>  4.3e+05</td>\n",
       "</tr>\n",
       "<tr>\n",
       "  <th>category_Documentary</th>        <td>    0.2531</td> <td> 4.52e+05</td> <td>  5.6e-07</td> <td> 1.000</td> <td>-8.86e+05</td> <td> 8.86e+05</td>\n",
       "</tr>\n",
       "<tr>\n",
       "  <th>category_Drama</th>              <td>    0.2605</td> <td> 4.44e+05</td> <td> 5.87e-07</td> <td> 1.000</td> <td>-8.69e+05</td> <td> 8.69e+05</td>\n",
       "</tr>\n",
       "<tr>\n",
       "  <th>category_Drinks</th>             <td>   -0.3052</td> <td> 4.51e+05</td> <td>-6.77e-07</td> <td> 1.000</td> <td>-8.83e+05</td> <td> 8.83e+05</td>\n",
       "</tr>\n",
       "<tr>\n",
       "  <th>category_Electronic Music</th>   <td>   -0.0467</td> <td> 4.59e+05</td> <td>-1.02e-07</td> <td> 1.000</td> <td>-8.99e+05</td> <td> 8.99e+05</td>\n",
       "</tr>\n",
       "<tr>\n",
       "  <th>category_Embroidery</th>         <td>   -1.2230</td> <td> 4.46e+05</td> <td>-2.74e-06</td> <td> 1.000</td> <td>-8.74e+05</td> <td> 8.74e+05</td>\n",
       "</tr>\n",
       "<tr>\n",
       "  <th>category_Events</th>             <td>   -0.9170</td> <td> 4.41e+05</td> <td>-2.08e-06</td> <td> 1.000</td> <td>-8.64e+05</td> <td> 8.64e+05</td>\n",
       "</tr>\n",
       "<tr>\n",
       "  <th>category_Experimental</th>       <td>   -0.2125</td> <td> 4.51e+05</td> <td>-4.71e-07</td> <td> 1.000</td> <td>-8.85e+05</td> <td> 8.85e+05</td>\n",
       "</tr>\n",
       "<tr>\n",
       "  <th>category_Fabrication Tools</th>  <td>   -0.4675</td> <td>    0.178</td> <td>   -2.621</td> <td> 0.009</td> <td>   -0.817</td> <td>   -0.118</td>\n",
       "</tr>\n",
       "<tr>\n",
       "  <th>category_Faith</th>              <td>    0.3025</td> <td> 4.49e+05</td> <td> 6.74e-07</td> <td> 1.000</td> <td> -8.8e+05</td> <td>  8.8e+05</td>\n",
       "</tr>\n",
       "<tr>\n",
       "  <th>category_Family</th>             <td>   -0.6457</td> <td> 4.57e+05</td> <td>-1.41e-06</td> <td> 1.000</td> <td>-8.97e+05</td> <td> 8.97e+05</td>\n",
       "</tr>\n",
       "<tr>\n",
       "  <th>category_Fantasy</th>            <td>    0.0855</td> <td> 4.49e+05</td> <td>  1.9e-07</td> <td> 1.000</td> <td>-8.81e+05</td> <td> 8.81e+05</td>\n",
       "</tr>\n",
       "<tr>\n",
       "  <th>category_Farmer's Markets</th>   <td>   -0.9657</td> <td> 4.52e+05</td> <td>-2.14e-06</td> <td> 1.000</td> <td>-8.85e+05</td> <td> 8.85e+05</td>\n",
       "</tr>\n",
       "<tr>\n",
       "  <th>category_Farms</th>              <td>   -0.5043</td> <td>  4.5e+05</td> <td>-1.12e-06</td> <td> 1.000</td> <td>-8.81e+05</td> <td> 8.81e+05</td>\n",
       "</tr>\n",
       "<tr>\n",
       "  <th>category_Fashion</th>            <td>   -0.0172</td> <td> 7.04e+05</td> <td>-2.45e-08</td> <td> 1.000</td> <td>-1.38e+06</td> <td> 1.38e+06</td>\n",
       "</tr>\n",
       "<tr>\n",
       "  <th>category_Festivals</th>          <td>    0.1949</td> <td> 4.44e+05</td> <td> 4.39e-07</td> <td> 1.000</td> <td> -8.7e+05</td> <td>  8.7e+05</td>\n",
       "</tr>\n",
       "<tr>\n",
       "  <th>category_Fiction</th>            <td>   -0.4456</td> <td> 4.53e+05</td> <td>-9.83e-07</td> <td> 1.000</td> <td>-8.89e+05</td> <td> 8.89e+05</td>\n",
       "</tr>\n",
       "<tr>\n",
       "  <th>category_Film & Video</th>       <td>   -0.0077</td> <td>  4.5e+05</td> <td>-1.71e-08</td> <td> 1.000</td> <td>-8.83e+05</td> <td> 8.83e+05</td>\n",
       "</tr>\n",
       "<tr>\n",
       "  <th>category_Fine Art</th>           <td>    0.4014</td> <td> 7.04e+05</td> <td>  5.7e-07</td> <td> 1.000</td> <td>-1.38e+06</td> <td> 1.38e+06</td>\n",
       "</tr>\n",
       "<tr>\n",
       "  <th>category_Flight</th>             <td>   -1.0217</td> <td>    0.161</td> <td>   -6.342</td> <td> 0.000</td> <td>   -1.337</td> <td>   -0.706</td>\n",
       "</tr>\n",
       "<tr>\n",
       "  <th>category_Food</th>               <td>   -0.2257</td> <td>  4.5e+05</td> <td>-5.02e-07</td> <td> 1.000</td> <td>-8.82e+05</td> <td> 8.82e+05</td>\n",
       "</tr>\n",
       "<tr>\n",
       "  <th>category_Food Trucks</th>        <td>   -1.2146</td> <td> 4.56e+05</td> <td>-2.66e-06</td> <td> 1.000</td> <td>-8.93e+05</td> <td> 8.93e+05</td>\n",
       "</tr>\n",
       "<tr>\n",
       "  <th>category_Footwear</th>           <td>    0.6097</td> <td> 7.03e+05</td> <td> 8.67e-07</td> <td> 1.000</td> <td>-1.38e+06</td> <td> 1.38e+06</td>\n",
       "</tr>\n",
       "<tr>\n",
       "  <th>category_Gadgets</th>            <td>   -0.2915</td> <td>    0.099</td> <td>   -2.937</td> <td> 0.003</td> <td>   -0.486</td> <td>   -0.097</td>\n",
       "</tr>\n",
       "<tr>\n",
       "  <th>category_Games</th>              <td>   -0.1685</td> <td>      nan</td> <td>      nan</td> <td>   nan</td> <td>      nan</td> <td>      nan</td>\n",
       "</tr>\n",
       "<tr>\n",
       "  <th>category_Gaming Hardware</th>    <td>    0.1144</td> <td>      nan</td> <td>      nan</td> <td>   nan</td> <td>      nan</td> <td>      nan</td>\n",
       "</tr>\n",
       "<tr>\n",
       "  <th>category_Glass</th>              <td>   -0.5581</td> <td> 4.51e+05</td> <td>-1.24e-06</td> <td> 1.000</td> <td>-8.84e+05</td> <td> 8.84e+05</td>\n",
       "</tr>\n",
       "<tr>\n",
       "  <th>category_Graphic Design</th>     <td>   -0.1474</td> <td> 4.67e+05</td> <td>-3.15e-07</td> <td> 1.000</td> <td>-9.16e+05</td> <td> 9.16e+05</td>\n",
       "</tr>\n",
       "<tr>\n",
       "  <th>category_Graphic Novels</th>     <td>    0.1516</td> <td> 4.43e+05</td> <td> 3.43e-07</td> <td> 1.000</td> <td>-8.67e+05</td> <td> 8.67e+05</td>\n",
       "</tr>\n",
       "<tr>\n",
       "  <th>category_Hardware</th>           <td>   -0.0720</td> <td>    0.097</td> <td>   -0.745</td> <td> 0.456</td> <td>   -0.262</td> <td>    0.117</td>\n",
       "</tr>\n",
       "<tr>\n",
       "  <th>category_Hip-Hop</th>            <td>   -1.0746</td> <td> 4.54e+05</td> <td>-2.37e-06</td> <td> 1.000</td> <td> -8.9e+05</td> <td>  8.9e+05</td>\n",
       "</tr>\n",
       "<tr>\n",
       "  <th>category_Horror</th>             <td>   -0.0775</td> <td>  4.5e+05</td> <td>-1.72e-07</td> <td> 1.000</td> <td>-8.82e+05</td> <td> 8.82e+05</td>\n",
       "</tr>\n",
       "<tr>\n",
       "  <th>category_Illustration</th>       <td>    0.4665</td> <td> 2.19e+05</td> <td> 2.13e-06</td> <td> 1.000</td> <td> -4.3e+05</td> <td>  4.3e+05</td>\n",
       "</tr>\n",
       "<tr>\n",
       "  <th>category_Immersive</th>          <td>   -0.1331</td> <td> 4.55e+05</td> <td>-2.92e-07</td> <td> 1.000</td> <td>-8.92e+05</td> <td> 8.92e+05</td>\n",
       "</tr>\n",
       "<tr>\n",
       "  <th>category_Indie Rock</th>         <td>    1.2210</td> <td> 4.51e+05</td> <td> 2.71e-06</td> <td> 1.000</td> <td>-8.85e+05</td> <td> 8.85e+05</td>\n",
       "</tr>\n",
       "<tr>\n",
       "  <th>category_Installations</th>      <td>    0.5389</td> <td> 2.19e+05</td> <td> 2.46e-06</td> <td> 1.000</td> <td> -4.3e+05</td> <td>  4.3e+05</td>\n",
       "</tr>\n",
       "<tr>\n",
       "  <th>category_Interactive Design</th> <td>   -0.8130</td> <td> 4.67e+05</td> <td>-1.74e-06</td> <td> 1.000</td> <td>-9.15e+05</td> <td> 9.15e+05</td>\n",
       "</tr>\n",
       "<tr>\n",
       "  <th>category_Jazz</th>               <td>    1.0682</td> <td> 4.53e+05</td> <td> 2.36e-06</td> <td> 1.000</td> <td>-8.88e+05</td> <td> 8.88e+05</td>\n",
       "</tr>\n",
       "<tr>\n",
       "  <th>category_Jewelry</th>            <td>   -0.0832</td> <td> 7.02e+05</td> <td>-1.18e-07</td> <td> 1.000</td> <td>-1.38e+06</td> <td> 1.38e+06</td>\n",
       "</tr>\n",
       "<tr>\n",
       "  <th>category_Journalism</th>         <td>   -1.5772</td> <td>    0.149</td> <td>  -10.615</td> <td> 0.000</td> <td>   -1.868</td> <td>   -1.286</td>\n",
       "</tr>\n",
       "<tr>\n",
       "  <th>category_Kids</th>               <td>    0.4802</td> <td> 4.52e+05</td> <td> 1.06e-06</td> <td> 1.000</td> <td>-8.85e+05</td> <td> 8.85e+05</td>\n",
       "</tr>\n",
       "<tr>\n",
       "  <th>category_Knitting</th>           <td>    0.3104</td> <td> 4.48e+05</td> <td> 6.93e-07</td> <td> 1.000</td> <td>-8.77e+05</td> <td> 8.77e+05</td>\n",
       "</tr>\n",
       "<tr>\n",
       "  <th>category_Latin</th>              <td>   -0.1960</td> <td> 4.51e+05</td> <td>-4.35e-07</td> <td> 1.000</td> <td>-8.83e+05</td> <td> 8.83e+05</td>\n",
       "</tr>\n",
       "<tr>\n",
       "  <th>category_Letterpress</th>        <td>    1.0760</td> <td> 4.44e+05</td> <td> 2.42e-06</td> <td> 1.000</td> <td> -8.7e+05</td> <td>  8.7e+05</td>\n",
       "</tr>\n",
       "<tr>\n",
       "  <th>category_Literary Journals</th>  <td>    0.6513</td> <td> 4.56e+05</td> <td> 1.43e-06</td> <td> 1.000</td> <td>-8.93e+05</td> <td> 8.93e+05</td>\n",
       "</tr>\n",
       "<tr>\n",
       "  <th>category_Literary Spaces</th>    <td>    1.5614</td> <td> 4.52e+05</td> <td> 3.45e-06</td> <td> 1.000</td> <td>-8.87e+05</td> <td> 8.87e+05</td>\n",
       "</tr>\n",
       "<tr>\n",
       "  <th>category_Live Games</th>         <td>   -0.5780</td> <td>      nan</td> <td>      nan</td> <td>   nan</td> <td>      nan</td> <td>      nan</td>\n",
       "</tr>\n",
       "<tr>\n",
       "  <th>category_Makerspaces</th>        <td>   -0.3524</td> <td>    0.174</td> <td>   -2.031</td> <td> 0.042</td> <td>   -0.693</td> <td>   -0.012</td>\n",
       "</tr>\n",
       "<tr>\n",
       "  <th>category_Metal</th>              <td>    0.2323</td> <td> 4.52e+05</td> <td> 5.14e-07</td> <td> 1.000</td> <td>-8.85e+05</td> <td> 8.85e+05</td>\n",
       "</tr>\n",
       "<tr>\n",
       "  <th>category_Mixed Media</th>        <td>   -0.2182</td> <td> 2.19e+05</td> <td>-9.95e-07</td> <td> 1.000</td> <td> -4.3e+05</td> <td>  4.3e+05</td>\n",
       "</tr>\n",
       "<tr>\n",
       "  <th>category_Mobile Games</th>       <td>   -1.4381</td> <td>      nan</td> <td>      nan</td> <td>   nan</td> <td>      nan</td> <td>      nan</td>\n",
       "</tr>\n",
       "<tr>\n",
       "  <th>category_Movie Theaters</th>     <td>   -0.0003</td> <td> 4.53e+05</td> <td>-6.57e-10</td> <td> 1.000</td> <td>-8.88e+05</td> <td> 8.88e+05</td>\n",
       "</tr>\n",
       "<tr>\n",
       "  <th>category_Music</th>              <td>    0.5647</td> <td> 4.47e+05</td> <td> 1.26e-06</td> <td> 1.000</td> <td>-8.77e+05</td> <td> 8.77e+05</td>\n",
       "</tr>\n",
       "<tr>\n",
       "  <th>category_Music Videos</th>       <td>   -0.1235</td> <td> 4.49e+05</td> <td>-2.75e-07</td> <td> 1.000</td> <td>-8.79e+05</td> <td> 8.79e+05</td>\n",
       "</tr>\n",
       "<tr>\n",
       "  <th>category_Musical</th>            <td>   -0.1778</td> <td> 4.51e+05</td> <td>-3.94e-07</td> <td> 1.000</td> <td>-8.83e+05</td> <td> 8.83e+05</td>\n",
       "</tr>\n",
       "<tr>\n",
       "  <th>category_Narrative Film</th>     <td>    0.3947</td> <td> 4.55e+05</td> <td> 8.67e-07</td> <td> 1.000</td> <td>-8.92e+05</td> <td> 8.92e+05</td>\n",
       "</tr>\n",
       "<tr>\n",
       "  <th>category_Nature</th>             <td>   -0.6046</td> <td>  7.2e+05</td> <td> -8.4e-07</td> <td> 1.000</td> <td>-1.41e+06</td> <td> 1.41e+06</td>\n",
       "</tr>\n",
       "<tr>\n",
       "  <th>category_Nonfiction</th>         <td>   -0.2627</td> <td>  4.5e+05</td> <td>-5.84e-07</td> <td> 1.000</td> <td>-8.82e+05</td> <td> 8.82e+05</td>\n",
       "</tr>\n",
       "<tr>\n",
       "  <th>category_Painting</th>           <td>   -0.2218</td> <td> 2.19e+05</td> <td>-1.01e-06</td> <td> 1.000</td> <td> -4.3e+05</td> <td>  4.3e+05</td>\n",
       "</tr>\n",
       "<tr>\n",
       "  <th>category_People</th>             <td>   -0.3254</td> <td> 8.01e+05</td> <td>-4.06e-07</td> <td> 1.000</td> <td>-1.57e+06</td> <td> 1.57e+06</td>\n",
       "</tr>\n",
       "<tr>\n",
       "  <th>category_Performance Art</th>    <td>    0.1917</td> <td> 2.19e+05</td> <td> 8.74e-07</td> <td> 1.000</td> <td> -4.3e+05</td> <td>  4.3e+05</td>\n",
       "</tr>\n",
       "<tr>\n",
       "  <th>category_Performances</th>       <td>    0.8847</td> <td> 4.53e+05</td> <td> 1.95e-06</td> <td> 1.000</td> <td>-8.88e+05</td> <td> 8.88e+05</td>\n",
       "</tr>\n",
       "<tr>\n",
       "  <th>category_Periodicals</th>        <td>    0.3980</td> <td>  4.5e+05</td> <td> 8.84e-07</td> <td> 1.000</td> <td>-8.83e+05</td> <td> 8.83e+05</td>\n",
       "</tr>\n",
       "<tr>\n",
       "  <th>category_Pet Fashion</th>        <td>    0.1252</td> <td> 7.01e+05</td> <td> 1.79e-07</td> <td> 1.000</td> <td>-1.37e+06</td> <td> 1.37e+06</td>\n",
       "</tr>\n",
       "<tr>\n",
       "  <th>category_Photo</th>              <td>   -2.2565</td> <td>    0.242</td> <td>   -9.335</td> <td> 0.000</td> <td>   -2.730</td> <td>   -1.783</td>\n",
       "</tr>\n",
       "<tr>\n",
       "  <th>category_Photobooks</th>         <td>    0.6719</td> <td> 8.15e+05</td> <td> 8.24e-07</td> <td> 1.000</td> <td> -1.6e+06</td> <td>  1.6e+06</td>\n",
       "</tr>\n",
       "<tr>\n",
       "  <th>category_Photography</th>        <td>    0.2170</td> <td> 7.45e+05</td> <td> 2.91e-07</td> <td> 1.000</td> <td>-1.46e+06</td> <td> 1.46e+06</td>\n",
       "</tr>\n",
       "<tr>\n",
       "  <th>category_Places</th>             <td>   -0.6828</td> <td> 6.65e+05</td> <td>-1.03e-06</td> <td> 1.000</td> <td> -1.3e+06</td> <td>  1.3e+06</td>\n",
       "</tr>\n",
       "<tr>\n",
       "  <th>category_Playing Cards</th>      <td>    0.4839</td> <td>      nan</td> <td>      nan</td> <td>   nan</td> <td>      nan</td> <td>      nan</td>\n",
       "</tr>\n",
       "<tr>\n",
       "  <th>category_Plays</th>              <td>   -0.0177</td> <td> 4.52e+05</td> <td>-3.93e-08</td> <td> 1.000</td> <td>-8.85e+05</td> <td> 8.85e+05</td>\n",
       "</tr>\n",
       "<tr>\n",
       "  <th>category_Poetry</th>             <td>    0.0451</td> <td> 4.51e+05</td> <td>    1e-07</td> <td> 1.000</td> <td>-8.83e+05</td> <td> 8.83e+05</td>\n",
       "</tr>\n",
       "<tr>\n",
       "  <th>category_Pop</th>                <td>    0.5620</td> <td> 4.53e+05</td> <td> 1.24e-06</td> <td> 1.000</td> <td>-8.88e+05</td> <td> 8.88e+05</td>\n",
       "</tr>\n",
       "<tr>\n",
       "  <th>category_Pottery</th>            <td>    0.3537</td> <td> 4.49e+05</td> <td> 7.89e-07</td> <td> 1.000</td> <td>-8.79e+05</td> <td> 8.79e+05</td>\n",
       "</tr>\n",
       "<tr>\n",
       "  <th>category_Print</th>              <td>   -1.8265</td> <td>    0.166</td> <td>  -11.005</td> <td> 0.000</td> <td>   -2.152</td> <td>   -1.501</td>\n",
       "</tr>\n",
       "<tr>\n",
       "  <th>category_Printing</th>           <td>   -0.8410</td> <td> 4.51e+05</td> <td>-1.87e-06</td> <td> 1.000</td> <td>-8.83e+05</td> <td> 8.83e+05</td>\n",
       "</tr>\n",
       "<tr>\n",
       "  <th>category_Product Design</th>     <td>    0.1885</td> <td> 4.67e+05</td> <td> 4.03e-07</td> <td> 1.000</td> <td>-9.16e+05</td> <td> 9.16e+05</td>\n",
       "</tr>\n",
       "<tr>\n",
       "  <th>category_Public Art</th>         <td>    0.5129</td> <td> 2.19e+05</td> <td> 2.34e-06</td> <td> 1.000</td> <td> -4.3e+05</td> <td>  4.3e+05</td>\n",
       "</tr>\n",
       "<tr>\n",
       "  <th>category_Publishing</th>         <td>   -0.0994</td> <td> 4.54e+05</td> <td>-2.19e-07</td> <td> 1.000</td> <td>-8.89e+05</td> <td> 8.89e+05</td>\n",
       "</tr>\n",
       "<tr>\n",
       "  <th>category_Punk</th>               <td>    0.6610</td> <td> 4.54e+05</td> <td> 1.46e-06</td> <td> 1.000</td> <td>-8.89e+05</td> <td> 8.89e+05</td>\n",
       "</tr>\n",
       "<tr>\n",
       "  <th>category_Puzzles</th>            <td>    0.3200</td> <td>      nan</td> <td>      nan</td> <td>   nan</td> <td>      nan</td> <td>      nan</td>\n",
       "</tr>\n",
       "<tr>\n",
       "  <th>category_Quilts</th>             <td>   -0.8445</td> <td> 4.48e+05</td> <td>-1.88e-06</td> <td> 1.000</td> <td>-8.79e+05</td> <td> 8.79e+05</td>\n",
       "</tr>\n",
       "<tr>\n",
       "  <th>category_R&B</th>                <td>   -0.5674</td> <td>  4.5e+05</td> <td>-1.26e-06</td> <td> 1.000</td> <td>-8.82e+05</td> <td> 8.82e+05</td>\n",
       "</tr>\n",
       "<tr>\n",
       "  <th>category_Radio & Podcasts</th>   <td>    0.3993</td> <td> 4.54e+05</td> <td> 8.79e-07</td> <td> 1.000</td> <td> -8.9e+05</td> <td>  8.9e+05</td>\n",
       "</tr>\n",
       "<tr>\n",
       "  <th>category_Ready-to-wear</th>      <td>   -0.4546</td> <td> 7.04e+05</td> <td>-6.45e-07</td> <td> 1.000</td> <td>-1.38e+06</td> <td> 1.38e+06</td>\n",
       "</tr>\n",
       "<tr>\n",
       "  <th>category_Residencies</th>        <td>    1.3912</td> <td> 4.55e+05</td> <td> 3.05e-06</td> <td> 1.000</td> <td>-8.93e+05</td> <td> 8.93e+05</td>\n",
       "</tr>\n",
       "<tr>\n",
       "  <th>category_Restaurants</th>        <td>   -0.6642</td> <td> 4.53e+05</td> <td>-1.47e-06</td> <td> 1.000</td> <td>-8.88e+05</td> <td> 8.88e+05</td>\n",
       "</tr>\n",
       "<tr>\n",
       "  <th>category_Robots</th>             <td>    0.1203</td> <td>    0.130</td> <td>    0.922</td> <td> 0.356</td> <td>   -0.135</td> <td>    0.376</td>\n",
       "</tr>\n",
       "<tr>\n",
       "  <th>category_Rock</th>               <td>    0.7288</td> <td> 4.53e+05</td> <td> 1.61e-06</td> <td> 1.000</td> <td>-8.87e+05</td> <td> 8.87e+05</td>\n",
       "</tr>\n",
       "<tr>\n",
       "  <th>category_Romance</th>            <td>   -0.0758</td> <td> 4.48e+05</td> <td>-1.69e-07</td> <td> 1.000</td> <td>-8.77e+05</td> <td> 8.77e+05</td>\n",
       "</tr>\n",
       "<tr>\n",
       "  <th>category_Science Fiction</th>    <td>    0.3235</td> <td> 4.51e+05</td> <td> 7.17e-07</td> <td> 1.000</td> <td>-8.84e+05</td> <td> 8.84e+05</td>\n",
       "</tr>\n",
       "<tr>\n",
       "  <th>category_Sculpture</th>          <td>    0.0165</td> <td> 2.19e+05</td> <td> 7.52e-08</td> <td> 1.000</td> <td> -4.3e+05</td> <td>  4.3e+05</td>\n",
       "</tr>\n",
       "<tr>\n",
       "  <th>category_Shorts</th>             <td>    0.7067</td> <td> 4.52e+05</td> <td> 1.56e-06</td> <td> 1.000</td> <td>-8.85e+05</td> <td> 8.85e+05</td>\n",
       "</tr>\n",
       "<tr>\n",
       "  <th>category_Small Batch</th>        <td>   -0.2177</td> <td> 4.51e+05</td> <td>-4.83e-07</td> <td> 1.000</td> <td>-8.83e+05</td> <td> 8.83e+05</td>\n",
       "</tr>\n",
       "<tr>\n",
       "  <th>category_Software</th>           <td>   -1.6069</td> <td>    0.105</td> <td>  -15.231</td> <td> 0.000</td> <td>   -1.814</td> <td>   -1.400</td>\n",
       "</tr>\n",
       "<tr>\n",
       "  <th>category_Sound</th>              <td>    0.2924</td> <td>    0.126</td> <td>    2.319</td> <td> 0.020</td> <td>    0.045</td> <td>    0.539</td>\n",
       "</tr>\n",
       "<tr>\n",
       "  <th>category_Space Exploration</th>  <td>   -0.0076</td> <td>    0.157</td> <td>   -0.048</td> <td> 0.961</td> <td>   -0.316</td> <td>    0.301</td>\n",
       "</tr>\n",
       "<tr>\n",
       "  <th>category_Spaces</th>             <td>   -0.0433</td> <td> 4.47e+05</td> <td>-9.69e-08</td> <td> 1.000</td> <td>-8.77e+05</td> <td> 8.77e+05</td>\n",
       "</tr>\n",
       "<tr>\n",
       "  <th>category_Stationery</th>         <td>   -0.2035</td> <td> 4.44e+05</td> <td>-4.58e-07</td> <td> 1.000</td> <td>-8.71e+05</td> <td> 8.71e+05</td>\n",
       "</tr>\n",
       "<tr>\n",
       "  <th>category_Tabletop Games</th>     <td>    1.2948</td> <td>      nan</td> <td>      nan</td> <td>   nan</td> <td>      nan</td> <td>      nan</td>\n",
       "</tr>\n",
       "<tr>\n",
       "  <th>category_Taxidermy</th>          <td>    0.1832</td> <td>  4.5e+05</td> <td> 4.07e-07</td> <td> 1.000</td> <td>-8.83e+05</td> <td> 8.83e+05</td>\n",
       "</tr>\n",
       "<tr>\n",
       "  <th>category_Technology</th>         <td>   -0.9235</td> <td>    0.094</td> <td>   -9.793</td> <td> 0.000</td> <td>   -1.108</td> <td>   -0.739</td>\n",
       "</tr>\n",
       "<tr>\n",
       "  <th>category_Television</th>         <td>   -0.8379</td> <td> 4.44e+05</td> <td>-1.89e-06</td> <td> 1.000</td> <td> -8.7e+05</td> <td>  8.7e+05</td>\n",
       "</tr>\n",
       "<tr>\n",
       "  <th>category_Textiles</th>           <td>   -0.5130</td> <td> 2.19e+05</td> <td>-2.34e-06</td> <td> 1.000</td> <td> -4.3e+05</td> <td>  4.3e+05</td>\n",
       "</tr>\n",
       "<tr>\n",
       "  <th>category_Theater</th>            <td>    0.1849</td> <td> 4.49e+05</td> <td> 4.12e-07</td> <td> 1.000</td> <td> -8.8e+05</td> <td>  8.8e+05</td>\n",
       "</tr>\n",
       "<tr>\n",
       "  <th>category_Thrillers</th>          <td>   -0.2342</td> <td> 4.53e+05</td> <td>-5.17e-07</td> <td> 1.000</td> <td>-8.88e+05</td> <td> 8.88e+05</td>\n",
       "</tr>\n",
       "<tr>\n",
       "  <th>category_Translations</th>       <td>   -0.2616</td> <td> 4.53e+05</td> <td>-5.77e-07</td> <td> 1.000</td> <td>-8.88e+05</td> <td> 8.88e+05</td>\n",
       "</tr>\n",
       "<tr>\n",
       "  <th>category_Typography</th>         <td>    0.9761</td> <td> 4.67e+05</td> <td> 2.09e-06</td> <td> 1.000</td> <td>-9.16e+05</td> <td> 9.16e+05</td>\n",
       "</tr>\n",
       "<tr>\n",
       "  <th>category_Vegan</th>              <td>   -0.0310</td> <td> 4.47e+05</td> <td>-6.92e-08</td> <td> 1.000</td> <td>-8.77e+05</td> <td> 8.77e+05</td>\n",
       "</tr>\n",
       "<tr>\n",
       "  <th>category_Video</th>              <td>   -2.5848</td> <td>    0.205</td> <td>  -12.601</td> <td> 0.000</td> <td>   -2.987</td> <td>   -2.183</td>\n",
       "</tr>\n",
       "<tr>\n",
       "  <th>category_Video Art</th>          <td>   -0.5329</td> <td> 2.19e+05</td> <td>-2.43e-06</td> <td> 1.000</td> <td> -4.3e+05</td> <td>  4.3e+05</td>\n",
       "</tr>\n",
       "<tr>\n",
       "  <th>category_Video Games</th>        <td>   -0.2685</td> <td>      nan</td> <td>      nan</td> <td>   nan</td> <td>      nan</td> <td>      nan</td>\n",
       "</tr>\n",
       "<tr>\n",
       "  <th>category_Wearables</th>          <td>    0.0185</td> <td>    0.112</td> <td>    0.165</td> <td> 0.869</td> <td>   -0.201</td> <td>    0.238</td>\n",
       "</tr>\n",
       "<tr>\n",
       "  <th>category_Weaving</th>            <td>   -0.3896</td> <td> 4.52e+05</td> <td>-8.62e-07</td> <td> 1.000</td> <td>-8.86e+05</td> <td> 8.86e+05</td>\n",
       "</tr>\n",
       "<tr>\n",
       "  <th>category_Web</th>                <td>   -2.3198</td> <td>    0.110</td> <td>  -21.018</td> <td> 0.000</td> <td>   -2.536</td> <td>   -2.103</td>\n",
       "</tr>\n",
       "<tr>\n",
       "  <th>category_Webcomics</th>          <td>    0.1070</td> <td> 4.52e+05</td> <td> 2.37e-07</td> <td> 1.000</td> <td>-8.85e+05</td> <td> 8.85e+05</td>\n",
       "</tr>\n",
       "<tr>\n",
       "  <th>category_Webseries</th>          <td>   -0.2581</td> <td> 4.48e+05</td> <td>-5.76e-07</td> <td> 1.000</td> <td>-8.78e+05</td> <td> 8.78e+05</td>\n",
       "</tr>\n",
       "<tr>\n",
       "  <th>category_Woodworking</th>        <td>   -0.7419</td> <td> 4.54e+05</td> <td>-1.64e-06</td> <td> 1.000</td> <td>-8.89e+05</td> <td> 8.89e+05</td>\n",
       "</tr>\n",
       "<tr>\n",
       "  <th>category_Workshops</th>          <td>   -0.3478</td> <td> 4.53e+05</td> <td>-7.68e-07</td> <td> 1.000</td> <td>-8.87e+05</td> <td> 8.87e+05</td>\n",
       "</tr>\n",
       "<tr>\n",
       "  <th>category_World Music</th>        <td>    0.4632</td> <td> 4.52e+05</td> <td> 1.02e-06</td> <td> 1.000</td> <td>-8.86e+05</td> <td> 8.86e+05</td>\n",
       "</tr>\n",
       "<tr>\n",
       "  <th>category_Young Adult</th>        <td>   -0.5952</td> <td> 4.51e+05</td> <td>-1.32e-06</td> <td> 1.000</td> <td>-8.85e+05</td> <td> 8.85e+05</td>\n",
       "</tr>\n",
       "<tr>\n",
       "  <th>category_Zines</th>              <td>    0.5594</td> <td> 4.48e+05</td> <td> 1.25e-06</td> <td> 1.000</td> <td>-8.77e+05</td> <td> 8.77e+05</td>\n",
       "</tr>\n",
       "<tr>\n",
       "  <th>main_category_Comics</th>        <td>    0.6037</td> <td> 3.28e+05</td> <td> 1.84e-06</td> <td> 1.000</td> <td>-6.43e+05</td> <td> 6.43e+05</td>\n",
       "</tr>\n",
       "<tr>\n",
       "  <th>main_category_Crafts</th>        <td>    0.0243</td> <td> 3.27e+05</td> <td> 7.41e-08</td> <td> 1.000</td> <td>-6.42e+05</td> <td> 6.42e+05</td>\n",
       "</tr>\n",
       "<tr>\n",
       "  <th>main_category_Dance</th>         <td>    0.0156</td> <td> 3.29e+05</td> <td> 4.74e-08</td> <td> 1.000</td> <td>-6.45e+05</td> <td> 6.45e+05</td>\n",
       "</tr>\n",
       "<tr>\n",
       "  <th>main_category_Design</th>        <td>    0.0591</td> <td> 3.68e+05</td> <td> 1.61e-07</td> <td> 1.000</td> <td>-7.21e+05</td> <td> 7.21e+05</td>\n",
       "</tr>\n",
       "<tr>\n",
       "  <th>main_category_Fashion</th>       <td>   -0.5386</td> <td> 6.37e+05</td> <td>-8.46e-07</td> <td> 1.000</td> <td>-1.25e+06</td> <td> 1.25e+06</td>\n",
       "</tr>\n",
       "<tr>\n",
       "  <th>main_category_Film & Video</th>  <td>   -0.0838</td> <td> 3.28e+05</td> <td>-2.55e-07</td> <td> 1.000</td> <td>-6.44e+05</td> <td> 6.44e+05</td>\n",
       "</tr>\n",
       "<tr>\n",
       "  <th>main_category_Food</th>          <td>   -0.1250</td> <td> 3.29e+05</td> <td> -3.8e-07</td> <td> 1.000</td> <td>-6.45e+05</td> <td> 6.45e+05</td>\n",
       "</tr>\n",
       "<tr>\n",
       "  <th>main_category_Games</th>         <td>   -0.2399</td> <td>      nan</td> <td>      nan</td> <td>   nan</td> <td>      nan</td> <td>      nan</td>\n",
       "</tr>\n",
       "<tr>\n",
       "  <th>main_category_Journalism</th>    <td>    1.1516</td> <td> 2.19e+05</td> <td> 5.25e-06</td> <td> 1.000</td> <td> -4.3e+05</td> <td>  4.3e+05</td>\n",
       "</tr>\n",
       "<tr>\n",
       "  <th>main_category_Music</th>         <td>   -0.1700</td> <td> 3.25e+05</td> <td>-5.22e-07</td> <td> 1.000</td> <td>-6.38e+05</td> <td> 6.38e+05</td>\n",
       "</tr>\n",
       "<tr>\n",
       "  <th>main_category_Photography</th>   <td>   -0.4936</td> <td>  9.6e+05</td> <td>-5.14e-07</td> <td> 1.000</td> <td>-1.88e+06</td> <td> 1.88e+06</td>\n",
       "</tr>\n",
       "<tr>\n",
       "  <th>main_category_Publishing</th>    <td>   -0.2423</td> <td> 3.31e+05</td> <td>-7.32e-07</td> <td> 1.000</td> <td>-6.49e+05</td> <td> 6.49e+05</td>\n",
       "</tr>\n",
       "<tr>\n",
       "  <th>main_category_Technology</th>    <td>    0.4361</td> <td> 2.19e+05</td> <td> 1.99e-06</td> <td> 1.000</td> <td> -4.3e+05</td> <td>  4.3e+05</td>\n",
       "</tr>\n",
       "<tr>\n",
       "  <th>main_category_Theater</th>       <td>    0.7985</td> <td> 3.28e+05</td> <td> 2.43e-06</td> <td> 1.000</td> <td>-6.43e+05</td> <td> 6.43e+05</td>\n",
       "</tr>\n",
       "<tr>\n",
       "  <th>currency_CAD</th>                <td>    0.0746</td> <td>  2.1e+06</td> <td> 3.55e-08</td> <td> 1.000</td> <td>-4.12e+06</td> <td> 4.12e+06</td>\n",
       "</tr>\n",
       "<tr>\n",
       "  <th>currency_CHF</th>                <td>    0.1133</td> <td> 7.44e+06</td> <td> 1.52e-08</td> <td> 1.000</td> <td>-1.46e+07</td> <td> 1.46e+07</td>\n",
       "</tr>\n",
       "<tr>\n",
       "  <th>currency_DKK</th>                <td>    0.2147</td> <td> 7.03e+07</td> <td> 3.05e-09</td> <td> 1.000</td> <td>-1.38e+08</td> <td> 1.38e+08</td>\n",
       "</tr>\n",
       "<tr>\n",
       "  <th>currency_EUR</th>                <td>   -0.2669</td> <td> 2.19e+05</td> <td>-1.22e-06</td> <td> 1.000</td> <td> -4.3e+05</td> <td>  4.3e+05</td>\n",
       "</tr>\n",
       "<tr>\n",
       "  <th>currency_GBP</th>                <td>    0.1740</td> <td> 6.42e+05</td> <td> 2.71e-07</td> <td> 1.000</td> <td>-1.26e+06</td> <td> 1.26e+06</td>\n",
       "</tr>\n",
       "<tr>\n",
       "  <th>currency_HKD</th>                <td>    0.2806</td> <td>      nan</td> <td>      nan</td> <td>   nan</td> <td>      nan</td> <td>      nan</td>\n",
       "</tr>\n",
       "<tr>\n",
       "  <th>currency_JPY</th>                <td>   -0.0548</td> <td> 4.22e+07</td> <td> -1.3e-09</td> <td> 1.000</td> <td>-8.28e+07</td> <td> 8.28e+07</td>\n",
       "</tr>\n",
       "<tr>\n",
       "  <th>currency_MXN</th>                <td>   -0.1133</td> <td> 2.57e+06</td> <td> -4.4e-08</td> <td> 1.000</td> <td>-5.04e+06</td> <td> 5.04e+06</td>\n",
       "</tr>\n",
       "<tr>\n",
       "  <th>currency_NOK</th>                <td>   -0.0117</td> <td>      nan</td> <td>      nan</td> <td>   nan</td> <td>      nan</td> <td>      nan</td>\n",
       "</tr>\n",
       "<tr>\n",
       "  <th>currency_NZD</th>                <td>    0.1097</td> <td>      nan</td> <td>      nan</td> <td>   nan</td> <td>      nan</td> <td>      nan</td>\n",
       "</tr>\n",
       "<tr>\n",
       "  <th>currency_SEK</th>                <td>    0.0944</td> <td>      nan</td> <td>      nan</td> <td>   nan</td> <td>      nan</td> <td>      nan</td>\n",
       "</tr>\n",
       "<tr>\n",
       "  <th>currency_SGD</th>                <td>    0.1848</td> <td> 5.28e+06</td> <td>  3.5e-08</td> <td> 1.000</td> <td>-1.03e+07</td> <td> 1.03e+07</td>\n",
       "</tr>\n",
       "<tr>\n",
       "  <th>currency_USD</th>                <td>    0.2042</td> <td> 4.01e+05</td> <td> 5.09e-07</td> <td> 1.000</td> <td>-7.86e+05</td> <td> 7.86e+05</td>\n",
       "</tr>\n",
       "<tr>\n",
       "  <th>country_AU</th>                  <td>    0.0784</td> <td> 2.19e+05</td> <td> 3.57e-07</td> <td> 1.000</td> <td> -4.3e+05</td> <td>  4.3e+05</td>\n",
       "</tr>\n",
       "<tr>\n",
       "  <th>country_BE</th>                  <td>    0.3901</td> <td>    0.155</td> <td>    2.518</td> <td> 0.012</td> <td>    0.086</td> <td>    0.694</td>\n",
       "</tr>\n",
       "<tr>\n",
       "  <th>country_CA</th>                  <td>    0.0746</td> <td> 1.99e+06</td> <td> 3.74e-08</td> <td> 1.000</td> <td> -3.9e+06</td> <td>  3.9e+06</td>\n",
       "</tr>\n",
       "<tr>\n",
       "  <th>country_CH</th>                  <td>    0.1133</td> <td>  7.4e+06</td> <td> 1.53e-08</td> <td> 1.000</td> <td>-1.45e+07</td> <td> 1.45e+07</td>\n",
       "</tr>\n",
       "<tr>\n",
       "  <th>country_DE</th>                  <td>    0.2397</td> <td>    0.123</td> <td>    1.955</td> <td> 0.051</td> <td>   -0.001</td> <td>    0.480</td>\n",
       "</tr>\n",
       "<tr>\n",
       "  <th>country_DK</th>                  <td>    0.2147</td> <td> 7.04e+07</td> <td> 3.05e-09</td> <td> 1.000</td> <td>-1.38e+08</td> <td> 1.38e+08</td>\n",
       "</tr>\n",
       "<tr>\n",
       "  <th>country_ES</th>                  <td>    0.1361</td> <td>    0.129</td> <td>    1.058</td> <td> 0.290</td> <td>   -0.116</td> <td>    0.388</td>\n",
       "</tr>\n",
       "<tr>\n",
       "  <th>country_FR</th>                  <td>    0.7287</td> <td>    0.124</td> <td>    5.874</td> <td> 0.000</td> <td>    0.486</td> <td>    0.972</td>\n",
       "</tr>\n",
       "<tr>\n",
       "  <th>country_GB</th>                  <td>    0.1740</td> <td> 8.47e+05</td> <td> 2.06e-07</td> <td> 1.000</td> <td>-1.66e+06</td> <td> 1.66e+06</td>\n",
       "</tr>\n",
       "<tr>\n",
       "  <th>country_HK</th>                  <td>    0.2806</td> <td>      nan</td> <td>      nan</td> <td>   nan</td> <td>      nan</td> <td>      nan</td>\n",
       "</tr>\n",
       "<tr>\n",
       "  <th>country_IE</th>                  <td>    0.2607</td> <td>    0.146</td> <td>    1.788</td> <td> 0.074</td> <td>   -0.025</td> <td>    0.546</td>\n",
       "</tr>\n",
       "<tr>\n",
       "  <th>country_IT</th>                  <td>   -0.2360</td> <td>    0.128</td> <td>   -1.837</td> <td> 0.066</td> <td>   -0.488</td> <td>    0.016</td>\n",
       "</tr>\n",
       "<tr>\n",
       "  <th>country_JP</th>                  <td>   -0.0548</td> <td> 4.22e+07</td> <td> -1.3e-09</td> <td> 1.000</td> <td>-8.28e+07</td> <td> 8.28e+07</td>\n",
       "</tr>\n",
       "<tr>\n",
       "  <th>country_LU</th>                  <td>    0.5348</td> <td>    0.324</td> <td>    1.650</td> <td> 0.099</td> <td>   -0.101</td> <td>    1.170</td>\n",
       "</tr>\n",
       "<tr>\n",
       "  <th>country_MX</th>                  <td>   -0.1133</td> <td> 2.18e+06</td> <td>-5.19e-08</td> <td> 1.000</td> <td>-4.28e+06</td> <td> 4.28e+06</td>\n",
       "</tr>\n",
       "<tr>\n",
       "  <th>country_NL</th>                  <td>    0.1841</td> <td>    0.126</td> <td>    1.463</td> <td> 0.143</td> <td>   -0.063</td> <td>    0.431</td>\n",
       "</tr>\n",
       "<tr>\n",
       "  <th>country_NO</th>                  <td>   -0.0117</td> <td>      nan</td> <td>      nan</td> <td>   nan</td> <td>      nan</td> <td>      nan</td>\n",
       "</tr>\n",
       "<tr>\n",
       "  <th>country_NZ</th>                  <td>    0.1097</td> <td>      nan</td> <td>      nan</td> <td>   nan</td> <td>      nan</td> <td>      nan</td>\n",
       "</tr>\n",
       "<tr>\n",
       "  <th>country_SE</th>                  <td>    0.0944</td> <td>      nan</td> <td>      nan</td> <td>   nan</td> <td>      nan</td> <td>      nan</td>\n",
       "</tr>\n",
       "<tr>\n",
       "  <th>country_SG</th>                  <td>    0.1848</td> <td> 5.28e+06</td> <td>  3.5e-08</td> <td> 1.000</td> <td>-1.03e+07</td> <td> 1.03e+07</td>\n",
       "</tr>\n",
       "<tr>\n",
       "  <th>country_US</th>                  <td>    0.2042</td> <td> 2.61e+05</td> <td> 7.81e-07</td> <td> 1.000</td> <td>-5.13e+05</td> <td> 5.13e+05</td>\n",
       "</tr>\n",
       "</table>"
      ],
      "text/plain": [
       "<class 'statsmodels.iolib.summary.Summary'>\n",
       "\"\"\"\n",
       "                           Logit Regression Results                           \n",
       "==============================================================================\n",
       "Dep. Variable:          classes_state   No. Observations:               331150\n",
       "Model:                          Logit   Df Residuals:                   330960\n",
       "Method:                           MLE   Df Model:                          189\n",
       "Date:                Wed, 11 Dec 2019   Pseudo R-squ.:                  0.1051\n",
       "Time:                        16:04:33   Log-Likelihood:            -1.9983e+05\n",
       "converged:                       True   LL-Null:                   -2.2331e+05\n",
       "Covariance Type:            nonrobust   LLR p-value:                     0.000\n",
       "===============================================================================================\n",
       "                                  coef    std err          z      P>|z|      [0.025      0.975]\n",
       "-----------------------------------------------------------------------------------------------\n",
       "usd_goal_real               -1.406e-05   2.14e-07    -65.600      0.000   -1.45e-05   -1.36e-05\n",
       "number_of_days                 -0.0177      0.000    -56.056      0.000      -0.018      -0.017\n",
       "category_Academic              -0.4779   4.46e+05  -1.07e-06      1.000   -8.74e+05    8.74e+05\n",
       "category_Accessories            0.4520   7.03e+05   6.43e-07      1.000   -1.38e+06    1.38e+06\n",
       "category_Action                -0.8932    4.5e+05  -1.99e-06      1.000   -8.82e+05    8.82e+05\n",
       "category_Animals               -0.1711   7.04e+05  -2.43e-07      1.000   -1.38e+06    1.38e+06\n",
       "category_Animation             -0.1729    4.5e+05  -3.84e-07      1.000   -8.82e+05    8.82e+05\n",
       "category_Anthologies            1.0477   4.51e+05   2.32e-06      1.000   -8.85e+05    8.85e+05\n",
       "category_Apparel               -0.3202   7.01e+05  -4.57e-07      1.000   -1.37e+06    1.37e+06\n",
       "category_Apps                  -2.3805      0.104    -22.966      0.000      -2.584      -2.177\n",
       "category_Architecture          -0.3028   4.67e+05  -6.48e-07      1.000   -9.16e+05    9.16e+05\n",
       "category_Art                    0.1120   2.19e+05    5.1e-07      1.000    -4.3e+05     4.3e+05\n",
       "category_Art Books              0.7973   4.51e+05   1.77e-06      1.000   -8.84e+05    8.84e+05\n",
       "category_Audio                 -1.6482      0.180     -9.181      0.000      -2.000      -1.296\n",
       "category_Bacon                 -0.8367   4.47e+05  -1.87e-06      1.000   -8.76e+05    8.76e+05\n",
       "category_Blues                  0.5175    4.5e+05   1.15e-06      1.000   -8.82e+05    8.82e+05\n",
       "category_Calendars              0.2348   4.43e+05   5.31e-07      1.000   -8.67e+05    8.67e+05\n",
       "category_Camera Equipment       0.4730      0.142      3.321      0.001       0.194       0.752\n",
       "category_Candles               -1.5790   4.47e+05  -3.53e-06      1.000   -8.76e+05    8.76e+05\n",
       "category_Ceramics               0.2107   2.19e+05    9.6e-07      1.000    -4.3e+05     4.3e+05\n",
       "category_Children's Books       0.0542   4.49e+05   1.21e-07      1.000    -8.8e+05     8.8e+05\n",
       "category_Childrenswear         -0.3316   7.02e+05  -4.72e-07      1.000   -1.38e+06    1.38e+06\n",
       "category_Chiptune               2.0704   4.58e+05   4.52e-06      1.000   -8.98e+05    8.98e+05\n",
       "category_Civic Design           0.1634   4.67e+05    3.5e-07      1.000   -9.16e+05    9.16e+05\n",
       "category_Classical Music        1.2459   4.56e+05   2.73e-06      1.000   -8.94e+05    8.94e+05\n",
       "category_Comedy                 0.1929   4.52e+05   4.27e-07      1.000   -8.85e+05    8.85e+05\n",
       "category_Comic Books            0.2622   4.49e+05   5.84e-07      1.000    -8.8e+05     8.8e+05\n",
       "category_Comics                -0.0846   4.58e+05  -1.85e-07      1.000   -8.97e+05    8.97e+05\n",
       "category_Community Gardens     -0.5809   4.54e+05  -1.28e-06      1.000   -8.89e+05    8.89e+05\n",
       "category_Conceptual Art        -0.1694   2.19e+05  -7.72e-07      1.000    -4.3e+05     4.3e+05\n",
       "category_Cookbooks             -0.4106   4.54e+05  -9.04e-07      1.000    -8.9e+05     8.9e+05\n",
       "category_Country & Folk         1.1700   4.47e+05   2.62e-06      1.000   -8.76e+05    8.76e+05\n",
       "category_Couture               -0.5186   7.03e+05  -7.37e-07      1.000   -1.38e+06    1.38e+06\n",
       "category_Crafts                -0.7272   4.45e+05  -1.63e-06      1.000   -8.73e+05    8.73e+05\n",
       "category_Crochet               -1.0124   4.51e+05  -2.25e-06      1.000   -8.84e+05    8.84e+05\n",
       "category_DIY                   -1.2568   4.45e+05  -2.83e-06      1.000   -8.72e+05    8.72e+05\n",
       "category_DIY Electronics        0.1295      0.115      1.129      0.259      -0.095       0.354\n",
       "category_Dance                  1.0894   4.48e+05   2.43e-06      1.000   -8.79e+05    8.79e+05\n",
       "category_Design                -0.0056   4.67e+05   -1.2e-08      1.000   -9.15e+05    9.15e+05\n",
       "category_Digital Art           -0.5075   2.19e+05  -2.31e-06      1.000    -4.3e+05     4.3e+05\n",
       "category_Documentary            0.2531   4.52e+05    5.6e-07      1.000   -8.86e+05    8.86e+05\n",
       "category_Drama                  0.2605   4.44e+05   5.87e-07      1.000   -8.69e+05    8.69e+05\n",
       "category_Drinks                -0.3052   4.51e+05  -6.77e-07      1.000   -8.83e+05    8.83e+05\n",
       "category_Electronic Music      -0.0467   4.59e+05  -1.02e-07      1.000   -8.99e+05    8.99e+05\n",
       "category_Embroidery            -1.2230   4.46e+05  -2.74e-06      1.000   -8.74e+05    8.74e+05\n",
       "category_Events                -0.9170   4.41e+05  -2.08e-06      1.000   -8.64e+05    8.64e+05\n",
       "category_Experimental          -0.2125   4.51e+05  -4.71e-07      1.000   -8.85e+05    8.85e+05\n",
       "category_Fabrication Tools     -0.4675      0.178     -2.621      0.009      -0.817      -0.118\n",
       "category_Faith                  0.3025   4.49e+05   6.74e-07      1.000    -8.8e+05     8.8e+05\n",
       "category_Family                -0.6457   4.57e+05  -1.41e-06      1.000   -8.97e+05    8.97e+05\n",
       "category_Fantasy                0.0855   4.49e+05    1.9e-07      1.000   -8.81e+05    8.81e+05\n",
       "category_Farmer's Markets      -0.9657   4.52e+05  -2.14e-06      1.000   -8.85e+05    8.85e+05\n",
       "category_Farms                 -0.5043    4.5e+05  -1.12e-06      1.000   -8.81e+05    8.81e+05\n",
       "category_Fashion               -0.0172   7.04e+05  -2.45e-08      1.000   -1.38e+06    1.38e+06\n",
       "category_Festivals              0.1949   4.44e+05   4.39e-07      1.000    -8.7e+05     8.7e+05\n",
       "category_Fiction               -0.4456   4.53e+05  -9.83e-07      1.000   -8.89e+05    8.89e+05\n",
       "category_Film & Video          -0.0077    4.5e+05  -1.71e-08      1.000   -8.83e+05    8.83e+05\n",
       "category_Fine Art               0.4014   7.04e+05    5.7e-07      1.000   -1.38e+06    1.38e+06\n",
       "category_Flight                -1.0217      0.161     -6.342      0.000      -1.337      -0.706\n",
       "category_Food                  -0.2257    4.5e+05  -5.02e-07      1.000   -8.82e+05    8.82e+05\n",
       "category_Food Trucks           -1.2146   4.56e+05  -2.66e-06      1.000   -8.93e+05    8.93e+05\n",
       "category_Footwear               0.6097   7.03e+05   8.67e-07      1.000   -1.38e+06    1.38e+06\n",
       "category_Gadgets               -0.2915      0.099     -2.937      0.003      -0.486      -0.097\n",
       "category_Games                 -0.1685        nan        nan        nan         nan         nan\n",
       "category_Gaming Hardware        0.1144        nan        nan        nan         nan         nan\n",
       "category_Glass                 -0.5581   4.51e+05  -1.24e-06      1.000   -8.84e+05    8.84e+05\n",
       "category_Graphic Design        -0.1474   4.67e+05  -3.15e-07      1.000   -9.16e+05    9.16e+05\n",
       "category_Graphic Novels         0.1516   4.43e+05   3.43e-07      1.000   -8.67e+05    8.67e+05\n",
       "category_Hardware              -0.0720      0.097     -0.745      0.456      -0.262       0.117\n",
       "category_Hip-Hop               -1.0746   4.54e+05  -2.37e-06      1.000    -8.9e+05     8.9e+05\n",
       "category_Horror                -0.0775    4.5e+05  -1.72e-07      1.000   -8.82e+05    8.82e+05\n",
       "category_Illustration           0.4665   2.19e+05   2.13e-06      1.000    -4.3e+05     4.3e+05\n",
       "category_Immersive             -0.1331   4.55e+05  -2.92e-07      1.000   -8.92e+05    8.92e+05\n",
       "category_Indie Rock             1.2210   4.51e+05   2.71e-06      1.000   -8.85e+05    8.85e+05\n",
       "category_Installations          0.5389   2.19e+05   2.46e-06      1.000    -4.3e+05     4.3e+05\n",
       "category_Interactive Design    -0.8130   4.67e+05  -1.74e-06      1.000   -9.15e+05    9.15e+05\n",
       "category_Jazz                   1.0682   4.53e+05   2.36e-06      1.000   -8.88e+05    8.88e+05\n",
       "category_Jewelry               -0.0832   7.02e+05  -1.18e-07      1.000   -1.38e+06    1.38e+06\n",
       "category_Journalism            -1.5772      0.149    -10.615      0.000      -1.868      -1.286\n",
       "category_Kids                   0.4802   4.52e+05   1.06e-06      1.000   -8.85e+05    8.85e+05\n",
       "category_Knitting               0.3104   4.48e+05   6.93e-07      1.000   -8.77e+05    8.77e+05\n",
       "category_Latin                 -0.1960   4.51e+05  -4.35e-07      1.000   -8.83e+05    8.83e+05\n",
       "category_Letterpress            1.0760   4.44e+05   2.42e-06      1.000    -8.7e+05     8.7e+05\n",
       "category_Literary Journals      0.6513   4.56e+05   1.43e-06      1.000   -8.93e+05    8.93e+05\n",
       "category_Literary Spaces        1.5614   4.52e+05   3.45e-06      1.000   -8.87e+05    8.87e+05\n",
       "category_Live Games            -0.5780        nan        nan        nan         nan         nan\n",
       "category_Makerspaces           -0.3524      0.174     -2.031      0.042      -0.693      -0.012\n",
       "category_Metal                  0.2323   4.52e+05   5.14e-07      1.000   -8.85e+05    8.85e+05\n",
       "category_Mixed Media           -0.2182   2.19e+05  -9.95e-07      1.000    -4.3e+05     4.3e+05\n",
       "category_Mobile Games          -1.4381        nan        nan        nan         nan         nan\n",
       "category_Movie Theaters        -0.0003   4.53e+05  -6.57e-10      1.000   -8.88e+05    8.88e+05\n",
       "category_Music                  0.5647   4.47e+05   1.26e-06      1.000   -8.77e+05    8.77e+05\n",
       "category_Music Videos          -0.1235   4.49e+05  -2.75e-07      1.000   -8.79e+05    8.79e+05\n",
       "category_Musical               -0.1778   4.51e+05  -3.94e-07      1.000   -8.83e+05    8.83e+05\n",
       "category_Narrative Film         0.3947   4.55e+05   8.67e-07      1.000   -8.92e+05    8.92e+05\n",
       "category_Nature                -0.6046    7.2e+05   -8.4e-07      1.000   -1.41e+06    1.41e+06\n",
       "category_Nonfiction            -0.2627    4.5e+05  -5.84e-07      1.000   -8.82e+05    8.82e+05\n",
       "category_Painting              -0.2218   2.19e+05  -1.01e-06      1.000    -4.3e+05     4.3e+05\n",
       "category_People                -0.3254   8.01e+05  -4.06e-07      1.000   -1.57e+06    1.57e+06\n",
       "category_Performance Art        0.1917   2.19e+05   8.74e-07      1.000    -4.3e+05     4.3e+05\n",
       "category_Performances           0.8847   4.53e+05   1.95e-06      1.000   -8.88e+05    8.88e+05\n",
       "category_Periodicals            0.3980    4.5e+05   8.84e-07      1.000   -8.83e+05    8.83e+05\n",
       "category_Pet Fashion            0.1252   7.01e+05   1.79e-07      1.000   -1.37e+06    1.37e+06\n",
       "category_Photo                 -2.2565      0.242     -9.335      0.000      -2.730      -1.783\n",
       "category_Photobooks             0.6719   8.15e+05   8.24e-07      1.000    -1.6e+06     1.6e+06\n",
       "category_Photography            0.2170   7.45e+05   2.91e-07      1.000   -1.46e+06    1.46e+06\n",
       "category_Places                -0.6828   6.65e+05  -1.03e-06      1.000    -1.3e+06     1.3e+06\n",
       "category_Playing Cards          0.4839        nan        nan        nan         nan         nan\n",
       "category_Plays                 -0.0177   4.52e+05  -3.93e-08      1.000   -8.85e+05    8.85e+05\n",
       "category_Poetry                 0.0451   4.51e+05      1e-07      1.000   -8.83e+05    8.83e+05\n",
       "category_Pop                    0.5620   4.53e+05   1.24e-06      1.000   -8.88e+05    8.88e+05\n",
       "category_Pottery                0.3537   4.49e+05   7.89e-07      1.000   -8.79e+05    8.79e+05\n",
       "category_Print                 -1.8265      0.166    -11.005      0.000      -2.152      -1.501\n",
       "category_Printing              -0.8410   4.51e+05  -1.87e-06      1.000   -8.83e+05    8.83e+05\n",
       "category_Product Design         0.1885   4.67e+05   4.03e-07      1.000   -9.16e+05    9.16e+05\n",
       "category_Public Art             0.5129   2.19e+05   2.34e-06      1.000    -4.3e+05     4.3e+05\n",
       "category_Publishing            -0.0994   4.54e+05  -2.19e-07      1.000   -8.89e+05    8.89e+05\n",
       "category_Punk                   0.6610   4.54e+05   1.46e-06      1.000   -8.89e+05    8.89e+05\n",
       "category_Puzzles                0.3200        nan        nan        nan         nan         nan\n",
       "category_Quilts                -0.8445   4.48e+05  -1.88e-06      1.000   -8.79e+05    8.79e+05\n",
       "category_R&B                   -0.5674    4.5e+05  -1.26e-06      1.000   -8.82e+05    8.82e+05\n",
       "category_Radio & Podcasts       0.3993   4.54e+05   8.79e-07      1.000    -8.9e+05     8.9e+05\n",
       "category_Ready-to-wear         -0.4546   7.04e+05  -6.45e-07      1.000   -1.38e+06    1.38e+06\n",
       "category_Residencies            1.3912   4.55e+05   3.05e-06      1.000   -8.93e+05    8.93e+05\n",
       "category_Restaurants           -0.6642   4.53e+05  -1.47e-06      1.000   -8.88e+05    8.88e+05\n",
       "category_Robots                 0.1203      0.130      0.922      0.356      -0.135       0.376\n",
       "category_Rock                   0.7288   4.53e+05   1.61e-06      1.000   -8.87e+05    8.87e+05\n",
       "category_Romance               -0.0758   4.48e+05  -1.69e-07      1.000   -8.77e+05    8.77e+05\n",
       "category_Science Fiction        0.3235   4.51e+05   7.17e-07      1.000   -8.84e+05    8.84e+05\n",
       "category_Sculpture              0.0165   2.19e+05   7.52e-08      1.000    -4.3e+05     4.3e+05\n",
       "category_Shorts                 0.7067   4.52e+05   1.56e-06      1.000   -8.85e+05    8.85e+05\n",
       "category_Small Batch           -0.2177   4.51e+05  -4.83e-07      1.000   -8.83e+05    8.83e+05\n",
       "category_Software              -1.6069      0.105    -15.231      0.000      -1.814      -1.400\n",
       "category_Sound                  0.2924      0.126      2.319      0.020       0.045       0.539\n",
       "category_Space Exploration     -0.0076      0.157     -0.048      0.961      -0.316       0.301\n",
       "category_Spaces                -0.0433   4.47e+05  -9.69e-08      1.000   -8.77e+05    8.77e+05\n",
       "category_Stationery            -0.2035   4.44e+05  -4.58e-07      1.000   -8.71e+05    8.71e+05\n",
       "category_Tabletop Games         1.2948        nan        nan        nan         nan         nan\n",
       "category_Taxidermy              0.1832    4.5e+05   4.07e-07      1.000   -8.83e+05    8.83e+05\n",
       "category_Technology            -0.9235      0.094     -9.793      0.000      -1.108      -0.739\n",
       "category_Television            -0.8379   4.44e+05  -1.89e-06      1.000    -8.7e+05     8.7e+05\n",
       "category_Textiles              -0.5130   2.19e+05  -2.34e-06      1.000    -4.3e+05     4.3e+05\n",
       "category_Theater                0.1849   4.49e+05   4.12e-07      1.000    -8.8e+05     8.8e+05\n",
       "category_Thrillers             -0.2342   4.53e+05  -5.17e-07      1.000   -8.88e+05    8.88e+05\n",
       "category_Translations          -0.2616   4.53e+05  -5.77e-07      1.000   -8.88e+05    8.88e+05\n",
       "category_Typography             0.9761   4.67e+05   2.09e-06      1.000   -9.16e+05    9.16e+05\n",
       "category_Vegan                 -0.0310   4.47e+05  -6.92e-08      1.000   -8.77e+05    8.77e+05\n",
       "category_Video                 -2.5848      0.205    -12.601      0.000      -2.987      -2.183\n",
       "category_Video Art             -0.5329   2.19e+05  -2.43e-06      1.000    -4.3e+05     4.3e+05\n",
       "category_Video Games           -0.2685        nan        nan        nan         nan         nan\n",
       "category_Wearables              0.0185      0.112      0.165      0.869      -0.201       0.238\n",
       "category_Weaving               -0.3896   4.52e+05  -8.62e-07      1.000   -8.86e+05    8.86e+05\n",
       "category_Web                   -2.3198      0.110    -21.018      0.000      -2.536      -2.103\n",
       "category_Webcomics              0.1070   4.52e+05   2.37e-07      1.000   -8.85e+05    8.85e+05\n",
       "category_Webseries             -0.2581   4.48e+05  -5.76e-07      1.000   -8.78e+05    8.78e+05\n",
       "category_Woodworking           -0.7419   4.54e+05  -1.64e-06      1.000   -8.89e+05    8.89e+05\n",
       "category_Workshops             -0.3478   4.53e+05  -7.68e-07      1.000   -8.87e+05    8.87e+05\n",
       "category_World Music            0.4632   4.52e+05   1.02e-06      1.000   -8.86e+05    8.86e+05\n",
       "category_Young Adult           -0.5952   4.51e+05  -1.32e-06      1.000   -8.85e+05    8.85e+05\n",
       "category_Zines                  0.5594   4.48e+05   1.25e-06      1.000   -8.77e+05    8.77e+05\n",
       "main_category_Comics            0.6037   3.28e+05   1.84e-06      1.000   -6.43e+05    6.43e+05\n",
       "main_category_Crafts            0.0243   3.27e+05   7.41e-08      1.000   -6.42e+05    6.42e+05\n",
       "main_category_Dance             0.0156   3.29e+05   4.74e-08      1.000   -6.45e+05    6.45e+05\n",
       "main_category_Design            0.0591   3.68e+05   1.61e-07      1.000   -7.21e+05    7.21e+05\n",
       "main_category_Fashion          -0.5386   6.37e+05  -8.46e-07      1.000   -1.25e+06    1.25e+06\n",
       "main_category_Film & Video     -0.0838   3.28e+05  -2.55e-07      1.000   -6.44e+05    6.44e+05\n",
       "main_category_Food             -0.1250   3.29e+05   -3.8e-07      1.000   -6.45e+05    6.45e+05\n",
       "main_category_Games            -0.2399        nan        nan        nan         nan         nan\n",
       "main_category_Journalism        1.1516   2.19e+05   5.25e-06      1.000    -4.3e+05     4.3e+05\n",
       "main_category_Music            -0.1700   3.25e+05  -5.22e-07      1.000   -6.38e+05    6.38e+05\n",
       "main_category_Photography      -0.4936    9.6e+05  -5.14e-07      1.000   -1.88e+06    1.88e+06\n",
       "main_category_Publishing       -0.2423   3.31e+05  -7.32e-07      1.000   -6.49e+05    6.49e+05\n",
       "main_category_Technology        0.4361   2.19e+05   1.99e-06      1.000    -4.3e+05     4.3e+05\n",
       "main_category_Theater           0.7985   3.28e+05   2.43e-06      1.000   -6.43e+05    6.43e+05\n",
       "currency_CAD                    0.0746    2.1e+06   3.55e-08      1.000   -4.12e+06    4.12e+06\n",
       "currency_CHF                    0.1133   7.44e+06   1.52e-08      1.000   -1.46e+07    1.46e+07\n",
       "currency_DKK                    0.2147   7.03e+07   3.05e-09      1.000   -1.38e+08    1.38e+08\n",
       "currency_EUR                   -0.2669   2.19e+05  -1.22e-06      1.000    -4.3e+05     4.3e+05\n",
       "currency_GBP                    0.1740   6.42e+05   2.71e-07      1.000   -1.26e+06    1.26e+06\n",
       "currency_HKD                    0.2806        nan        nan        nan         nan         nan\n",
       "currency_JPY                   -0.0548   4.22e+07   -1.3e-09      1.000   -8.28e+07    8.28e+07\n",
       "currency_MXN                   -0.1133   2.57e+06   -4.4e-08      1.000   -5.04e+06    5.04e+06\n",
       "currency_NOK                   -0.0117        nan        nan        nan         nan         nan\n",
       "currency_NZD                    0.1097        nan        nan        nan         nan         nan\n",
       "currency_SEK                    0.0944        nan        nan        nan         nan         nan\n",
       "currency_SGD                    0.1848   5.28e+06    3.5e-08      1.000   -1.03e+07    1.03e+07\n",
       "currency_USD                    0.2042   4.01e+05   5.09e-07      1.000   -7.86e+05    7.86e+05\n",
       "country_AU                      0.0784   2.19e+05   3.57e-07      1.000    -4.3e+05     4.3e+05\n",
       "country_BE                      0.3901      0.155      2.518      0.012       0.086       0.694\n",
       "country_CA                      0.0746   1.99e+06   3.74e-08      1.000    -3.9e+06     3.9e+06\n",
       "country_CH                      0.1133    7.4e+06   1.53e-08      1.000   -1.45e+07    1.45e+07\n",
       "country_DE                      0.2397      0.123      1.955      0.051      -0.001       0.480\n",
       "country_DK                      0.2147   7.04e+07   3.05e-09      1.000   -1.38e+08    1.38e+08\n",
       "country_ES                      0.1361      0.129      1.058      0.290      -0.116       0.388\n",
       "country_FR                      0.7287      0.124      5.874      0.000       0.486       0.972\n",
       "country_GB                      0.1740   8.47e+05   2.06e-07      1.000   -1.66e+06    1.66e+06\n",
       "country_HK                      0.2806        nan        nan        nan         nan         nan\n",
       "country_IE                      0.2607      0.146      1.788      0.074      -0.025       0.546\n",
       "country_IT                     -0.2360      0.128     -1.837      0.066      -0.488       0.016\n",
       "country_JP                     -0.0548   4.22e+07   -1.3e-09      1.000   -8.28e+07    8.28e+07\n",
       "country_LU                      0.5348      0.324      1.650      0.099      -0.101       1.170\n",
       "country_MX                     -0.1133   2.18e+06  -5.19e-08      1.000   -4.28e+06    4.28e+06\n",
       "country_NL                      0.1841      0.126      1.463      0.143      -0.063       0.431\n",
       "country_NO                     -0.0117        nan        nan        nan         nan         nan\n",
       "country_NZ                      0.1097        nan        nan        nan         nan         nan\n",
       "country_SE                      0.0944        nan        nan        nan         nan         nan\n",
       "country_SG                      0.1848   5.28e+06    3.5e-08      1.000   -1.03e+07    1.03e+07\n",
       "country_US                      0.2042   2.61e+05   7.81e-07      1.000   -5.13e+05    5.13e+05\n",
       "===============================================================================================\n",
       "\"\"\""
      ]
     },
     "execution_count": 18,
     "metadata": {},
     "output_type": "execute_result"
    }
   ],
   "source": [
    "result.summary()"
   ]
  },
  {
   "cell_type": "markdown",
   "metadata": {},
   "source": [
    "The r2 value of the model is 0.6 but based on the summary table above we definitely have a lot of categorical dummy variables that are not significant based on alpha value of 0.05 in prediction of the classes."
   ]
  },
  {
   "cell_type": "markdown",
   "metadata": {},
   "source": [
    "The next step is to use Sci-kit learn but this time we use train test split and standardize the varaibles using MaxMin scaler"
   ]
  },
  {
   "cell_type": "code",
   "execution_count": 19,
   "metadata": {},
   "outputs": [],
   "source": [
    "def preprocession(X,y):\n",
    "    X_train, X_test, y_train, y_test = train_test_split(X, y, random_state=42, test_size = 0.3)\n",
    "    stdscaler = StandardScaler()\n",
    "    stdscaler.fit(X_train)\n",
    "    X_train_scaled = pd.DataFrame(data = stdscaler.transform(X_train), columns = X_train.columns)\n",
    "    X_test_scaled = pd.DataFrame(data = stdscaler.transform(X_test), columns = X_test.columns)\n",
    "    return X_train_scaled, X_test_scaled, y_train, y_test\n"
   ]
  },
  {
   "cell_type": "code",
   "execution_count": 20,
   "metadata": {},
   "outputs": [],
   "source": [
    "X_train_scaled, X_test_scaled, y_train, y_test = preprocession(predictors,target);"
   ]
  },
  {
   "cell_type": "markdown",
   "metadata": {},
   "source": [
    "Using the saga solver because I have a large dataset as liblinear is for smaller datasets"
   ]
  },
  {
   "cell_type": "code",
   "execution_count": 21,
   "metadata": {},
   "outputs": [
    {
     "name": "stderr",
     "output_type": "stream",
     "text": [
      "/Users/yusufolodo/anaconda3/lib/python3.7/site-packages/sklearn/linear_model/sag.py:337: ConvergenceWarning: The max_iter was reached which means the coef_ did not converge\n",
      "  \"the coef_ did not converge\", ConvergenceWarning)\n"
     ]
    },
    {
     "data": {
      "text/plain": [
       "LogisticRegression(C=1000000000000.0, class_weight=None, dual=False,\n",
       "                   fit_intercept=False, intercept_scaling=1, l1_ratio=None,\n",
       "                   max_iter=100, multi_class='warn', n_jobs=None, penalty='l2',\n",
       "                   random_state=None, solver='saga', tol=0.0001, verbose=0,\n",
       "                   warm_start=False)"
      ]
     },
     "execution_count": 21,
     "metadata": {},
     "output_type": "execute_result"
    }
   ],
   "source": [
    "logreg = LogisticRegression(fit_intercept=False, C=1e12, solver='saga')\n",
    "model_log = logreg.fit(X_train_scaled, y_train)\n",
    "model_log"
   ]
  },
  {
   "cell_type": "code",
   "execution_count": 24,
   "metadata": {},
   "outputs": [],
   "source": [
    "y_hat_test = model_log.predict(X_test_scaled)\n",
    "y_hat_train = model_log.predict(X_train_scaled)\n"
   ]
  },
  {
   "cell_type": "markdown",
   "metadata": {},
   "source": [
    "Using the logistic regression to predict classes and checking for the probability of the model predicting the correct failed and successful classes"
   ]
  },
  {
   "cell_type": "code",
   "execution_count": 25,
   "metadata": {},
   "outputs": [
    {
     "name": "stdout",
     "output_type": "stream",
     "text": [
      "0    147321\n",
      "1     84484\n",
      "Name: classes_state, dtype: int64\n",
      "0    0.635538\n",
      "1    0.364462\n",
      "Name: classes_state, dtype: float64\n"
     ]
    }
   ],
   "source": [
    "import numpy as np\n",
    "# We could subtract the two columns. If values or equal, difference will be zero. Then count number of zeros \n",
    "residuals = np.abs(y_train - y_hat_train)\n",
    "print(pd.Series(residuals).value_counts())\n",
    "print(pd.Series(residuals).value_counts(normalize=True))"
   ]
  },
  {
   "cell_type": "markdown",
   "metadata": {},
   "source": [
    "The model is performing averagely when using a linear regression, as the classifier is 63% correct on the training data"
   ]
  },
  {
   "cell_type": "code",
   "execution_count": 26,
   "metadata": {},
   "outputs": [
    {
     "name": "stdout",
     "output_type": "stream",
     "text": [
      "0    63148\n",
      "1    36197\n",
      "Name: classes_state, dtype: int64\n",
      "0    0.635643\n",
      "1    0.364357\n",
      "Name: classes_state, dtype: float64\n"
     ]
    }
   ],
   "source": [
    "residuals = np.abs(y_test - y_hat_test)\n",
    "print(pd.Series(residuals).value_counts())\n",
    "print(pd.Series(residuals).value_counts(normalize=True))"
   ]
  },
  {
   "cell_type": "markdown",
   "metadata": {},
   "source": [
    "When predicting the test data, our model is worse as it can only predict 63% of the data accurately"
   ]
  },
  {
   "cell_type": "code",
   "execution_count": 27,
   "metadata": {},
   "outputs": [
    {
     "name": "stdout",
     "output_type": "stream",
     "text": [
      "Accuracy_score: 0.635643464693744\n",
      "\n",
      "\n",
      "              precision    recall  f1-score   support\n",
      "\n",
      "           0       0.73      0.62      0.67     59393\n",
      "           1       0.54      0.66      0.59     39952\n",
      "\n",
      "    accuracy                           0.64     99345\n",
      "   macro avg       0.63      0.64      0.63     99345\n",
      "weighted avg       0.65      0.64      0.64     99345\n",
      "\n"
     ]
    },
    {
     "data": {
      "text/plain": [
       "(None, None, None)"
      ]
     },
     "execution_count": 27,
     "metadata": {},
     "output_type": "execute_result"
    }
   ],
   "source": [
    " print('Accuracy_score:',accuracy_score(y_test, y_hat_test)), print('\\n') ,print(classification_report(y_test, y_hat_test))"
   ]
  },
  {
   "cell_type": "markdown",
   "metadata": {},
   "source": [
    "And the accuracy score 63.5%"
   ]
  },
  {
   "cell_type": "code",
   "execution_count": 28,
   "metadata": {},
   "outputs": [],
   "source": [
    "y_proba_test = model_log.predict_proba(X_test_scaled)"
   ]
  },
  {
   "cell_type": "code",
   "execution_count": 29,
   "metadata": {},
   "outputs": [
    {
     "data": {
      "text/plain": [
       "array([[0.7481717 , 0.2518283 ],\n",
       "       [0.73124903, 0.26875097],\n",
       "       [0.43498093, 0.56501907],\n",
       "       ...,\n",
       "       [0.62099332, 0.37900668],\n",
       "       [0.31836808, 0.68163192],\n",
       "       [0.36354054, 0.63645946]])"
      ]
     },
     "execution_count": 29,
     "metadata": {},
     "output_type": "execute_result"
    }
   ],
   "source": [
    "y_proba_test"
   ]
  },
  {
   "cell_type": "code",
   "execution_count": 33,
   "metadata": {},
   "outputs": [
    {
     "name": "stdout",
     "output_type": "stream",
     "text": [
      "Confusion Matrix:\n",
      " [[36736 22657]\n",
      " [13540 26412]]\n"
     ]
    }
   ],
   "source": [
    "cnf_matrix = confusion_matrix(y_test, y_hat_test)\n",
    "print('Confusion Matrix:\\n', cnf_matrix)"
   ]
  },
  {
   "cell_type": "markdown",
   "metadata": {},
   "source": [
    "The confusion matrix is a better way to evaluate the model since accuracy doesn't perform a good job on skewed datasets. The row represents the actual class and the columns represent the predicted class.\n",
    "Judging from this data set we have 36736 True Negatives, 22576 False positives, 13540 false negatives, 26412 True positives"
   ]
  },
  {
   "cell_type": "code",
   "execution_count": 34,
   "metadata": {},
   "outputs": [
    {
     "data": {
      "text/plain": [
       "0.5933880769706025"
      ]
     },
     "execution_count": 34,
     "metadata": {},
     "output_type": "execute_result"
    }
   ],
   "source": [
    "from sklearn.metrics import f1_score\n",
    "f1_score(y_test, y_hat_test)"
   ]
  },
  {
   "cell_type": "markdown",
   "metadata": {},
   "source": [
    "To view all the metric scores at a glance\n"
   ]
  },
  {
   "cell_type": "code",
   "execution_count": 35,
   "metadata": {},
   "outputs": [
    {
     "name": "stdout",
     "output_type": "stream",
     "text": [
      "Training Precision:  0.5398481559931313\n",
      "Testing Precision:  0.538262446758646\n",
      "\n",
      "\n",
      "\n",
      "Training Recall:  0.6614865370032149\n",
      "Testing Recall:  0.6610933119743693\n",
      "\n",
      "\n",
      "\n",
      "Training Accuracy:  0.6355384914044132\n",
      "Testing Accuracy:  0.635643464693744\n",
      "\n",
      "\n",
      "\n",
      "Training F1-Score:  0.5945092392608592\n",
      "Testing F1-Score:  0.5933880769706025\n"
     ]
    }
   ],
   "source": [
    "from sklearn.metrics import precision_score, recall_score, accuracy_score, f1_score\n",
    "\n",
    "print('Training Precision: ', precision_score(y_train, y_hat_train))\n",
    "print('Testing Precision: ', precision_score(y_test, y_hat_test))\n",
    "print('\\n\\n')\n",
    "\n",
    "print('Training Recall: ', recall_score(y_train, y_hat_train))\n",
    "print('Testing Recall: ', recall_score(y_test, y_hat_test))\n",
    "print('\\n\\n')\n",
    "\n",
    "print('Training Accuracy: ', accuracy_score(y_train, y_hat_train))\n",
    "print('Testing Accuracy: ', accuracy_score(y_test, y_hat_test))\n",
    "print('\\n\\n')\n",
    "\n",
    "print('Training F1-Score: ', f1_score(y_train, y_hat_train))\n",
    "print('Testing F1-Score: ', f1_score(y_test, y_hat_test))"
   ]
  },
  {
   "cell_type": "code",
   "execution_count": 36,
   "metadata": {},
   "outputs": [
    {
     "name": "stderr",
     "output_type": "stream",
     "text": [
      "/Users/yusufolodo/anaconda3/lib/python3.7/site-packages/sklearn/linear_model/sag.py:337: ConvergenceWarning: The max_iter was reached which means the coef_ did not converge\n",
      "  \"the coef_ did not converge\", ConvergenceWarning)\n"
     ]
    }
   ],
   "source": [
    "# calculating the probability scores\n",
    "y_score = logreg.fit(X_train_scaled, y_train).decision_function(X_test_scaled)\n",
    "\n",
    "fpr, tpr, thresholds = roc_curve(y_test, y_score)"
   ]
  },
  {
   "cell_type": "code",
   "execution_count": 37,
   "metadata": {},
   "outputs": [
    {
     "name": "stdout",
     "output_type": "stream",
     "text": [
      "AUC: 0.697324512294554\n"
     ]
    }
   ],
   "source": [
    "print('AUC: {}'.format(auc(fpr, tpr)))"
   ]
  },
  {
   "cell_type": "markdown",
   "metadata": {},
   "source": [
    "The AUC score is 0.69"
   ]
  },
  {
   "cell_type": "code",
   "execution_count": 38,
   "metadata": {},
   "outputs": [
    {
     "name": "stdout",
     "output_type": "stream",
     "text": [
      "AUC: 0.697324512294554\n"
     ]
    },
    {
     "data": {
      "image/png": "[encoded data removed]",
      "text/plain": [
       "<Figure size 720x576 with 1 Axes>"
      ]
     },
     "metadata": {},
     "output_type": "display_data"
    }
   ],
   "source": [
    "import matplotlib.pyplot as plt\n",
    "import seaborn as sns\n",
    "%matplotlib inline\n",
    "\n",
    "# Seaborn's beautiful styling\n",
    "sns.set_style('darkgrid', {'axes.facecolor': '0.9'})\n",
    "\n",
    "print('AUC: {}'.format(auc(fpr, tpr)))\n",
    "plt.figure(figsize=(10, 8))\n",
    "lw = 2\n",
    "plt.plot(fpr, tpr, color='darkorange',\n",
    "         lw=lw, label='ROC curve')\n",
    "plt.plot([0, 1], [0, 1], color='navy', lw=lw, linestyle='--')\n",
    "plt.xlim([0.0, 1.0])\n",
    "plt.ylim([0.0, 1.05])\n",
    "plt.yticks([i/20.0 for i in range(21)])\n",
    "plt.xticks([i/20.0 for i in range(21)])\n",
    "plt.xlabel('False Positive Rate')\n",
    "plt.ylabel('True Positive Rate')\n",
    "plt.title('Receiver operating characteristic (ROC) Curve')\n",
    "plt.legend(loc='lower right')\n",
    "plt.show()"
   ]
  },
  {
   "cell_type": "markdown",
   "metadata": {},
   "source": [
    "In final conclusion.. the best AUC score for the Logistic Regression model is 0.69"
   ]
  },
  {
   "cell_type": "markdown",
   "metadata": {},
   "source": [
    "### CLASS IMBALANCE LOGISTIC REGRESSION"
   ]
  },
  {
   "cell_type": "code",
   "execution_count": 39,
   "metadata": {},
   "outputs": [
    {
     "name": "stdout",
     "output_type": "stream",
     "text": [
      "Raw counts: \n",
      "\n",
      "0    197611\n",
      "1    133851\n",
      "Name: classes_state, dtype: int64\n",
      "-----------------------------------\n",
      "Normalized counts: \n",
      "\n",
      "0    0.59618\n",
      "1    0.40382\n",
      "Name: classes_state, dtype: float64\n"
     ]
    }
   ],
   "source": [
    "print('Raw counts: \\n')\n",
    "print(kick['classes_state'].value_counts())\n",
    "print('-----------------------------------')\n",
    "print('Normalized counts: \\n')\n",
    "print(kick['classes_state'].value_counts(normalize=True))"
   ]
  },
  {
   "cell_type": "markdown",
   "metadata": {},
   "source": [
    "Approximately 60/40% split between target variable classes"
   ]
  },
  {
   "cell_type": "code",
   "execution_count": 41,
   "metadata": {},
   "outputs": [
    {
     "name": "stderr",
     "output_type": "stream",
     "text": [
      "/Users/yusufolodo/anaconda3/lib/python3.7/site-packages/sklearn/linear_model/logistic.py:947: ConvergenceWarning: lbfgs failed to converge. Increase the number of iterations.\n",
      "  \"of iterations.\", ConvergenceWarning)\n"
     ]
    },
    {
     "name": "stdout",
     "output_type": "stream",
     "text": [
      "LogisticRegression(C=1e+20, class_weight=None, dual=False, fit_intercept=False,\n",
      "                   intercept_scaling=1, l1_ratio=None, max_iter=100,\n",
      "                   multi_class='warn', n_jobs=None, penalty='l2',\n",
      "                   random_state=None, solver='lbfgs', tol=0.0001, verbose=0,\n",
      "                   warm_start=False)\n"
     ]
    },
    {
     "name": "stderr",
     "output_type": "stream",
     "text": [
      "/Users/yusufolodo/anaconda3/lib/python3.7/site-packages/sklearn/linear_model/logistic.py:947: ConvergenceWarning: lbfgs failed to converge. Increase the number of iterations.\n",
      "  \"of iterations.\", ConvergenceWarning)\n"
     ]
    },
    {
     "name": "stdout",
     "output_type": "stream",
     "text": [
      "AUC for None: 0.6978351380099033\n",
      "-------------------------------------------------------------------------------------\n"
     ]
    },
    {
     "name": "stderr",
     "output_type": "stream",
     "text": [
      "/Users/yusufolodo/anaconda3/lib/python3.7/site-packages/sklearn/linear_model/logistic.py:947: ConvergenceWarning: lbfgs failed to converge. Increase the number of iterations.\n",
      "  \"of iterations.\", ConvergenceWarning)\n"
     ]
    },
    {
     "name": "stdout",
     "output_type": "stream",
     "text": [
      "LogisticRegression(C=1e+20, class_weight='balanced', dual=False,\n",
      "                   fit_intercept=False, intercept_scaling=1, l1_ratio=None,\n",
      "                   max_iter=100, multi_class='warn', n_jobs=None, penalty='l2',\n",
      "                   random_state=None, solver='lbfgs', tol=0.0001, verbose=0,\n",
      "                   warm_start=False)\n"
     ]
    },
    {
     "name": "stderr",
     "output_type": "stream",
     "text": [
      "/Users/yusufolodo/anaconda3/lib/python3.7/site-packages/sklearn/linear_model/logistic.py:947: ConvergenceWarning: lbfgs failed to converge. Increase the number of iterations.\n",
      "  \"of iterations.\", ConvergenceWarning)\n"
     ]
    },
    {
     "name": "stdout",
     "output_type": "stream",
     "text": [
      "AUC for Balanced: 0.7062008239631804\n",
      "-------------------------------------------------------------------------------------\n"
     ]
    },
    {
     "name": "stderr",
     "output_type": "stream",
     "text": [
      "/Users/yusufolodo/anaconda3/lib/python3.7/site-packages/sklearn/linear_model/logistic.py:947: ConvergenceWarning: lbfgs failed to converge. Increase the number of iterations.\n",
      "  \"of iterations.\", ConvergenceWarning)\n"
     ]
    },
    {
     "name": "stdout",
     "output_type": "stream",
     "text": [
      "LogisticRegression(C=1e+20, class_weight={0: 1, 1: 1.5}, dual=False,\n",
      "                   fit_intercept=False, intercept_scaling=1, l1_ratio=None,\n",
      "                   max_iter=100, multi_class='warn', n_jobs=None, penalty='l2',\n",
      "                   random_state=None, solver='lbfgs', tol=0.0001, verbose=0,\n",
      "                   warm_start=False)\n"
     ]
    },
    {
     "name": "stderr",
     "output_type": "stream",
     "text": [
      "/Users/yusufolodo/anaconda3/lib/python3.7/site-packages/sklearn/linear_model/logistic.py:947: ConvergenceWarning: lbfgs failed to converge. Increase the number of iterations.\n",
      "  \"of iterations.\", ConvergenceWarning)\n"
     ]
    },
    {
     "name": "stdout",
     "output_type": "stream",
     "text": [
      "AUC for 1.5 to 1: 0.7066261929751865\n",
      "-------------------------------------------------------------------------------------\n"
     ]
    },
    {
     "name": "stderr",
     "output_type": "stream",
     "text": [
      "/Users/yusufolodo/anaconda3/lib/python3.7/site-packages/sklearn/linear_model/logistic.py:947: ConvergenceWarning: lbfgs failed to converge. Increase the number of iterations.\n",
      "  \"of iterations.\", ConvergenceWarning)\n"
     ]
    },
    {
     "name": "stdout",
     "output_type": "stream",
     "text": [
      "LogisticRegression(C=1e+20, class_weight={0: 1, 1: 2}, dual=False,\n",
      "                   fit_intercept=False, intercept_scaling=1, l1_ratio=None,\n",
      "                   max_iter=100, multi_class='warn', n_jobs=None, penalty='l2',\n",
      "                   random_state=None, solver='lbfgs', tol=0.0001, verbose=0,\n",
      "                   warm_start=False)\n"
     ]
    },
    {
     "name": "stderr",
     "output_type": "stream",
     "text": [
      "/Users/yusufolodo/anaconda3/lib/python3.7/site-packages/sklearn/linear_model/logistic.py:947: ConvergenceWarning: lbfgs failed to converge. Increase the number of iterations.\n",
      "  \"of iterations.\", ConvergenceWarning)\n"
     ]
    },
    {
     "name": "stdout",
     "output_type": "stream",
     "text": [
      "AUC for 2 to 1: 0.712075707153536\n",
      "-------------------------------------------------------------------------------------\n"
     ]
    },
    {
     "name": "stderr",
     "output_type": "stream",
     "text": [
      "/Users/yusufolodo/anaconda3/lib/python3.7/site-packages/sklearn/linear_model/logistic.py:947: ConvergenceWarning: lbfgs failed to converge. Increase the number of iterations.\n",
      "  \"of iterations.\", ConvergenceWarning)\n"
     ]
    },
    {
     "name": "stdout",
     "output_type": "stream",
     "text": [
      "LogisticRegression(C=1e+20, class_weight={0: 1, 1: 10}, dual=False,\n",
      "                   fit_intercept=False, intercept_scaling=1, l1_ratio=None,\n",
      "                   max_iter=100, multi_class='warn', n_jobs=None, penalty='l2',\n",
      "                   random_state=None, solver='lbfgs', tol=0.0001, verbose=0,\n",
      "                   warm_start=False)\n"
     ]
    },
    {
     "name": "stderr",
     "output_type": "stream",
     "text": [
      "/Users/yusufolodo/anaconda3/lib/python3.7/site-packages/sklearn/linear_model/logistic.py:947: ConvergenceWarning: lbfgs failed to converge. Increase the number of iterations.\n",
      "  \"of iterations.\", ConvergenceWarning)\n"
     ]
    },
    {
     "name": "stdout",
     "output_type": "stream",
     "text": [
      "AUC for 10 to 1: 0.7073015732461363\n",
      "-------------------------------------------------------------------------------------\n"
     ]
    },
    {
     "name": "stderr",
     "output_type": "stream",
     "text": [
      "/Users/yusufolodo/anaconda3/lib/python3.7/site-packages/sklearn/linear_model/logistic.py:947: ConvergenceWarning: lbfgs failed to converge. Increase the number of iterations.\n",
      "  \"of iterations.\", ConvergenceWarning)\n"
     ]
    },
    {
     "name": "stdout",
     "output_type": "stream",
     "text": [
      "LogisticRegression(C=1e+20, class_weight={0: 1, 1: 100}, dual=False,\n",
      "                   fit_intercept=False, intercept_scaling=1, l1_ratio=None,\n",
      "                   max_iter=100, multi_class='warn', n_jobs=None, penalty='l2',\n",
      "                   random_state=None, solver='lbfgs', tol=0.0001, verbose=0,\n",
      "                   warm_start=False)\n"
     ]
    },
    {
     "name": "stderr",
     "output_type": "stream",
     "text": [
      "/Users/yusufolodo/anaconda3/lib/python3.7/site-packages/sklearn/linear_model/logistic.py:947: ConvergenceWarning: lbfgs failed to converge. Increase the number of iterations.\n",
      "  \"of iterations.\", ConvergenceWarning)\n"
     ]
    },
    {
     "name": "stdout",
     "output_type": "stream",
     "text": [
      "AUC for 100 to 1: 0.6673626147244893\n",
      "-------------------------------------------------------------------------------------\n"
     ]
    },
    {
     "name": "stderr",
     "output_type": "stream",
     "text": [
      "/Users/yusufolodo/anaconda3/lib/python3.7/site-packages/sklearn/linear_model/logistic.py:947: ConvergenceWarning: lbfgs failed to converge. Increase the number of iterations.\n",
      "  \"of iterations.\", ConvergenceWarning)\n"
     ]
    },
    {
     "name": "stdout",
     "output_type": "stream",
     "text": [
      "LogisticRegression(C=1e+20, class_weight={0: 1, 1: 1000}, dual=False,\n",
      "                   fit_intercept=False, intercept_scaling=1, l1_ratio=None,\n",
      "                   max_iter=100, multi_class='warn', n_jobs=None, penalty='l2',\n",
      "                   random_state=None, solver='lbfgs', tol=0.0001, verbose=0,\n",
      "                   warm_start=False)\n"
     ]
    },
    {
     "name": "stderr",
     "output_type": "stream",
     "text": [
      "/Users/yusufolodo/anaconda3/lib/python3.7/site-packages/sklearn/linear_model/logistic.py:947: ConvergenceWarning: lbfgs failed to converge. Increase the number of iterations.\n",
      "  \"of iterations.\", ConvergenceWarning)\n"
     ]
    },
    {
     "name": "stdout",
     "output_type": "stream",
     "text": [
      "AUC for 1000 to 1: 0.6511960346050875\n",
      "-------------------------------------------------------------------------------------\n"
     ]
    },
    {
     "data": {
      "image/png": "[encoded data removed]",
      "text/plain": [
       "<Figure size 720x576 with 1 Axes>"
      ]
     },
     "metadata": {
      "needs_background": "light"
     },
     "output_type": "display_data"
    }
   ],
   "source": [
    "weights = [None, 'balanced', {1:1.5, 0:1}, {1:2, 0:1}, {1:10, 0:1}, {1:100, 0:1}, {1:1000, 0:1}]\n",
    "names = ['None', 'Balanced', '1.5 to 1','2 to 1', '10 to 1', '100 to 1', '1000 to 1']\n",
    "colors = sns.color_palette('Set2')\n",
    "\n",
    "plt.figure(figsize=(10,8))\n",
    "\n",
    "for n, weight in enumerate(weights):\n",
    "    # Fit a model\n",
    "    logreg = LogisticRegression(fit_intercept=False, C=1e20, class_weight=weight, solver='lbfgs')\n",
    "    model_log = logreg.fit(X_train_scaled, y_train)\n",
    "    print(model_log)\n",
    "\n",
    "    # Predict\n",
    "    y_hat_test = logreg.predict(X_test_scaled)\n",
    "\n",
    "    y_score = logreg.fit(X_train_scaled, y_train).decision_function(X_test_scaled)\n",
    "\n",
    "    fpr, tpr, thresholds = roc_curve(y_test, y_score)\n",
    "    \n",
    "    print('AUC for {}: {}'.format(names[n], auc(fpr, tpr)))\n",
    "    print('-------------------------------------------------------------------------------------')\n",
    "    lw = 2\n",
    "    plt.plot(fpr, tpr, color=colors[n],\n",
    "             lw=lw, label='ROC curve {}'.format(names[n]))\n",
    "\n",
    "plt.plot([0, 1], [0, 1], color='navy', lw=lw, linestyle='--')\n",
    "plt.xlim([0.0, 1.0])\n",
    "plt.ylim([0.0, 1.05])\n",
    "\n",
    "plt.yticks([i/20.0 for i in range(21)])\n",
    "plt.xticks([i/20.0 for i in range(21)])\n",
    "plt.xlabel('False Positive Rate')\n",
    "plt.ylabel('True Positive Rate')\n",
    "plt.title('Receiver operating characteristic (ROC) Curve')\n",
    "plt.legend(loc='lower right')\n",
    "plt.show()"
   ]
  },
  {
   "cell_type": "markdown",
   "metadata": {},
   "source": [
    "As evidenced, class weight can have a significant impact! In this case, typically the heavier we weight the positive case, the better our classifier appears to be performing until it is weighed more than 2 to 1 and then perfomance drops again becasue our dataset is not that Imbalanced to begin with."
   ]
  },
  {
   "cell_type": "markdown",
   "metadata": {},
   "source": [
    "The optimal value for the AUC is 0.712"
   ]
  },
  {
   "cell_type": "code",
   "execution_count": null,
   "metadata": {},
   "outputs": [],
   "source": []
  }
 ],
 "metadata": {
  "kernelspec": {
   "display_name": "Python 3",
   "language": "python",
   "name": "python3"
  },
  "language_info": {
   "codemirror_mode": {
    "name": "ipython",
    "version": 3
   },
   "file_extension": ".py",
   "mimetype": "text/x-python",
   "name": "python",
   "nbconvert_exporter": "python",
   "pygments_lexer": "ipython3",
   "version": "3.7.3"
  }
 },
 "nbformat": 4,
 "nbformat_minor": 2
}
