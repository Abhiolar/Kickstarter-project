{
 "cells": [
  {
   "cell_type": "code",
   "execution_count": 1,
   "metadata": {},
   "outputs": [
    {
     "name": "stderr",
     "output_type": "stream",
     "text": [
      "/Users/yusufolodo/anaconda3/lib/python3.7/site-packages/sklearn/ensemble/weight_boosting.py:29: DeprecationWarning: numpy.core.umath_tests is an internal NumPy module and should not be imported. It will be removed in a future NumPy release.\n",
      "  from numpy.core.umath_tests import inner1d\n"
     ]
    }
   ],
   "source": [
    "import pandas as pd\n",
    "import matplotlib.pyplot as plt\n",
    "import seaborn as sns\n",
    "from sklearn.model_selection import train_test_split\n",
    "from sklearn.preprocessing import MinMaxScaler\n",
    "from sklearn.preprocessing import StandardScaler\n",
    "from sklearn.linear_model import LogisticRegression\n",
    "from sklearn.metrics import classification_report\n",
    "from sklearn.metrics import accuracy_score\n",
    "from sklearn.metrics import roc_curve, auc\n",
    "from sklearn.metrics import confusion_matrix\n",
    "sns.set_style('darkgrid')\n",
    "from sklearn.tree import export_graphviz\n",
    "from sklearn.preprocessing import OneHotEncoder\n",
    "from IPython.display import Image  \n",
    "from sklearn.tree import export_graphviz\n",
    "from pydotplus import graph_from_dot_data\n",
    "from sklearn.tree import DecisionTreeClassifier\n",
    "from sklearn.model_selection import GridSearchCV\n",
    "from sklearn.ensemble import BaggingClassifier, RandomForestClassifier\n",
    "import eli5\n",
    "from eli5.sklearn import PermutationImportance\n",
    "import numpy as np\n",
    "%matplotlib inline"
   ]
  },
  {
   "cell_type": "markdown",
   "metadata": {},
   "source": [
    "## LOGISTIC REGRESSION BASELINE MODEL"
   ]
  },
  {
   "cell_type": "code",
   "execution_count": 2,
   "metadata": {},
   "outputs": [],
   "source": [
    "kick = pd.read_csv('cleaned_data')"
   ]
  },
  {
   "cell_type": "code",
   "execution_count": 3,
   "metadata": {},
   "outputs": [
    {
     "data": {
      "text/html": [
       "<div>\n",
       "<style scoped>\n",
       "    .dataframe tbody tr th:only-of-type {\n",
       "        vertical-align: middle;\n",
       "    }\n",
       "\n",
       "    .dataframe tbody tr th {\n",
       "        vertical-align: top;\n",
       "    }\n",
       "\n",
       "    .dataframe thead th {\n",
       "        text-align: right;\n",
       "    }\n",
       "</style>\n",
       "<table border=\"1\" class=\"dataframe\">\n",
       "  <thead>\n",
       "    <tr style=\"text-align: right;\">\n",
       "      <th></th>\n",
       "      <th>ID</th>\n",
       "      <th>name</th>\n",
       "      <th>category</th>\n",
       "      <th>main_category</th>\n",
       "      <th>currency</th>\n",
       "      <th>deadline</th>\n",
       "      <th>launched</th>\n",
       "      <th>state</th>\n",
       "      <th>backers</th>\n",
       "      <th>country</th>\n",
       "      <th>usd_pledged_real</th>\n",
       "      <th>usd_goal_real</th>\n",
       "      <th>number_of_days</th>\n",
       "      <th>pledged_goal_diff</th>\n",
       "      <th>classes_state</th>\n",
       "    </tr>\n",
       "  </thead>\n",
       "  <tbody>\n",
       "    <tr>\n",
       "      <th>0</th>\n",
       "      <td>1000002330</td>\n",
       "      <td>The Songs of Adelaide &amp; Abullah</td>\n",
       "      <td>Poetry</td>\n",
       "      <td>Publishing</td>\n",
       "      <td>GBP</td>\n",
       "      <td>2015-10-09 00:00:00</td>\n",
       "      <td>2015-08-11 12:12:28</td>\n",
       "      <td>failed</td>\n",
       "      <td>0</td>\n",
       "      <td>GB</td>\n",
       "      <td>0.0</td>\n",
       "      <td>1533.95</td>\n",
       "      <td>58</td>\n",
       "      <td>-1533.95</td>\n",
       "      <td>0</td>\n",
       "    </tr>\n",
       "    <tr>\n",
       "      <th>1</th>\n",
       "      <td>1000003930</td>\n",
       "      <td>Greeting From Earth: ZGAC Arts Capsule For ET</td>\n",
       "      <td>Narrative Film</td>\n",
       "      <td>Film &amp; Video</td>\n",
       "      <td>USD</td>\n",
       "      <td>2017-11-01 00:00:00</td>\n",
       "      <td>2017-09-02 04:43:57</td>\n",
       "      <td>failed</td>\n",
       "      <td>15</td>\n",
       "      <td>US</td>\n",
       "      <td>2421.0</td>\n",
       "      <td>30000.00</td>\n",
       "      <td>59</td>\n",
       "      <td>-27579.00</td>\n",
       "      <td>0</td>\n",
       "    </tr>\n",
       "    <tr>\n",
       "      <th>2</th>\n",
       "      <td>1000004038</td>\n",
       "      <td>Where is Hank?</td>\n",
       "      <td>Narrative Film</td>\n",
       "      <td>Film &amp; Video</td>\n",
       "      <td>USD</td>\n",
       "      <td>2013-02-26 00:00:00</td>\n",
       "      <td>2013-01-12 00:20:50</td>\n",
       "      <td>failed</td>\n",
       "      <td>3</td>\n",
       "      <td>US</td>\n",
       "      <td>220.0</td>\n",
       "      <td>45000.00</td>\n",
       "      <td>44</td>\n",
       "      <td>-44780.00</td>\n",
       "      <td>0</td>\n",
       "    </tr>\n",
       "    <tr>\n",
       "      <th>3</th>\n",
       "      <td>1000007540</td>\n",
       "      <td>ToshiCapital Rekordz Needs Help to Complete Album</td>\n",
       "      <td>Music</td>\n",
       "      <td>Music</td>\n",
       "      <td>USD</td>\n",
       "      <td>2012-04-16 00:00:00</td>\n",
       "      <td>2012-03-17 03:24:11</td>\n",
       "      <td>failed</td>\n",
       "      <td>1</td>\n",
       "      <td>US</td>\n",
       "      <td>1.0</td>\n",
       "      <td>5000.00</td>\n",
       "      <td>29</td>\n",
       "      <td>-4999.00</td>\n",
       "      <td>0</td>\n",
       "    </tr>\n",
       "    <tr>\n",
       "      <th>4</th>\n",
       "      <td>1000014025</td>\n",
       "      <td>Monarch Espresso Bar</td>\n",
       "      <td>Restaurants</td>\n",
       "      <td>Food</td>\n",
       "      <td>USD</td>\n",
       "      <td>2016-04-01 00:00:00</td>\n",
       "      <td>2016-02-26 13:38:27</td>\n",
       "      <td>successful</td>\n",
       "      <td>224</td>\n",
       "      <td>US</td>\n",
       "      <td>52375.0</td>\n",
       "      <td>50000.00</td>\n",
       "      <td>34</td>\n",
       "      <td>2375.00</td>\n",
       "      <td>1</td>\n",
       "    </tr>\n",
       "  </tbody>\n",
       "</table>\n",
       "</div>"
      ],
      "text/plain": [
       "           ID                                               name  \\\n",
       "0  1000002330                    The Songs of Adelaide & Abullah   \n",
       "1  1000003930      Greeting From Earth: ZGAC Arts Capsule For ET   \n",
       "2  1000004038                                     Where is Hank?   \n",
       "3  1000007540  ToshiCapital Rekordz Needs Help to Complete Album   \n",
       "4  1000014025                               Monarch Espresso Bar   \n",
       "\n",
       "         category main_category currency             deadline  \\\n",
       "0          Poetry    Publishing      GBP  2015-10-09 00:00:00   \n",
       "1  Narrative Film  Film & Video      USD  2017-11-01 00:00:00   \n",
       "2  Narrative Film  Film & Video      USD  2013-02-26 00:00:00   \n",
       "3           Music         Music      USD  2012-04-16 00:00:00   \n",
       "4     Restaurants          Food      USD  2016-04-01 00:00:00   \n",
       "\n",
       "              launched       state  backers country  usd_pledged_real  \\\n",
       "0  2015-08-11 12:12:28      failed        0      GB               0.0   \n",
       "1  2017-09-02 04:43:57      failed       15      US            2421.0   \n",
       "2  2013-01-12 00:20:50      failed        3      US             220.0   \n",
       "3  2012-03-17 03:24:11      failed        1      US               1.0   \n",
       "4  2016-02-26 13:38:27  successful      224      US           52375.0   \n",
       "\n",
       "   usd_goal_real  number_of_days  pledged_goal_diff  classes_state  \n",
       "0        1533.95              58           -1533.95              0  \n",
       "1       30000.00              59          -27579.00              0  \n",
       "2       45000.00              44          -44780.00              0  \n",
       "3        5000.00              29           -4999.00              0  \n",
       "4       50000.00              34            2375.00              1  "
      ]
     },
     "execution_count": 3,
     "metadata": {},
     "output_type": "execute_result"
    }
   ],
   "source": [
    "kick.head()"
   ]
  },
  {
   "cell_type": "code",
   "execution_count": 4,
   "metadata": {},
   "outputs": [
    {
     "data": {
      "text/html": [
       "<div>\n",
       "<style scoped>\n",
       "    .dataframe tbody tr th:only-of-type {\n",
       "        vertical-align: middle;\n",
       "    }\n",
       "\n",
       "    .dataframe tbody tr th {\n",
       "        vertical-align: top;\n",
       "    }\n",
       "\n",
       "    .dataframe thead th {\n",
       "        text-align: right;\n",
       "    }\n",
       "</style>\n",
       "<table border=\"1\" class=\"dataframe\">\n",
       "  <thead>\n",
       "    <tr style=\"text-align: right;\">\n",
       "      <th></th>\n",
       "      <th>ID</th>\n",
       "      <th>backers</th>\n",
       "      <th>usd_pledged_real</th>\n",
       "      <th>usd_goal_real</th>\n",
       "      <th>number_of_days</th>\n",
       "      <th>pledged_goal_diff</th>\n",
       "      <th>classes_state</th>\n",
       "    </tr>\n",
       "  </thead>\n",
       "  <tbody>\n",
       "    <tr>\n",
       "      <th>count</th>\n",
       "      <td>3.314620e+05</td>\n",
       "      <td>331462.000000</td>\n",
       "      <td>3.314620e+05</td>\n",
       "      <td>3.314620e+05</td>\n",
       "      <td>331462.000000</td>\n",
       "      <td>3.314620e+05</td>\n",
       "      <td>331462.000000</td>\n",
       "    </tr>\n",
       "    <tr>\n",
       "      <th>mean</th>\n",
       "      <td>1.074288e+09</td>\n",
       "      <td>116.456315</td>\n",
       "      <td>9.939989e+03</td>\n",
       "      <td>4.152286e+04</td>\n",
       "      <td>32.955938</td>\n",
       "      <td>-3.158287e+04</td>\n",
       "      <td>0.403820</td>\n",
       "    </tr>\n",
       "    <tr>\n",
       "      <th>std</th>\n",
       "      <td>6.191996e+08</td>\n",
       "      <td>965.732911</td>\n",
       "      <td>9.664561e+04</td>\n",
       "      <td>1.109279e+06</td>\n",
       "      <td>12.714064</td>\n",
       "      <td>1.112869e+06</td>\n",
       "      <td>0.490663</td>\n",
       "    </tr>\n",
       "    <tr>\n",
       "      <th>min</th>\n",
       "      <td>5.971000e+03</td>\n",
       "      <td>0.000000</td>\n",
       "      <td>0.000000e+00</td>\n",
       "      <td>1.000000e-02</td>\n",
       "      <td>0.000000</td>\n",
       "      <td>-1.663614e+08</td>\n",
       "      <td>0.000000</td>\n",
       "    </tr>\n",
       "    <tr>\n",
       "      <th>25%</th>\n",
       "      <td>5.371698e+08</td>\n",
       "      <td>2.000000</td>\n",
       "      <td>5.000000e+01</td>\n",
       "      <td>2.000000e+03</td>\n",
       "      <td>29.000000</td>\n",
       "      <td>-9.224000e+03</td>\n",
       "      <td>0.000000</td>\n",
       "    </tr>\n",
       "    <tr>\n",
       "      <th>50%</th>\n",
       "      <td>1.074686e+09</td>\n",
       "      <td>15.000000</td>\n",
       "      <td>7.875000e+02</td>\n",
       "      <td>5.000000e+03</td>\n",
       "      <td>29.000000</td>\n",
       "      <td>-1.263095e+03</td>\n",
       "      <td>0.000000</td>\n",
       "    </tr>\n",
       "    <tr>\n",
       "      <th>75%</th>\n",
       "      <td>1.609865e+09</td>\n",
       "      <td>63.000000</td>\n",
       "      <td>4.609000e+03</td>\n",
       "      <td>1.500000e+04</td>\n",
       "      <td>35.000000</td>\n",
       "      <td>2.980750e+02</td>\n",
       "      <td>1.000000</td>\n",
       "    </tr>\n",
       "    <tr>\n",
       "      <th>max</th>\n",
       "      <td>2.147476e+09</td>\n",
       "      <td>219382.000000</td>\n",
       "      <td>2.033899e+07</td>\n",
       "      <td>1.663614e+08</td>\n",
       "      <td>91.000000</td>\n",
       "      <td>1.983899e+07</td>\n",
       "      <td>1.000000</td>\n",
       "    </tr>\n",
       "  </tbody>\n",
       "</table>\n",
       "</div>"
      ],
      "text/plain": [
       "                 ID        backers  usd_pledged_real  usd_goal_real  \\\n",
       "count  3.314620e+05  331462.000000      3.314620e+05   3.314620e+05   \n",
       "mean   1.074288e+09     116.456315      9.939989e+03   4.152286e+04   \n",
       "std    6.191996e+08     965.732911      9.664561e+04   1.109279e+06   \n",
       "min    5.971000e+03       0.000000      0.000000e+00   1.000000e-02   \n",
       "25%    5.371698e+08       2.000000      5.000000e+01   2.000000e+03   \n",
       "50%    1.074686e+09      15.000000      7.875000e+02   5.000000e+03   \n",
       "75%    1.609865e+09      63.000000      4.609000e+03   1.500000e+04   \n",
       "max    2.147476e+09  219382.000000      2.033899e+07   1.663614e+08   \n",
       "\n",
       "       number_of_days  pledged_goal_diff  classes_state  \n",
       "count   331462.000000       3.314620e+05  331462.000000  \n",
       "mean        32.955938      -3.158287e+04       0.403820  \n",
       "std         12.714064       1.112869e+06       0.490663  \n",
       "min          0.000000      -1.663614e+08       0.000000  \n",
       "25%         29.000000      -9.224000e+03       0.000000  \n",
       "50%         29.000000      -1.263095e+03       0.000000  \n",
       "75%         35.000000       2.980750e+02       1.000000  \n",
       "max         91.000000       1.983899e+07       1.000000  "
      ]
     },
     "execution_count": 4,
     "metadata": {},
     "output_type": "execute_result"
    }
   ],
   "source": [
    "kick.describe()"
   ]
  },
  {
   "cell_type": "code",
   "execution_count": 5,
   "metadata": {},
   "outputs": [
    {
     "name": "stderr",
     "output_type": "stream",
     "text": [
      "/Users/yusufolodo/anaconda3/lib/python3.7/site-packages/scipy/stats/stats.py:1713: FutureWarning: Using a non-tuple sequence for multidimensional indexing is deprecated; use `arr[tuple(seq)]` instead of `arr[seq]`. In the future this will be interpreted as an array index, `arr[np.array(seq)]`, which will result either in an error or a different result.\n",
      "  return np.add.reduce(sorted[indexer] * weights, axis=axis) / sumval\n"
     ]
    },
    {
     "data": {
      "text/plain": [
       "<matplotlib.axes._subplots.AxesSubplot at 0x1a157a7d68>"
      ]
     },
     "execution_count": 5,
     "metadata": {},
     "output_type": "execute_result"
    },
    {
     "data": {
      "image/png": "[encoded data removed]",
      "text/plain": [
       "<Figure size 1440x720 with 5 Axes>"
      ]
     },
     "metadata": {
      "needs_background": "light"
     },
     "output_type": "display_data"
    }
   ],
   "source": [
    "fig = plt.figure(figsize = (20,10))\n",
    "\n",
    "ax1 = fig.add_subplot(2,3,1)\n",
    "ax2 = fig.add_subplot(2,3,2)\n",
    "ax3 = fig.add_subplot(2,3,3)\n",
    "ax4 = fig.add_subplot(2,3,4)\n",
    "ax5 = fig.add_subplot(2,3,5)\n",
    "\n",
    "sns.distplot(kick['usd_pledged_real'], color = 'red', ax = ax1)\n",
    "sns.distplot(kick['usd_goal_real'], color = 'blue', ax = ax2)\n",
    "sns.distplot(kick['number_of_days'], color = 'green', ax = ax3)\n",
    "sns.distplot(kick['pledged_goal_diff'], color = 'blue', ax = ax4)\n",
    "sns.distplot(kick['backers'], color = 'purple', ax = ax5)\n"
   ]
  },
  {
   "cell_type": "markdown",
   "metadata": {},
   "source": [
    "clearly from the above plot we have to log transform our continuous values for prediction\n",
    "We have decided to not use the varaibles - usd_pledged, pledged_goal_diff and backers as they will cause data leakage"
   ]
  },
  {
   "cell_type": "code",
   "execution_count": 6,
   "metadata": {},
   "outputs": [],
   "source": [
    "log_kick = kick.loc[kick['usd_goal_real'] > 1]"
   ]
  },
  {
   "cell_type": "code",
   "execution_count": 7,
   "metadata": {},
   "outputs": [
    {
     "data": {
      "text/plain": [
       "0    197571\n",
       "1    133579\n",
       "Name: classes_state, dtype: int64"
      ]
     },
     "execution_count": 7,
     "metadata": {},
     "output_type": "execute_result"
    }
   ],
   "source": [
    "log_kick.classes_state.value_counts()"
   ]
  },
  {
   "cell_type": "code",
   "execution_count": 8,
   "metadata": {},
   "outputs": [
    {
     "data": {
      "text/html": [
       "<div>\n",
       "<style scoped>\n",
       "    .dataframe tbody tr th:only-of-type {\n",
       "        vertical-align: middle;\n",
       "    }\n",
       "\n",
       "    .dataframe tbody tr th {\n",
       "        vertical-align: top;\n",
       "    }\n",
       "\n",
       "    .dataframe thead th {\n",
       "        text-align: right;\n",
       "    }\n",
       "</style>\n",
       "<table border=\"1\" class=\"dataframe\">\n",
       "  <thead>\n",
       "    <tr style=\"text-align: right;\">\n",
       "      <th></th>\n",
       "      <th>ID</th>\n",
       "      <th>backers</th>\n",
       "      <th>usd_pledged_real</th>\n",
       "      <th>usd_goal_real</th>\n",
       "      <th>number_of_days</th>\n",
       "      <th>pledged_goal_diff</th>\n",
       "      <th>classes_state</th>\n",
       "    </tr>\n",
       "  </thead>\n",
       "  <tbody>\n",
       "    <tr>\n",
       "      <th>count</th>\n",
       "      <td>3.311500e+05</td>\n",
       "      <td>331150.000000</td>\n",
       "      <td>3.311500e+05</td>\n",
       "      <td>3.311500e+05</td>\n",
       "      <td>331150.000000</td>\n",
       "      <td>3.311500e+05</td>\n",
       "      <td>331150.000000</td>\n",
       "    </tr>\n",
       "    <tr>\n",
       "      <th>mean</th>\n",
       "      <td>1.074401e+09</td>\n",
       "      <td>116.496340</td>\n",
       "      <td>9.947149e+03</td>\n",
       "      <td>4.156198e+04</td>\n",
       "      <td>32.959224</td>\n",
       "      <td>-3.161483e+04</td>\n",
       "      <td>0.403379</td>\n",
       "    </tr>\n",
       "    <tr>\n",
       "      <th>std</th>\n",
       "      <td>6.192124e+08</td>\n",
       "      <td>966.141781</td>\n",
       "      <td>9.669047e+04</td>\n",
       "      <td>1.109800e+06</td>\n",
       "      <td>12.709896</td>\n",
       "      <td>1.113393e+06</td>\n",
       "      <td>0.490576</td>\n",
       "    </tr>\n",
       "    <tr>\n",
       "      <th>min</th>\n",
       "      <td>5.971000e+03</td>\n",
       "      <td>0.000000</td>\n",
       "      <td>0.000000e+00</td>\n",
       "      <td>1.040000e+00</td>\n",
       "      <td>0.000000</td>\n",
       "      <td>-1.663614e+08</td>\n",
       "      <td>0.000000</td>\n",
       "    </tr>\n",
       "    <tr>\n",
       "      <th>25%</th>\n",
       "      <td>5.372342e+08</td>\n",
       "      <td>2.000000</td>\n",
       "      <td>5.000000e+01</td>\n",
       "      <td>2.000000e+03</td>\n",
       "      <td>29.000000</td>\n",
       "      <td>-9.240000e+03</td>\n",
       "      <td>0.000000</td>\n",
       "    </tr>\n",
       "    <tr>\n",
       "      <th>50%</th>\n",
       "      <td>1.074887e+09</td>\n",
       "      <td>15.000000</td>\n",
       "      <td>7.900000e+02</td>\n",
       "      <td>5.000000e+03</td>\n",
       "      <td>29.000000</td>\n",
       "      <td>-1.275000e+03</td>\n",
       "      <td>0.000000</td>\n",
       "    </tr>\n",
       "    <tr>\n",
       "      <th>75%</th>\n",
       "      <td>1.610028e+09</td>\n",
       "      <td>63.000000</td>\n",
       "      <td>4.614000e+03</td>\n",
       "      <td>1.500000e+04</td>\n",
       "      <td>35.000000</td>\n",
       "      <td>2.970150e+02</td>\n",
       "      <td>1.000000</td>\n",
       "    </tr>\n",
       "    <tr>\n",
       "      <th>max</th>\n",
       "      <td>2.147476e+09</td>\n",
       "      <td>219382.000000</td>\n",
       "      <td>2.033899e+07</td>\n",
       "      <td>1.663614e+08</td>\n",
       "      <td>91.000000</td>\n",
       "      <td>1.983899e+07</td>\n",
       "      <td>1.000000</td>\n",
       "    </tr>\n",
       "  </tbody>\n",
       "</table>\n",
       "</div>"
      ],
      "text/plain": [
       "                 ID        backers  usd_pledged_real  usd_goal_real  \\\n",
       "count  3.311500e+05  331150.000000      3.311500e+05   3.311500e+05   \n",
       "mean   1.074401e+09     116.496340      9.947149e+03   4.156198e+04   \n",
       "std    6.192124e+08     966.141781      9.669047e+04   1.109800e+06   \n",
       "min    5.971000e+03       0.000000      0.000000e+00   1.040000e+00   \n",
       "25%    5.372342e+08       2.000000      5.000000e+01   2.000000e+03   \n",
       "50%    1.074887e+09      15.000000      7.900000e+02   5.000000e+03   \n",
       "75%    1.610028e+09      63.000000      4.614000e+03   1.500000e+04   \n",
       "max    2.147476e+09  219382.000000      2.033899e+07   1.663614e+08   \n",
       "\n",
       "       number_of_days  pledged_goal_diff  classes_state  \n",
       "count   331150.000000       3.311500e+05  331150.000000  \n",
       "mean        32.959224      -3.161483e+04       0.403379  \n",
       "std         12.709896       1.113393e+06       0.490576  \n",
       "min          0.000000      -1.663614e+08       0.000000  \n",
       "25%         29.000000      -9.240000e+03       0.000000  \n",
       "50%         29.000000      -1.275000e+03       0.000000  \n",
       "75%         35.000000       2.970150e+02       1.000000  \n",
       "max         91.000000       1.983899e+07       1.000000  "
      ]
     },
     "execution_count": 8,
     "metadata": {},
     "output_type": "execute_result"
    }
   ],
   "source": [
    "log_kick.describe()"
   ]
  },
  {
   "cell_type": "code",
   "execution_count": 9,
   "metadata": {},
   "outputs": [],
   "source": [
    "distrib = np.log(log_kick.usd_goal_real)"
   ]
  },
  {
   "cell_type": "code",
   "execution_count": 10,
   "metadata": {},
   "outputs": [
    {
     "data": {
      "text/plain": [
       "<matplotlib.axes._subplots.AxesSubplot at 0x1a15ae8358>"
      ]
     },
     "execution_count": 10,
     "metadata": {},
     "output_type": "execute_result"
    },
    {
     "data": {
      "image/png": "[encoded data removed]",
      "text/plain": [
       "<Figure size 432x288 with 1 Axes>"
      ]
     },
     "metadata": {
      "needs_background": "light"
     },
     "output_type": "display_data"
    }
   ],
   "source": [
    "sns.distplot(distrib)"
   ]
  },
  {
   "cell_type": "markdown",
   "metadata": {},
   "source": [
    "Now we can see from the above plot that we have somewhat of a normal distribution"
   ]
  },
  {
   "cell_type": "markdown",
   "metadata": {},
   "source": [
    "For the next predictor variable, we use the same method on the number of days."
   ]
  },
  {
   "cell_type": "code",
   "execution_count": 11,
   "metadata": {},
   "outputs": [
    {
     "data": {
      "text/plain": [
       "<matplotlib.axes._subplots.AxesSubplot at 0x1a158cdf98>"
      ]
     },
     "execution_count": 11,
     "metadata": {},
     "output_type": "execute_result"
    },
    {
     "data": {
      "image/png": "[encoded data removed]",
      "text/plain": [
       "<Figure size 432x288 with 1 Axes>"
      ]
     },
     "metadata": {
      "needs_background": "light"
     },
     "output_type": "display_data"
    }
   ],
   "source": [
    "sns.distplot(log_kick['number_of_days'])"
   ]
  },
  {
   "cell_type": "markdown",
   "metadata": {},
   "source": [
    "The distribution on these variables is not to bad, so we are not going to log-transform this continuous variable.\n",
    "The next step is to scale our continous variables but before then let's sort the categorical variables"
   ]
  },
  {
   "cell_type": "code",
   "execution_count": 12,
   "metadata": {},
   "outputs": [
    {
     "data": {
      "text/html": [
       "<div>\n",
       "<style scoped>\n",
       "    .dataframe tbody tr th:only-of-type {\n",
       "        vertical-align: middle;\n",
       "    }\n",
       "\n",
       "    .dataframe tbody tr th {\n",
       "        vertical-align: top;\n",
       "    }\n",
       "\n",
       "    .dataframe thead th {\n",
       "        text-align: right;\n",
       "    }\n",
       "</style>\n",
       "<table border=\"1\" class=\"dataframe\">\n",
       "  <thead>\n",
       "    <tr style=\"text-align: right;\">\n",
       "      <th></th>\n",
       "      <th>ID</th>\n",
       "      <th>name</th>\n",
       "      <th>category</th>\n",
       "      <th>main_category</th>\n",
       "      <th>currency</th>\n",
       "      <th>deadline</th>\n",
       "      <th>launched</th>\n",
       "      <th>state</th>\n",
       "      <th>backers</th>\n",
       "      <th>country</th>\n",
       "      <th>usd_pledged_real</th>\n",
       "      <th>usd_goal_real</th>\n",
       "      <th>number_of_days</th>\n",
       "      <th>pledged_goal_diff</th>\n",
       "      <th>classes_state</th>\n",
       "    </tr>\n",
       "  </thead>\n",
       "  <tbody>\n",
       "    <tr>\n",
       "      <th>0</th>\n",
       "      <td>1000002330</td>\n",
       "      <td>The Songs of Adelaide &amp; Abullah</td>\n",
       "      <td>Poetry</td>\n",
       "      <td>Publishing</td>\n",
       "      <td>GBP</td>\n",
       "      <td>2015-10-09 00:00:00</td>\n",
       "      <td>2015-08-11 12:12:28</td>\n",
       "      <td>failed</td>\n",
       "      <td>0</td>\n",
       "      <td>GB</td>\n",
       "      <td>0.0</td>\n",
       "      <td>1533.95</td>\n",
       "      <td>58</td>\n",
       "      <td>-1533.95</td>\n",
       "      <td>0</td>\n",
       "    </tr>\n",
       "    <tr>\n",
       "      <th>1</th>\n",
       "      <td>1000003930</td>\n",
       "      <td>Greeting From Earth: ZGAC Arts Capsule For ET</td>\n",
       "      <td>Narrative Film</td>\n",
       "      <td>Film &amp; Video</td>\n",
       "      <td>USD</td>\n",
       "      <td>2017-11-01 00:00:00</td>\n",
       "      <td>2017-09-02 04:43:57</td>\n",
       "      <td>failed</td>\n",
       "      <td>15</td>\n",
       "      <td>US</td>\n",
       "      <td>2421.0</td>\n",
       "      <td>30000.00</td>\n",
       "      <td>59</td>\n",
       "      <td>-27579.00</td>\n",
       "      <td>0</td>\n",
       "    </tr>\n",
       "    <tr>\n",
       "      <th>2</th>\n",
       "      <td>1000004038</td>\n",
       "      <td>Where is Hank?</td>\n",
       "      <td>Narrative Film</td>\n",
       "      <td>Film &amp; Video</td>\n",
       "      <td>USD</td>\n",
       "      <td>2013-02-26 00:00:00</td>\n",
       "      <td>2013-01-12 00:20:50</td>\n",
       "      <td>failed</td>\n",
       "      <td>3</td>\n",
       "      <td>US</td>\n",
       "      <td>220.0</td>\n",
       "      <td>45000.00</td>\n",
       "      <td>44</td>\n",
       "      <td>-44780.00</td>\n",
       "      <td>0</td>\n",
       "    </tr>\n",
       "    <tr>\n",
       "      <th>3</th>\n",
       "      <td>1000007540</td>\n",
       "      <td>ToshiCapital Rekordz Needs Help to Complete Album</td>\n",
       "      <td>Music</td>\n",
       "      <td>Music</td>\n",
       "      <td>USD</td>\n",
       "      <td>2012-04-16 00:00:00</td>\n",
       "      <td>2012-03-17 03:24:11</td>\n",
       "      <td>failed</td>\n",
       "      <td>1</td>\n",
       "      <td>US</td>\n",
       "      <td>1.0</td>\n",
       "      <td>5000.00</td>\n",
       "      <td>29</td>\n",
       "      <td>-4999.00</td>\n",
       "      <td>0</td>\n",
       "    </tr>\n",
       "    <tr>\n",
       "      <th>4</th>\n",
       "      <td>1000014025</td>\n",
       "      <td>Monarch Espresso Bar</td>\n",
       "      <td>Restaurants</td>\n",
       "      <td>Food</td>\n",
       "      <td>USD</td>\n",
       "      <td>2016-04-01 00:00:00</td>\n",
       "      <td>2016-02-26 13:38:27</td>\n",
       "      <td>successful</td>\n",
       "      <td>224</td>\n",
       "      <td>US</td>\n",
       "      <td>52375.0</td>\n",
       "      <td>50000.00</td>\n",
       "      <td>34</td>\n",
       "      <td>2375.00</td>\n",
       "      <td>1</td>\n",
       "    </tr>\n",
       "  </tbody>\n",
       "</table>\n",
       "</div>"
      ],
      "text/plain": [
       "           ID                                               name  \\\n",
       "0  1000002330                    The Songs of Adelaide & Abullah   \n",
       "1  1000003930      Greeting From Earth: ZGAC Arts Capsule For ET   \n",
       "2  1000004038                                     Where is Hank?   \n",
       "3  1000007540  ToshiCapital Rekordz Needs Help to Complete Album   \n",
       "4  1000014025                               Monarch Espresso Bar   \n",
       "\n",
       "         category main_category currency             deadline  \\\n",
       "0          Poetry    Publishing      GBP  2015-10-09 00:00:00   \n",
       "1  Narrative Film  Film & Video      USD  2017-11-01 00:00:00   \n",
       "2  Narrative Film  Film & Video      USD  2013-02-26 00:00:00   \n",
       "3           Music         Music      USD  2012-04-16 00:00:00   \n",
       "4     Restaurants          Food      USD  2016-04-01 00:00:00   \n",
       "\n",
       "              launched       state  backers country  usd_pledged_real  \\\n",
       "0  2015-08-11 12:12:28      failed        0      GB               0.0   \n",
       "1  2017-09-02 04:43:57      failed       15      US            2421.0   \n",
       "2  2013-01-12 00:20:50      failed        3      US             220.0   \n",
       "3  2012-03-17 03:24:11      failed        1      US               1.0   \n",
       "4  2016-02-26 13:38:27  successful      224      US           52375.0   \n",
       "\n",
       "   usd_goal_real  number_of_days  pledged_goal_diff  classes_state  \n",
       "0        1533.95              58           -1533.95              0  \n",
       "1       30000.00              59          -27579.00              0  \n",
       "2       45000.00              44          -44780.00              0  \n",
       "3        5000.00              29           -4999.00              0  \n",
       "4       50000.00              34            2375.00              1  "
      ]
     },
     "execution_count": 12,
     "metadata": {},
     "output_type": "execute_result"
    }
   ],
   "source": [
    "log_kick.head()"
   ]
  },
  {
   "cell_type": "markdown",
   "metadata": {},
   "source": [
    "using get dummies for the categorical variables."
   ]
  },
  {
   "cell_type": "code",
   "execution_count": 13,
   "metadata": {},
   "outputs": [],
   "source": [
    "relevant_columns = ['category', 'main_category', 'currency', 'country']\n",
    "cat_kick = log_kick[relevant_columns]\n",
    "dummy_dataframe = pd.get_dummies(cat_kick, drop_first=True)\n",
    "continuous_df = log_kick[['usd_goal_real', 'number_of_days']]"
   ]
  },
  {
   "cell_type": "code",
   "execution_count": 14,
   "metadata": {},
   "outputs": [],
   "source": [
    "predictors = pd.concat([continuous_df, dummy_dataframe],axis =1)"
   ]
  },
  {
   "cell_type": "code",
   "execution_count": 15,
   "metadata": {},
   "outputs": [
    {
     "data": {
      "text/html": [
       "<div>\n",
       "<style scoped>\n",
       "    .dataframe tbody tr th:only-of-type {\n",
       "        vertical-align: middle;\n",
       "    }\n",
       "\n",
       "    .dataframe tbody tr th {\n",
       "        vertical-align: top;\n",
       "    }\n",
       "\n",
       "    .dataframe thead th {\n",
       "        text-align: right;\n",
       "    }\n",
       "</style>\n",
       "<table border=\"1\" class=\"dataframe\">\n",
       "  <thead>\n",
       "    <tr style=\"text-align: right;\">\n",
       "      <th></th>\n",
       "      <th>usd_goal_real</th>\n",
       "      <th>number_of_days</th>\n",
       "      <th>category_Academic</th>\n",
       "      <th>category_Accessories</th>\n",
       "      <th>category_Action</th>\n",
       "      <th>category_Animals</th>\n",
       "      <th>category_Animation</th>\n",
       "      <th>category_Anthologies</th>\n",
       "      <th>category_Apparel</th>\n",
       "      <th>category_Apps</th>\n",
       "      <th>...</th>\n",
       "      <th>country_IT</th>\n",
       "      <th>country_JP</th>\n",
       "      <th>country_LU</th>\n",
       "      <th>country_MX</th>\n",
       "      <th>country_NL</th>\n",
       "      <th>country_NO</th>\n",
       "      <th>country_NZ</th>\n",
       "      <th>country_SE</th>\n",
       "      <th>country_SG</th>\n",
       "      <th>country_US</th>\n",
       "    </tr>\n",
       "  </thead>\n",
       "  <tbody>\n",
       "    <tr>\n",
       "      <th>0</th>\n",
       "      <td>1533.95</td>\n",
       "      <td>58</td>\n",
       "      <td>0</td>\n",
       "      <td>0</td>\n",
       "      <td>0</td>\n",
       "      <td>0</td>\n",
       "      <td>0</td>\n",
       "      <td>0</td>\n",
       "      <td>0</td>\n",
       "      <td>0</td>\n",
       "      <td>...</td>\n",
       "      <td>0</td>\n",
       "      <td>0</td>\n",
       "      <td>0</td>\n",
       "      <td>0</td>\n",
       "      <td>0</td>\n",
       "      <td>0</td>\n",
       "      <td>0</td>\n",
       "      <td>0</td>\n",
       "      <td>0</td>\n",
       "      <td>0</td>\n",
       "    </tr>\n",
       "    <tr>\n",
       "      <th>1</th>\n",
       "      <td>30000.00</td>\n",
       "      <td>59</td>\n",
       "      <td>0</td>\n",
       "      <td>0</td>\n",
       "      <td>0</td>\n",
       "      <td>0</td>\n",
       "      <td>0</td>\n",
       "      <td>0</td>\n",
       "      <td>0</td>\n",
       "      <td>0</td>\n",
       "      <td>...</td>\n",
       "      <td>0</td>\n",
       "      <td>0</td>\n",
       "      <td>0</td>\n",
       "      <td>0</td>\n",
       "      <td>0</td>\n",
       "      <td>0</td>\n",
       "      <td>0</td>\n",
       "      <td>0</td>\n",
       "      <td>0</td>\n",
       "      <td>1</td>\n",
       "    </tr>\n",
       "    <tr>\n",
       "      <th>2</th>\n",
       "      <td>45000.00</td>\n",
       "      <td>44</td>\n",
       "      <td>0</td>\n",
       "      <td>0</td>\n",
       "      <td>0</td>\n",
       "      <td>0</td>\n",
       "      <td>0</td>\n",
       "      <td>0</td>\n",
       "      <td>0</td>\n",
       "      <td>0</td>\n",
       "      <td>...</td>\n",
       "      <td>0</td>\n",
       "      <td>0</td>\n",
       "      <td>0</td>\n",
       "      <td>0</td>\n",
       "      <td>0</td>\n",
       "      <td>0</td>\n",
       "      <td>0</td>\n",
       "      <td>0</td>\n",
       "      <td>0</td>\n",
       "      <td>1</td>\n",
       "    </tr>\n",
       "    <tr>\n",
       "      <th>3</th>\n",
       "      <td>5000.00</td>\n",
       "      <td>29</td>\n",
       "      <td>0</td>\n",
       "      <td>0</td>\n",
       "      <td>0</td>\n",
       "      <td>0</td>\n",
       "      <td>0</td>\n",
       "      <td>0</td>\n",
       "      <td>0</td>\n",
       "      <td>0</td>\n",
       "      <td>...</td>\n",
       "      <td>0</td>\n",
       "      <td>0</td>\n",
       "      <td>0</td>\n",
       "      <td>0</td>\n",
       "      <td>0</td>\n",
       "      <td>0</td>\n",
       "      <td>0</td>\n",
       "      <td>0</td>\n",
       "      <td>0</td>\n",
       "      <td>1</td>\n",
       "    </tr>\n",
       "    <tr>\n",
       "      <th>4</th>\n",
       "      <td>50000.00</td>\n",
       "      <td>34</td>\n",
       "      <td>0</td>\n",
       "      <td>0</td>\n",
       "      <td>0</td>\n",
       "      <td>0</td>\n",
       "      <td>0</td>\n",
       "      <td>0</td>\n",
       "      <td>0</td>\n",
       "      <td>0</td>\n",
       "      <td>...</td>\n",
       "      <td>0</td>\n",
       "      <td>0</td>\n",
       "      <td>0</td>\n",
       "      <td>0</td>\n",
       "      <td>0</td>\n",
       "      <td>0</td>\n",
       "      <td>0</td>\n",
       "      <td>0</td>\n",
       "      <td>0</td>\n",
       "      <td>1</td>\n",
       "    </tr>\n",
       "  </tbody>\n",
       "</table>\n",
       "<p>5 rows × 208 columns</p>\n",
       "</div>"
      ],
      "text/plain": [
       "   usd_goal_real  number_of_days  category_Academic  category_Accessories  \\\n",
       "0        1533.95              58                  0                     0   \n",
       "1       30000.00              59                  0                     0   \n",
       "2       45000.00              44                  0                     0   \n",
       "3        5000.00              29                  0                     0   \n",
       "4       50000.00              34                  0                     0   \n",
       "\n",
       "   category_Action  category_Animals  category_Animation  \\\n",
       "0                0                 0                   0   \n",
       "1                0                 0                   0   \n",
       "2                0                 0                   0   \n",
       "3                0                 0                   0   \n",
       "4                0                 0                   0   \n",
       "\n",
       "   category_Anthologies  category_Apparel  category_Apps  ...  country_IT  \\\n",
       "0                     0                 0              0  ...           0   \n",
       "1                     0                 0              0  ...           0   \n",
       "2                     0                 0              0  ...           0   \n",
       "3                     0                 0              0  ...           0   \n",
       "4                     0                 0              0  ...           0   \n",
       "\n",
       "   country_JP  country_LU  country_MX  country_NL  country_NO  country_NZ  \\\n",
       "0           0           0           0           0           0           0   \n",
       "1           0           0           0           0           0           0   \n",
       "2           0           0           0           0           0           0   \n",
       "3           0           0           0           0           0           0   \n",
       "4           0           0           0           0           0           0   \n",
       "\n",
       "   country_SE  country_SG  country_US  \n",
       "0           0           0           0  \n",
       "1           0           0           1  \n",
       "2           0           0           1  \n",
       "3           0           0           1  \n",
       "4           0           0           1  \n",
       "\n",
       "[5 rows x 208 columns]"
      ]
     },
     "execution_count": 15,
     "metadata": {},
     "output_type": "execute_result"
    }
   ],
   "source": [
    "predictors.head()"
   ]
  },
  {
   "cell_type": "code",
   "execution_count": 16,
   "metadata": {},
   "outputs": [],
   "source": [
    "target = log_kick['classes_state']"
   ]
  },
  {
   "cell_type": "markdown",
   "metadata": {},
   "source": [
    "Building logistic regression using statsmodels without train_test_split"
   ]
  },
  {
   "cell_type": "code",
   "execution_count": 17,
   "metadata": {},
   "outputs": [
    {
     "name": "stderr",
     "output_type": "stream",
     "text": [
      "/Users/yusufolodo/anaconda3/lib/python3.7/site-packages/numpy/core/fromnumeric.py:2223: FutureWarning: Method .ptp is deprecated and will be removed in a future version. Use numpy.ptp instead.\n",
      "  return ptp(axis=axis, out=out, **kwargs)\n"
     ]
    },
    {
     "name": "stdout",
     "output_type": "stream",
     "text": [
      "Optimization terminated successfully.\n",
      "         Current function value: 0.603452\n",
      "         Iterations 10\n"
     ]
    }
   ],
   "source": [
    "import statsmodels.api as sm\n",
    "X = sm.tools.add_constant(predictors)\n",
    "logit_model = sm.Logit(target, predictors)\n",
    "result = logit_model.fit()"
   ]
  },
  {
   "cell_type": "code",
   "execution_count": 18,
   "metadata": {},
   "outputs": [
    {
     "name": "stderr",
     "output_type": "stream",
     "text": [
      "/Users/yusufolodo/anaconda3/lib/python3.7/site-packages/statsmodels/base/model.py:1286: RuntimeWarning: invalid value encountered in sqrt\n",
      "  bse_ = np.sqrt(np.diag(self.cov_params()))\n",
      "/Users/yusufolodo/anaconda3/lib/python3.7/site-packages/scipy/stats/_distn_infrastructure.py:879: RuntimeWarning: invalid value encountered in greater\n",
      "  return (self.a < x) & (x < self.b)\n",
      "/Users/yusufolodo/anaconda3/lib/python3.7/site-packages/scipy/stats/_distn_infrastructure.py:879: RuntimeWarning: invalid value encountered in less\n",
      "  return (self.a < x) & (x < self.b)\n",
      "/Users/yusufolodo/anaconda3/lib/python3.7/site-packages/scipy/stats/_distn_infrastructure.py:1821: RuntimeWarning: invalid value encountered in less_equal\n",
      "  cond2 = cond0 & (x <= self.a)\n"
     ]
    },
    {
     "data": {
      "text/html": [
       "<table class=\"simpletable\">\n",
       "<caption>Logit Regression Results</caption>\n",
       "<tr>\n",
       "  <th>Dep. Variable:</th>     <td>classes_state</td>  <th>  No. Observations:  </th>   <td>331150</td>   \n",
       "</tr>\n",
       "<tr>\n",
       "  <th>Model:</th>                 <td>Logit</td>      <th>  Df Residuals:      </th>   <td>330960</td>   \n",
       "</tr>\n",
       "<tr>\n",
       "  <th>Method:</th>                 <td>MLE</td>       <th>  Df Model:          </th>   <td>   189</td>   \n",
       "</tr>\n",
       "<tr>\n",
       "  <th>Date:</th>            <td>Thu, 12 Dec 2019</td> <th>  Pseudo R-squ.:     </th>   <td>0.1051</td>   \n",
       "</tr>\n",
       "<tr>\n",
       "  <th>Time:</th>                <td>15:49:26</td>     <th>  Log-Likelihood:    </th> <td>-1.9983e+05</td>\n",
       "</tr>\n",
       "<tr>\n",
       "  <th>converged:</th>             <td>True</td>       <th>  LL-Null:           </th> <td>-2.2331e+05</td>\n",
       "</tr>\n",
       "<tr>\n",
       "  <th>Covariance Type:</th>     <td>nonrobust</td>    <th>  LLR p-value:       </th>   <td> 0.000</td>   \n",
       "</tr>\n",
       "</table>\n",
       "<table class=\"simpletable\">\n",
       "<tr>\n",
       "               <td></td>                  <th>coef</th>     <th>std err</th>      <th>z</th>      <th>P>|z|</th>  <th>[0.025</th>    <th>0.975]</th>  \n",
       "</tr>\n",
       "<tr>\n",
       "  <th>usd_goal_real</th>               <td>-1.406e-05</td> <td> 2.14e-07</td> <td>  -65.600</td> <td> 0.000</td> <td>-1.45e-05</td> <td>-1.36e-05</td>\n",
       "</tr>\n",
       "<tr>\n",
       "  <th>number_of_days</th>              <td>   -0.0177</td> <td>    0.000</td> <td>  -56.056</td> <td> 0.000</td> <td>   -0.018</td> <td>   -0.017</td>\n",
       "</tr>\n",
       "<tr>\n",
       "  <th>category_Academic</th>           <td>   -0.4779</td> <td>      nan</td> <td>      nan</td> <td>   nan</td> <td>      nan</td> <td>      nan</td>\n",
       "</tr>\n",
       "<tr>\n",
       "  <th>category_Accessories</th>        <td>    0.4520</td> <td>      nan</td> <td>      nan</td> <td>   nan</td> <td>      nan</td> <td>      nan</td>\n",
       "</tr>\n",
       "<tr>\n",
       "  <th>category_Action</th>             <td>   -0.8932</td> <td> 4.81e+04</td> <td>-1.86e-05</td> <td> 1.000</td> <td>-9.44e+04</td> <td> 9.44e+04</td>\n",
       "</tr>\n",
       "<tr>\n",
       "  <th>category_Animals</th>            <td>   -0.1711</td> <td> 4.21e+06</td> <td>-4.07e-08</td> <td> 1.000</td> <td>-8.24e+06</td> <td> 8.24e+06</td>\n",
       "</tr>\n",
       "<tr>\n",
       "  <th>category_Animation</th>          <td>   -0.1729</td> <td>      nan</td> <td>      nan</td> <td>   nan</td> <td>      nan</td> <td>      nan</td>\n",
       "</tr>\n",
       "<tr>\n",
       "  <th>category_Anthologies</th>        <td>    1.0477</td> <td>      nan</td> <td>      nan</td> <td>   nan</td> <td>      nan</td> <td>      nan</td>\n",
       "</tr>\n",
       "<tr>\n",
       "  <th>category_Apparel</th>            <td>   -0.3202</td> <td>      nan</td> <td>      nan</td> <td>   nan</td> <td>      nan</td> <td>      nan</td>\n",
       "</tr>\n",
       "<tr>\n",
       "  <th>category_Apps</th>               <td>   -2.3805</td> <td>    0.104</td> <td>  -22.966</td> <td> 0.000</td> <td>   -2.584</td> <td>   -2.177</td>\n",
       "</tr>\n",
       "<tr>\n",
       "  <th>category_Architecture</th>       <td>   -0.3028</td> <td>      nan</td> <td>      nan</td> <td>   nan</td> <td>      nan</td> <td>      nan</td>\n",
       "</tr>\n",
       "<tr>\n",
       "  <th>category_Art</th>                <td>    0.1120</td> <td>      nan</td> <td>      nan</td> <td>   nan</td> <td>      nan</td> <td>      nan</td>\n",
       "</tr>\n",
       "<tr>\n",
       "  <th>category_Art Books</th>          <td>    0.7973</td> <td>      nan</td> <td>      nan</td> <td>   nan</td> <td>      nan</td> <td>      nan</td>\n",
       "</tr>\n",
       "<tr>\n",
       "  <th>category_Audio</th>              <td>   -1.6482</td> <td>    0.180</td> <td>   -9.181</td> <td> 0.000</td> <td>   -2.000</td> <td>   -1.296</td>\n",
       "</tr>\n",
       "<tr>\n",
       "  <th>category_Bacon</th>              <td>   -0.8367</td> <td>      nan</td> <td>      nan</td> <td>   nan</td> <td>      nan</td> <td>      nan</td>\n",
       "</tr>\n",
       "<tr>\n",
       "  <th>category_Blues</th>              <td>    0.5175</td> <td>      nan</td> <td>      nan</td> <td>   nan</td> <td>      nan</td> <td>      nan</td>\n",
       "</tr>\n",
       "<tr>\n",
       "  <th>category_Calendars</th>          <td>    0.2348</td> <td>      nan</td> <td>      nan</td> <td>   nan</td> <td>      nan</td> <td>      nan</td>\n",
       "</tr>\n",
       "<tr>\n",
       "  <th>category_Camera Equipment</th>   <td>    0.4730</td> <td>    0.142</td> <td>    3.321</td> <td> 0.001</td> <td>    0.194</td> <td>    0.752</td>\n",
       "</tr>\n",
       "<tr>\n",
       "  <th>category_Candles</th>            <td>   -1.5790</td> <td>      nan</td> <td>      nan</td> <td>   nan</td> <td>      nan</td> <td>      nan</td>\n",
       "</tr>\n",
       "<tr>\n",
       "  <th>category_Ceramics</th>           <td>    0.2107</td> <td>      nan</td> <td>      nan</td> <td>   nan</td> <td>      nan</td> <td>      nan</td>\n",
       "</tr>\n",
       "<tr>\n",
       "  <th>category_Children's Books</th>   <td>    0.0542</td> <td>      nan</td> <td>      nan</td> <td>   nan</td> <td>      nan</td> <td>      nan</td>\n",
       "</tr>\n",
       "<tr>\n",
       "  <th>category_Childrenswear</th>      <td>   -0.3316</td> <td>      nan</td> <td>      nan</td> <td>   nan</td> <td>      nan</td> <td>      nan</td>\n",
       "</tr>\n",
       "<tr>\n",
       "  <th>category_Chiptune</th>           <td>    2.0704</td> <td>      nan</td> <td>      nan</td> <td>   nan</td> <td>      nan</td> <td>      nan</td>\n",
       "</tr>\n",
       "<tr>\n",
       "  <th>category_Civic Design</th>       <td>    0.1634</td> <td>      nan</td> <td>      nan</td> <td>   nan</td> <td>      nan</td> <td>      nan</td>\n",
       "</tr>\n",
       "<tr>\n",
       "  <th>category_Classical Music</th>    <td>    1.2459</td> <td>      nan</td> <td>      nan</td> <td>   nan</td> <td>      nan</td> <td>      nan</td>\n",
       "</tr>\n",
       "<tr>\n",
       "  <th>category_Comedy</th>             <td>    0.1929</td> <td>      nan</td> <td>      nan</td> <td>   nan</td> <td>      nan</td> <td>      nan</td>\n",
       "</tr>\n",
       "<tr>\n",
       "  <th>category_Comic Books</th>        <td>    0.2622</td> <td>      nan</td> <td>      nan</td> <td>   nan</td> <td>      nan</td> <td>      nan</td>\n",
       "</tr>\n",
       "<tr>\n",
       "  <th>category_Comics</th>             <td>   -0.0846</td> <td>      nan</td> <td>      nan</td> <td>   nan</td> <td>      nan</td> <td>      nan</td>\n",
       "</tr>\n",
       "<tr>\n",
       "  <th>category_Community Gardens</th>  <td>   -0.5809</td> <td> 1.01e+05</td> <td>-5.78e-06</td> <td> 1.000</td> <td>-1.97e+05</td> <td> 1.97e+05</td>\n",
       "</tr>\n",
       "<tr>\n",
       "  <th>category_Conceptual Art</th>     <td>   -0.1694</td> <td>      nan</td> <td>      nan</td> <td>   nan</td> <td>      nan</td> <td>      nan</td>\n",
       "</tr>\n",
       "<tr>\n",
       "  <th>category_Cookbooks</th>          <td>   -0.4106</td> <td>      nan</td> <td>      nan</td> <td>   nan</td> <td>      nan</td> <td>      nan</td>\n",
       "</tr>\n",
       "<tr>\n",
       "  <th>category_Country & Folk</th>     <td>    1.1700</td> <td>      nan</td> <td>      nan</td> <td>   nan</td> <td>      nan</td> <td>      nan</td>\n",
       "</tr>\n",
       "<tr>\n",
       "  <th>category_Couture</th>            <td>   -0.5186</td> <td>      nan</td> <td>      nan</td> <td>   nan</td> <td>      nan</td> <td>      nan</td>\n",
       "</tr>\n",
       "<tr>\n",
       "  <th>category_Crafts</th>             <td>   -0.7272</td> <td>      nan</td> <td>      nan</td> <td>   nan</td> <td>      nan</td> <td>      nan</td>\n",
       "</tr>\n",
       "<tr>\n",
       "  <th>category_Crochet</th>            <td>   -1.0124</td> <td>      nan</td> <td>      nan</td> <td>   nan</td> <td>      nan</td> <td>      nan</td>\n",
       "</tr>\n",
       "<tr>\n",
       "  <th>category_DIY</th>                <td>   -1.2568</td> <td>      nan</td> <td>      nan</td> <td>   nan</td> <td>      nan</td> <td>      nan</td>\n",
       "</tr>\n",
       "<tr>\n",
       "  <th>category_DIY Electronics</th>    <td>    0.1295</td> <td>    0.115</td> <td>    1.129</td> <td> 0.259</td> <td>   -0.095</td> <td>    0.354</td>\n",
       "</tr>\n",
       "<tr>\n",
       "  <th>category_Dance</th>              <td>    1.0894</td> <td>      nan</td> <td>      nan</td> <td>   nan</td> <td>      nan</td> <td>      nan</td>\n",
       "</tr>\n",
       "<tr>\n",
       "  <th>category_Design</th>             <td>   -0.0056</td> <td>      nan</td> <td>      nan</td> <td>   nan</td> <td>      nan</td> <td>      nan</td>\n",
       "</tr>\n",
       "<tr>\n",
       "  <th>category_Digital Art</th>        <td>   -0.5075</td> <td>      nan</td> <td>      nan</td> <td>   nan</td> <td>      nan</td> <td>      nan</td>\n",
       "</tr>\n",
       "<tr>\n",
       "  <th>category_Documentary</th>        <td>    0.2531</td> <td>      nan</td> <td>      nan</td> <td>   nan</td> <td>      nan</td> <td>      nan</td>\n",
       "</tr>\n",
       "<tr>\n",
       "  <th>category_Drama</th>              <td>    0.2605</td> <td>      nan</td> <td>      nan</td> <td>   nan</td> <td>      nan</td> <td>      nan</td>\n",
       "</tr>\n",
       "<tr>\n",
       "  <th>category_Drinks</th>             <td>   -0.3052</td> <td> 2.89e+05</td> <td>-1.06e-06</td> <td> 1.000</td> <td>-5.67e+05</td> <td> 5.67e+05</td>\n",
       "</tr>\n",
       "<tr>\n",
       "  <th>category_Electronic Music</th>   <td>   -0.0467</td> <td>      nan</td> <td>      nan</td> <td>   nan</td> <td>      nan</td> <td>      nan</td>\n",
       "</tr>\n",
       "<tr>\n",
       "  <th>category_Embroidery</th>         <td>   -1.2230</td> <td>      nan</td> <td>      nan</td> <td>   nan</td> <td>      nan</td> <td>      nan</td>\n",
       "</tr>\n",
       "<tr>\n",
       "  <th>category_Events</th>             <td>   -0.9170</td> <td> 1.05e+05</td> <td>-8.72e-06</td> <td> 1.000</td> <td>-2.06e+05</td> <td> 2.06e+05</td>\n",
       "</tr>\n",
       "<tr>\n",
       "  <th>category_Experimental</th>       <td>   -0.2125</td> <td>      nan</td> <td>      nan</td> <td>   nan</td> <td>      nan</td> <td>      nan</td>\n",
       "</tr>\n",
       "<tr>\n",
       "  <th>category_Fabrication Tools</th>  <td>   -0.4675</td> <td>    0.178</td> <td>   -2.621</td> <td> 0.009</td> <td>   -0.817</td> <td>   -0.118</td>\n",
       "</tr>\n",
       "<tr>\n",
       "  <th>category_Faith</th>              <td>    0.3025</td> <td>      nan</td> <td>      nan</td> <td>   nan</td> <td>      nan</td> <td>      nan</td>\n",
       "</tr>\n",
       "<tr>\n",
       "  <th>category_Family</th>             <td>   -0.6457</td> <td>  1.5e+05</td> <td> -4.3e-06</td> <td> 1.000</td> <td>-2.94e+05</td> <td> 2.94e+05</td>\n",
       "</tr>\n",
       "<tr>\n",
       "  <th>category_Fantasy</th>            <td>    0.0855</td> <td>      nan</td> <td>      nan</td> <td>   nan</td> <td>      nan</td> <td>      nan</td>\n",
       "</tr>\n",
       "<tr>\n",
       "  <th>category_Farmer's Markets</th>   <td>   -0.9657</td> <td>      nan</td> <td>      nan</td> <td>   nan</td> <td>      nan</td> <td>      nan</td>\n",
       "</tr>\n",
       "<tr>\n",
       "  <th>category_Farms</th>              <td>   -0.5043</td> <td> 1.62e+05</td> <td>-3.11e-06</td> <td> 1.000</td> <td>-3.17e+05</td> <td> 3.17e+05</td>\n",
       "</tr>\n",
       "<tr>\n",
       "  <th>category_Fashion</th>            <td>   -0.0172</td> <td>      nan</td> <td>      nan</td> <td>   nan</td> <td>      nan</td> <td>      nan</td>\n",
       "</tr>\n",
       "<tr>\n",
       "  <th>category_Festivals</th>          <td>    0.1949</td> <td>      nan</td> <td>      nan</td> <td>   nan</td> <td>      nan</td> <td>      nan</td>\n",
       "</tr>\n",
       "<tr>\n",
       "  <th>category_Fiction</th>            <td>   -0.4456</td> <td>      nan</td> <td>      nan</td> <td>   nan</td> <td>      nan</td> <td>      nan</td>\n",
       "</tr>\n",
       "<tr>\n",
       "  <th>category_Film & Video</th>       <td>   -0.0077</td> <td>      nan</td> <td>      nan</td> <td>   nan</td> <td>      nan</td> <td>      nan</td>\n",
       "</tr>\n",
       "<tr>\n",
       "  <th>category_Fine Art</th>           <td>    0.4014</td> <td>      nan</td> <td>      nan</td> <td>   nan</td> <td>      nan</td> <td>      nan</td>\n",
       "</tr>\n",
       "<tr>\n",
       "  <th>category_Flight</th>             <td>   -1.0217</td> <td>    0.161</td> <td>   -6.342</td> <td> 0.000</td> <td>   -1.337</td> <td>   -0.706</td>\n",
       "</tr>\n",
       "<tr>\n",
       "  <th>category_Food</th>               <td>   -0.2257</td> <td> 2.12e+05</td> <td>-1.06e-06</td> <td> 1.000</td> <td>-4.15e+05</td> <td> 4.15e+05</td>\n",
       "</tr>\n",
       "<tr>\n",
       "  <th>category_Food Trucks</th>        <td>   -1.2146</td> <td> 3.59e+04</td> <td>-3.38e-05</td> <td> 1.000</td> <td>-7.04e+04</td> <td> 7.04e+04</td>\n",
       "</tr>\n",
       "<tr>\n",
       "  <th>category_Footwear</th>           <td>    0.6097</td> <td>      nan</td> <td>      nan</td> <td>   nan</td> <td>      nan</td> <td>      nan</td>\n",
       "</tr>\n",
       "<tr>\n",
       "  <th>category_Gadgets</th>            <td>   -0.2915</td> <td>    0.099</td> <td>   -2.937</td> <td> 0.003</td> <td>   -0.486</td> <td>   -0.097</td>\n",
       "</tr>\n",
       "<tr>\n",
       "  <th>category_Games</th>              <td>   -0.1685</td> <td>      nan</td> <td>      nan</td> <td>   nan</td> <td>      nan</td> <td>      nan</td>\n",
       "</tr>\n",
       "<tr>\n",
       "  <th>category_Gaming Hardware</th>    <td>    0.1144</td> <td>      nan</td> <td>      nan</td> <td>   nan</td> <td>      nan</td> <td>      nan</td>\n",
       "</tr>\n",
       "<tr>\n",
       "  <th>category_Glass</th>              <td>   -0.5581</td> <td> 1.52e+05</td> <td>-3.66e-06</td> <td> 1.000</td> <td>-2.99e+05</td> <td> 2.99e+05</td>\n",
       "</tr>\n",
       "<tr>\n",
       "  <th>category_Graphic Design</th>     <td>   -0.1474</td> <td>  1.5e+06</td> <td>-9.83e-08</td> <td> 1.000</td> <td>-2.94e+06</td> <td> 2.94e+06</td>\n",
       "</tr>\n",
       "<tr>\n",
       "  <th>category_Graphic Novels</th>     <td>    0.1516</td> <td>      nan</td> <td>      nan</td> <td>   nan</td> <td>      nan</td> <td>      nan</td>\n",
       "</tr>\n",
       "<tr>\n",
       "  <th>category_Hardware</th>           <td>   -0.0720</td> <td>    0.097</td> <td>   -0.745</td> <td> 0.456</td> <td>   -0.262</td> <td>    0.117</td>\n",
       "</tr>\n",
       "<tr>\n",
       "  <th>category_Hip-Hop</th>            <td>   -1.0746</td> <td> 1.43e+05</td> <td>-7.52e-06</td> <td> 1.000</td> <td> -2.8e+05</td> <td>  2.8e+05</td>\n",
       "</tr>\n",
       "<tr>\n",
       "  <th>category_Horror</th>             <td>   -0.0775</td> <td>      nan</td> <td>      nan</td> <td>   nan</td> <td>      nan</td> <td>      nan</td>\n",
       "</tr>\n",
       "<tr>\n",
       "  <th>category_Illustration</th>       <td>    0.4665</td> <td>      nan</td> <td>      nan</td> <td>   nan</td> <td>      nan</td> <td>      nan</td>\n",
       "</tr>\n",
       "<tr>\n",
       "  <th>category_Immersive</th>          <td>   -0.1331</td> <td>      nan</td> <td>      nan</td> <td>   nan</td> <td>      nan</td> <td>      nan</td>\n",
       "</tr>\n",
       "<tr>\n",
       "  <th>category_Indie Rock</th>         <td>    1.2210</td> <td>      nan</td> <td>      nan</td> <td>   nan</td> <td>      nan</td> <td>      nan</td>\n",
       "</tr>\n",
       "<tr>\n",
       "  <th>category_Installations</th>      <td>    0.5389</td> <td>      nan</td> <td>      nan</td> <td>   nan</td> <td>      nan</td> <td>      nan</td>\n",
       "</tr>\n",
       "<tr>\n",
       "  <th>category_Interactive Design</th> <td>   -0.8130</td> <td> 2.23e+06</td> <td>-3.64e-07</td> <td> 1.000</td> <td>-4.37e+06</td> <td> 4.37e+06</td>\n",
       "</tr>\n",
       "<tr>\n",
       "  <th>category_Jazz</th>               <td>    1.0682</td> <td>      nan</td> <td>      nan</td> <td>   nan</td> <td>      nan</td> <td>      nan</td>\n",
       "</tr>\n",
       "<tr>\n",
       "  <th>category_Jewelry</th>            <td>   -0.0832</td> <td>      nan</td> <td>      nan</td> <td>   nan</td> <td>      nan</td> <td>      nan</td>\n",
       "</tr>\n",
       "<tr>\n",
       "  <th>category_Journalism</th>         <td>   -1.5772</td> <td>    0.149</td> <td>  -10.615</td> <td> 0.000</td> <td>   -1.868</td> <td>   -1.286</td>\n",
       "</tr>\n",
       "<tr>\n",
       "  <th>category_Kids</th>               <td>    0.4802</td> <td>      nan</td> <td>      nan</td> <td>   nan</td> <td>      nan</td> <td>      nan</td>\n",
       "</tr>\n",
       "<tr>\n",
       "  <th>category_Knitting</th>           <td>    0.3104</td> <td>    8e+04</td> <td> 3.88e-06</td> <td> 1.000</td> <td>-1.57e+05</td> <td> 1.57e+05</td>\n",
       "</tr>\n",
       "<tr>\n",
       "  <th>category_Latin</th>              <td>   -0.1960</td> <td>      nan</td> <td>      nan</td> <td>   nan</td> <td>      nan</td> <td>      nan</td>\n",
       "</tr>\n",
       "<tr>\n",
       "  <th>category_Letterpress</th>        <td>    1.0760</td> <td>      nan</td> <td>      nan</td> <td>   nan</td> <td>      nan</td> <td>      nan</td>\n",
       "</tr>\n",
       "<tr>\n",
       "  <th>category_Literary Journals</th>  <td>    0.6513</td> <td>      nan</td> <td>      nan</td> <td>   nan</td> <td>      nan</td> <td>      nan</td>\n",
       "</tr>\n",
       "<tr>\n",
       "  <th>category_Literary Spaces</th>    <td>    1.5614</td> <td>      nan</td> <td>      nan</td> <td>   nan</td> <td>      nan</td> <td>      nan</td>\n",
       "</tr>\n",
       "<tr>\n",
       "  <th>category_Live Games</th>         <td>   -0.5780</td> <td>      nan</td> <td>      nan</td> <td>   nan</td> <td>      nan</td> <td>      nan</td>\n",
       "</tr>\n",
       "<tr>\n",
       "  <th>category_Makerspaces</th>        <td>   -0.3524</td> <td>    0.174</td> <td>   -2.031</td> <td> 0.042</td> <td>   -0.693</td> <td>   -0.012</td>\n",
       "</tr>\n",
       "<tr>\n",
       "  <th>category_Metal</th>              <td>    0.2323</td> <td>      nan</td> <td>      nan</td> <td>   nan</td> <td>      nan</td> <td>      nan</td>\n",
       "</tr>\n",
       "<tr>\n",
       "  <th>category_Mixed Media</th>        <td>   -0.2182</td> <td>      nan</td> <td>      nan</td> <td>   nan</td> <td>      nan</td> <td>      nan</td>\n",
       "</tr>\n",
       "<tr>\n",
       "  <th>category_Mobile Games</th>       <td>   -1.4381</td> <td>      nan</td> <td>      nan</td> <td>   nan</td> <td>      nan</td> <td>      nan</td>\n",
       "</tr>\n",
       "<tr>\n",
       "  <th>category_Movie Theaters</th>     <td>   -0.0003</td> <td>      nan</td> <td>      nan</td> <td>   nan</td> <td>      nan</td> <td>      nan</td>\n",
       "</tr>\n",
       "<tr>\n",
       "  <th>category_Music</th>              <td>    0.5647</td> <td>      nan</td> <td>      nan</td> <td>   nan</td> <td>      nan</td> <td>      nan</td>\n",
       "</tr>\n",
       "<tr>\n",
       "  <th>category_Music Videos</th>       <td>   -0.1235</td> <td> 2.67e+05</td> <td>-4.62e-07</td> <td> 1.000</td> <td>-5.24e+05</td> <td> 5.24e+05</td>\n",
       "</tr>\n",
       "<tr>\n",
       "  <th>category_Musical</th>            <td>   -0.1778</td> <td>      nan</td> <td>      nan</td> <td>   nan</td> <td>      nan</td> <td>      nan</td>\n",
       "</tr>\n",
       "<tr>\n",
       "  <th>category_Narrative Film</th>     <td>    0.3947</td> <td>      nan</td> <td>      nan</td> <td>   nan</td> <td>      nan</td> <td>      nan</td>\n",
       "</tr>\n",
       "<tr>\n",
       "  <th>category_Nature</th>             <td>   -0.6046</td> <td> 5.33e+06</td> <td>-1.14e-07</td> <td> 1.000</td> <td>-1.04e+07</td> <td> 1.04e+07</td>\n",
       "</tr>\n",
       "<tr>\n",
       "  <th>category_Nonfiction</th>         <td>   -0.2627</td> <td>      nan</td> <td>      nan</td> <td>   nan</td> <td>      nan</td> <td>      nan</td>\n",
       "</tr>\n",
       "<tr>\n",
       "  <th>category_Painting</th>           <td>   -0.2218</td> <td>      nan</td> <td>      nan</td> <td>   nan</td> <td>      nan</td> <td>      nan</td>\n",
       "</tr>\n",
       "<tr>\n",
       "  <th>category_People</th>             <td>   -0.3254</td> <td> 4.14e+06</td> <td>-7.85e-08</td> <td> 1.000</td> <td>-8.12e+06</td> <td> 8.12e+06</td>\n",
       "</tr>\n",
       "<tr>\n",
       "  <th>category_Performance Art</th>    <td>    0.1917</td> <td>      nan</td> <td>      nan</td> <td>   nan</td> <td>      nan</td> <td>      nan</td>\n",
       "</tr>\n",
       "<tr>\n",
       "  <th>category_Performances</th>       <td>    0.8847</td> <td>      nan</td> <td>      nan</td> <td>   nan</td> <td>      nan</td> <td>      nan</td>\n",
       "</tr>\n",
       "<tr>\n",
       "  <th>category_Periodicals</th>        <td>    0.3980</td> <td>      nan</td> <td>      nan</td> <td>   nan</td> <td>      nan</td> <td>      nan</td>\n",
       "</tr>\n",
       "<tr>\n",
       "  <th>category_Pet Fashion</th>        <td>    0.1252</td> <td>      nan</td> <td>      nan</td> <td>   nan</td> <td>      nan</td> <td>      nan</td>\n",
       "</tr>\n",
       "<tr>\n",
       "  <th>category_Photo</th>              <td>   -2.2565</td> <td>    0.242</td> <td>   -9.335</td> <td> 0.000</td> <td>   -2.730</td> <td>   -1.783</td>\n",
       "</tr>\n",
       "<tr>\n",
       "  <th>category_Photobooks</th>         <td>    0.6719</td> <td> 1.49e+06</td> <td> 4.49e-07</td> <td> 1.000</td> <td>-2.93e+06</td> <td> 2.93e+06</td>\n",
       "</tr>\n",
       "<tr>\n",
       "  <th>category_Photography</th>        <td>    0.2170</td> <td> 3.15e+06</td> <td> 6.88e-08</td> <td> 1.000</td> <td>-6.18e+06</td> <td> 6.18e+06</td>\n",
       "</tr>\n",
       "<tr>\n",
       "  <th>category_Places</th>             <td>   -0.6828</td> <td> 3.86e+06</td> <td>-1.77e-07</td> <td> 1.000</td> <td>-7.56e+06</td> <td> 7.56e+06</td>\n",
       "</tr>\n",
       "<tr>\n",
       "  <th>category_Playing Cards</th>      <td>    0.4839</td> <td>      nan</td> <td>      nan</td> <td>   nan</td> <td>      nan</td> <td>      nan</td>\n",
       "</tr>\n",
       "<tr>\n",
       "  <th>category_Plays</th>              <td>   -0.0177</td> <td>      nan</td> <td>      nan</td> <td>   nan</td> <td>      nan</td> <td>      nan</td>\n",
       "</tr>\n",
       "<tr>\n",
       "  <th>category_Poetry</th>             <td>    0.0451</td> <td>      nan</td> <td>      nan</td> <td>   nan</td> <td>      nan</td> <td>      nan</td>\n",
       "</tr>\n",
       "<tr>\n",
       "  <th>category_Pop</th>                <td>    0.5620</td> <td>      nan</td> <td>      nan</td> <td>   nan</td> <td>      nan</td> <td>      nan</td>\n",
       "</tr>\n",
       "<tr>\n",
       "  <th>category_Pottery</th>            <td>    0.3537</td> <td>      nan</td> <td>      nan</td> <td>   nan</td> <td>      nan</td> <td>      nan</td>\n",
       "</tr>\n",
       "<tr>\n",
       "  <th>category_Print</th>              <td>   -1.8265</td> <td>    0.166</td> <td>  -11.005</td> <td> 0.000</td> <td>   -2.152</td> <td>   -1.501</td>\n",
       "</tr>\n",
       "<tr>\n",
       "  <th>category_Printing</th>           <td>   -0.8410</td> <td> 2.17e+05</td> <td>-3.87e-06</td> <td> 1.000</td> <td>-4.26e+05</td> <td> 4.26e+05</td>\n",
       "</tr>\n",
       "<tr>\n",
       "  <th>category_Product Design</th>     <td>    0.1885</td> <td>      nan</td> <td>      nan</td> <td>   nan</td> <td>      nan</td> <td>      nan</td>\n",
       "</tr>\n",
       "<tr>\n",
       "  <th>category_Public Art</th>         <td>    0.5129</td> <td>      nan</td> <td>      nan</td> <td>   nan</td> <td>      nan</td> <td>      nan</td>\n",
       "</tr>\n",
       "<tr>\n",
       "  <th>category_Publishing</th>         <td>   -0.0994</td> <td>      nan</td> <td>      nan</td> <td>   nan</td> <td>      nan</td> <td>      nan</td>\n",
       "</tr>\n",
       "<tr>\n",
       "  <th>category_Punk</th>               <td>    0.6610</td> <td>      nan</td> <td>      nan</td> <td>   nan</td> <td>      nan</td> <td>      nan</td>\n",
       "</tr>\n",
       "<tr>\n",
       "  <th>category_Puzzles</th>            <td>    0.3200</td> <td>      nan</td> <td>      nan</td> <td>   nan</td> <td>      nan</td> <td>      nan</td>\n",
       "</tr>\n",
       "<tr>\n",
       "  <th>category_Quilts</th>             <td>   -0.8445</td> <td>      nan</td> <td>      nan</td> <td>   nan</td> <td>      nan</td> <td>      nan</td>\n",
       "</tr>\n",
       "<tr>\n",
       "  <th>category_R&B</th>                <td>   -0.5674</td> <td>      nan</td> <td>      nan</td> <td>   nan</td> <td>      nan</td> <td>      nan</td>\n",
       "</tr>\n",
       "<tr>\n",
       "  <th>category_Radio & Podcasts</th>   <td>    0.3993</td> <td>      nan</td> <td>      nan</td> <td>   nan</td> <td>      nan</td> <td>      nan</td>\n",
       "</tr>\n",
       "<tr>\n",
       "  <th>category_Ready-to-wear</th>      <td>   -0.4546</td> <td>      nan</td> <td>      nan</td> <td>   nan</td> <td>      nan</td> <td>      nan</td>\n",
       "</tr>\n",
       "<tr>\n",
       "  <th>category_Residencies</th>        <td>    1.3912</td> <td>      nan</td> <td>      nan</td> <td>   nan</td> <td>      nan</td> <td>      nan</td>\n",
       "</tr>\n",
       "<tr>\n",
       "  <th>category_Restaurants</th>        <td>   -0.6642</td> <td>      nan</td> <td>      nan</td> <td>   nan</td> <td>      nan</td> <td>      nan</td>\n",
       "</tr>\n",
       "<tr>\n",
       "  <th>category_Robots</th>             <td>    0.1203</td> <td>    0.130</td> <td>    0.922</td> <td> 0.356</td> <td>   -0.135</td> <td>    0.376</td>\n",
       "</tr>\n",
       "<tr>\n",
       "  <th>category_Rock</th>               <td>    0.7288</td> <td>      nan</td> <td>      nan</td> <td>   nan</td> <td>      nan</td> <td>      nan</td>\n",
       "</tr>\n",
       "<tr>\n",
       "  <th>category_Romance</th>            <td>   -0.0758</td> <td>      nan</td> <td>      nan</td> <td>   nan</td> <td>      nan</td> <td>      nan</td>\n",
       "</tr>\n",
       "<tr>\n",
       "  <th>category_Science Fiction</th>    <td>    0.3235</td> <td>      nan</td> <td>      nan</td> <td>   nan</td> <td>      nan</td> <td>      nan</td>\n",
       "</tr>\n",
       "<tr>\n",
       "  <th>category_Sculpture</th>          <td>    0.0165</td> <td>      nan</td> <td>      nan</td> <td>   nan</td> <td>      nan</td> <td>      nan</td>\n",
       "</tr>\n",
       "<tr>\n",
       "  <th>category_Shorts</th>             <td>    0.7067</td> <td>      nan</td> <td>      nan</td> <td>   nan</td> <td>      nan</td> <td>      nan</td>\n",
       "</tr>\n",
       "<tr>\n",
       "  <th>category_Small Batch</th>        <td>   -0.2177</td> <td> 6.95e+04</td> <td>-3.13e-06</td> <td> 1.000</td> <td>-1.36e+05</td> <td> 1.36e+05</td>\n",
       "</tr>\n",
       "<tr>\n",
       "  <th>category_Software</th>           <td>   -1.6069</td> <td>    0.105</td> <td>  -15.231</td> <td> 0.000</td> <td>   -1.814</td> <td>   -1.400</td>\n",
       "</tr>\n",
       "<tr>\n",
       "  <th>category_Sound</th>              <td>    0.2924</td> <td>    0.126</td> <td>    2.319</td> <td> 0.020</td> <td>    0.045</td> <td>    0.539</td>\n",
       "</tr>\n",
       "<tr>\n",
       "  <th>category_Space Exploration</th>  <td>   -0.0076</td> <td>    0.157</td> <td>   -0.048</td> <td> 0.961</td> <td>   -0.316</td> <td>    0.301</td>\n",
       "</tr>\n",
       "<tr>\n",
       "  <th>category_Spaces</th>             <td>   -0.0433</td> <td>      nan</td> <td>      nan</td> <td>   nan</td> <td>      nan</td> <td>      nan</td>\n",
       "</tr>\n",
       "<tr>\n",
       "  <th>category_Stationery</th>         <td>   -0.2035</td> <td>      nan</td> <td>      nan</td> <td>   nan</td> <td>      nan</td> <td>      nan</td>\n",
       "</tr>\n",
       "<tr>\n",
       "  <th>category_Tabletop Games</th>     <td>    1.2948</td> <td>      nan</td> <td>      nan</td> <td>   nan</td> <td>      nan</td> <td>      nan</td>\n",
       "</tr>\n",
       "<tr>\n",
       "  <th>category_Taxidermy</th>          <td>    0.1832</td> <td> 1.92e+05</td> <td> 9.54e-07</td> <td> 1.000</td> <td>-3.76e+05</td> <td> 3.76e+05</td>\n",
       "</tr>\n",
       "<tr>\n",
       "  <th>category_Technology</th>         <td>   -0.9235</td> <td>    0.094</td> <td>   -9.793</td> <td> 0.000</td> <td>   -1.108</td> <td>   -0.739</td>\n",
       "</tr>\n",
       "<tr>\n",
       "  <th>category_Television</th>         <td>   -0.8379</td> <td>      nan</td> <td>      nan</td> <td>   nan</td> <td>      nan</td> <td>      nan</td>\n",
       "</tr>\n",
       "<tr>\n",
       "  <th>category_Textiles</th>           <td>   -0.5130</td> <td>      nan</td> <td>      nan</td> <td>   nan</td> <td>      nan</td> <td>      nan</td>\n",
       "</tr>\n",
       "<tr>\n",
       "  <th>category_Theater</th>            <td>    0.1849</td> <td>      nan</td> <td>      nan</td> <td>   nan</td> <td>      nan</td> <td>      nan</td>\n",
       "</tr>\n",
       "<tr>\n",
       "  <th>category_Thrillers</th>          <td>   -0.2342</td> <td> 8.18e+04</td> <td>-2.86e-06</td> <td> 1.000</td> <td> -1.6e+05</td> <td>  1.6e+05</td>\n",
       "</tr>\n",
       "<tr>\n",
       "  <th>category_Translations</th>       <td>   -0.2616</td> <td>      nan</td> <td>      nan</td> <td>   nan</td> <td>      nan</td> <td>      nan</td>\n",
       "</tr>\n",
       "<tr>\n",
       "  <th>category_Typography</th>         <td>    0.9761</td> <td> 2.36e+06</td> <td> 4.13e-07</td> <td> 1.000</td> <td>-4.63e+06</td> <td> 4.63e+06</td>\n",
       "</tr>\n",
       "<tr>\n",
       "  <th>category_Vegan</th>              <td>   -0.0310</td> <td>      nan</td> <td>      nan</td> <td>   nan</td> <td>      nan</td> <td>      nan</td>\n",
       "</tr>\n",
       "<tr>\n",
       "  <th>category_Video</th>              <td>   -2.5848</td> <td>    0.205</td> <td>  -12.601</td> <td> 0.000</td> <td>   -2.987</td> <td>   -2.183</td>\n",
       "</tr>\n",
       "<tr>\n",
       "  <th>category_Video Art</th>          <td>   -0.5329</td> <td>      nan</td> <td>      nan</td> <td>   nan</td> <td>      nan</td> <td>      nan</td>\n",
       "</tr>\n",
       "<tr>\n",
       "  <th>category_Video Games</th>        <td>   -0.2685</td> <td>      nan</td> <td>      nan</td> <td>   nan</td> <td>      nan</td> <td>      nan</td>\n",
       "</tr>\n",
       "<tr>\n",
       "  <th>category_Wearables</th>          <td>    0.0185</td> <td>    0.112</td> <td>    0.165</td> <td> 0.869</td> <td>   -0.201</td> <td>    0.238</td>\n",
       "</tr>\n",
       "<tr>\n",
       "  <th>category_Weaving</th>            <td>   -0.3896</td> <td>      nan</td> <td>      nan</td> <td>   nan</td> <td>      nan</td> <td>      nan</td>\n",
       "</tr>\n",
       "<tr>\n",
       "  <th>category_Web</th>                <td>   -2.3198</td> <td>    0.110</td> <td>  -21.018</td> <td> 0.000</td> <td>   -2.536</td> <td>   -2.103</td>\n",
       "</tr>\n",
       "<tr>\n",
       "  <th>category_Webcomics</th>          <td>    0.1070</td> <td>      nan</td> <td>      nan</td> <td>   nan</td> <td>      nan</td> <td>      nan</td>\n",
       "</tr>\n",
       "<tr>\n",
       "  <th>category_Webseries</th>          <td>   -0.2581</td> <td>      nan</td> <td>      nan</td> <td>   nan</td> <td>      nan</td> <td>      nan</td>\n",
       "</tr>\n",
       "<tr>\n",
       "  <th>category_Woodworking</th>        <td>   -0.7419</td> <td> 1.43e+05</td> <td>-5.19e-06</td> <td> 1.000</td> <td> -2.8e+05</td> <td>  2.8e+05</td>\n",
       "</tr>\n",
       "<tr>\n",
       "  <th>category_Workshops</th>          <td>   -0.3478</td> <td>      nan</td> <td>      nan</td> <td>   nan</td> <td>      nan</td> <td>      nan</td>\n",
       "</tr>\n",
       "<tr>\n",
       "  <th>category_World Music</th>        <td>    0.4632</td> <td>      nan</td> <td>      nan</td> <td>   nan</td> <td>      nan</td> <td>      nan</td>\n",
       "</tr>\n",
       "<tr>\n",
       "  <th>category_Young Adult</th>        <td>   -0.5952</td> <td>      nan</td> <td>      nan</td> <td>   nan</td> <td>      nan</td> <td>      nan</td>\n",
       "</tr>\n",
       "<tr>\n",
       "  <th>category_Zines</th>              <td>    0.5594</td> <td>      nan</td> <td>      nan</td> <td>   nan</td> <td>      nan</td> <td>      nan</td>\n",
       "</tr>\n",
       "<tr>\n",
       "  <th>main_category_Comics</th>        <td>    0.6037</td> <td> 7.15e+05</td> <td> 8.44e-07</td> <td> 1.000</td> <td> -1.4e+06</td> <td>  1.4e+06</td>\n",
       "</tr>\n",
       "<tr>\n",
       "  <th>main_category_Crafts</th>        <td>    0.0243</td> <td> 6.37e+05</td> <td> 3.81e-08</td> <td> 1.000</td> <td>-1.25e+06</td> <td> 1.25e+06</td>\n",
       "</tr>\n",
       "<tr>\n",
       "  <th>main_category_Dance</th>         <td>    0.0156</td> <td> 7.03e+05</td> <td> 2.22e-08</td> <td> 1.000</td> <td>-1.38e+06</td> <td> 1.38e+06</td>\n",
       "</tr>\n",
       "<tr>\n",
       "  <th>main_category_Design</th>        <td>    0.0591</td> <td> 2.43e+06</td> <td> 2.43e-08</td> <td> 1.000</td> <td>-4.76e+06</td> <td> 4.76e+06</td>\n",
       "</tr>\n",
       "<tr>\n",
       "  <th>main_category_Fashion</th>       <td>   -0.5386</td> <td>      nan</td> <td>      nan</td> <td>   nan</td> <td>      nan</td> <td>      nan</td>\n",
       "</tr>\n",
       "<tr>\n",
       "  <th>main_category_Film & Video</th>  <td>   -0.0838</td> <td> 7.79e+05</td> <td>-1.08e-07</td> <td> 1.000</td> <td>-1.53e+06</td> <td> 1.53e+06</td>\n",
       "</tr>\n",
       "<tr>\n",
       "  <th>main_category_Food</th>          <td>   -0.1250</td> <td> 5.76e+05</td> <td>-2.17e-07</td> <td> 1.000</td> <td>-1.13e+06</td> <td> 1.13e+06</td>\n",
       "</tr>\n",
       "<tr>\n",
       "  <th>main_category_Games</th>         <td>   -0.2399</td> <td>      nan</td> <td>      nan</td> <td>   nan</td> <td>      nan</td> <td>      nan</td>\n",
       "</tr>\n",
       "<tr>\n",
       "  <th>main_category_Journalism</th>    <td>    1.1516</td> <td>      nan</td> <td>      nan</td> <td>   nan</td> <td>      nan</td> <td>      nan</td>\n",
       "</tr>\n",
       "<tr>\n",
       "  <th>main_category_Music</th>         <td>   -0.1700</td> <td> 6.73e+05</td> <td>-2.53e-07</td> <td> 1.000</td> <td>-1.32e+06</td> <td> 1.32e+06</td>\n",
       "</tr>\n",
       "<tr>\n",
       "  <th>main_category_Photography</th>   <td>   -0.4936</td> <td>      nan</td> <td>      nan</td> <td>   nan</td> <td>      nan</td> <td>      nan</td>\n",
       "</tr>\n",
       "<tr>\n",
       "  <th>main_category_Publishing</th>    <td>   -0.2423</td> <td> 7.77e+05</td> <td>-3.12e-07</td> <td> 1.000</td> <td>-1.52e+06</td> <td> 1.52e+06</td>\n",
       "</tr>\n",
       "<tr>\n",
       "  <th>main_category_Technology</th>    <td>    0.4361</td> <td>      nan</td> <td>      nan</td> <td>   nan</td> <td>      nan</td> <td>      nan</td>\n",
       "</tr>\n",
       "<tr>\n",
       "  <th>main_category_Theater</th>       <td>    0.7985</td> <td> 8.99e+05</td> <td> 8.88e-07</td> <td> 1.000</td> <td>-1.76e+06</td> <td> 1.76e+06</td>\n",
       "</tr>\n",
       "<tr>\n",
       "  <th>currency_CAD</th>                <td>    0.0746</td> <td> 1.17e+07</td> <td> 6.38e-09</td> <td> 1.000</td> <td>-2.29e+07</td> <td> 2.29e+07</td>\n",
       "</tr>\n",
       "<tr>\n",
       "  <th>currency_CHF</th>                <td>    0.1133</td> <td>      nan</td> <td>      nan</td> <td>   nan</td> <td>      nan</td> <td>      nan</td>\n",
       "</tr>\n",
       "<tr>\n",
       "  <th>currency_DKK</th>                <td>    0.2147</td> <td> 5.34e+06</td> <td> 4.02e-08</td> <td> 1.000</td> <td>-1.05e+07</td> <td> 1.05e+07</td>\n",
       "</tr>\n",
       "<tr>\n",
       "  <th>currency_EUR</th>                <td>   -0.2669</td> <td>      nan</td> <td>      nan</td> <td>   nan</td> <td>      nan</td> <td>      nan</td>\n",
       "</tr>\n",
       "<tr>\n",
       "  <th>currency_GBP</th>                <td>    0.1740</td> <td>      nan</td> <td>      nan</td> <td>   nan</td> <td>      nan</td> <td>      nan</td>\n",
       "</tr>\n",
       "<tr>\n",
       "  <th>currency_HKD</th>                <td>    0.2806</td> <td> 6.94e+06</td> <td> 4.04e-08</td> <td> 1.000</td> <td>-1.36e+07</td> <td> 1.36e+07</td>\n",
       "</tr>\n",
       "<tr>\n",
       "  <th>currency_JPY</th>                <td>   -0.0548</td> <td>      nan</td> <td>      nan</td> <td>   nan</td> <td>      nan</td> <td>      nan</td>\n",
       "</tr>\n",
       "<tr>\n",
       "  <th>currency_MXN</th>                <td>   -0.1133</td> <td>      nan</td> <td>      nan</td> <td>   nan</td> <td>      nan</td> <td>      nan</td>\n",
       "</tr>\n",
       "<tr>\n",
       "  <th>currency_NOK</th>                <td>   -0.0117</td> <td> 5.55e+06</td> <td> -2.1e-09</td> <td> 1.000</td> <td>-1.09e+07</td> <td> 1.09e+07</td>\n",
       "</tr>\n",
       "<tr>\n",
       "  <th>currency_NZD</th>                <td>    0.1097</td> <td> 8.97e+05</td> <td> 1.22e-07</td> <td> 1.000</td> <td>-1.76e+06</td> <td> 1.76e+06</td>\n",
       "</tr>\n",
       "<tr>\n",
       "  <th>currency_SEK</th>                <td>    0.0944</td> <td> 5.28e+07</td> <td> 1.79e-09</td> <td> 1.000</td> <td>-1.03e+08</td> <td> 1.03e+08</td>\n",
       "</tr>\n",
       "<tr>\n",
       "  <th>currency_SGD</th>                <td>    0.1848</td> <td> 5.17e+06</td> <td> 3.57e-08</td> <td> 1.000</td> <td>-1.01e+07</td> <td> 1.01e+07</td>\n",
       "</tr>\n",
       "<tr>\n",
       "  <th>currency_USD</th>                <td>    0.2042</td> <td>      nan</td> <td>      nan</td> <td>   nan</td> <td>      nan</td> <td>      nan</td>\n",
       "</tr>\n",
       "<tr>\n",
       "  <th>country_AU</th>                  <td>    0.0784</td> <td>      nan</td> <td>      nan</td> <td>   nan</td> <td>      nan</td> <td>      nan</td>\n",
       "</tr>\n",
       "<tr>\n",
       "  <th>country_BE</th>                  <td>    0.3901</td> <td>    0.155</td> <td>    2.518</td> <td> 0.012</td> <td>    0.086</td> <td>    0.694</td>\n",
       "</tr>\n",
       "<tr>\n",
       "  <th>country_CA</th>                  <td>    0.0746</td> <td> 1.18e+07</td> <td> 6.33e-09</td> <td> 1.000</td> <td>-2.31e+07</td> <td> 2.31e+07</td>\n",
       "</tr>\n",
       "<tr>\n",
       "  <th>country_CH</th>                  <td>    0.1133</td> <td>      nan</td> <td>      nan</td> <td>   nan</td> <td>      nan</td> <td>      nan</td>\n",
       "</tr>\n",
       "<tr>\n",
       "  <th>country_DE</th>                  <td>    0.2397</td> <td>    0.123</td> <td>    1.955</td> <td> 0.051</td> <td>   -0.001</td> <td>    0.480</td>\n",
       "</tr>\n",
       "<tr>\n",
       "  <th>country_DK</th>                  <td>    0.2147</td> <td> 4.98e+06</td> <td> 4.31e-08</td> <td> 1.000</td> <td>-9.76e+06</td> <td> 9.76e+06</td>\n",
       "</tr>\n",
       "<tr>\n",
       "  <th>country_ES</th>                  <td>    0.1361</td> <td>    0.129</td> <td>    1.058</td> <td> 0.290</td> <td>   -0.116</td> <td>    0.388</td>\n",
       "</tr>\n",
       "<tr>\n",
       "  <th>country_FR</th>                  <td>    0.7287</td> <td>    0.124</td> <td>    5.874</td> <td> 0.000</td> <td>    0.486</td> <td>    0.972</td>\n",
       "</tr>\n",
       "<tr>\n",
       "  <th>country_GB</th>                  <td>    0.1740</td> <td>      nan</td> <td>      nan</td> <td>   nan</td> <td>      nan</td> <td>      nan</td>\n",
       "</tr>\n",
       "<tr>\n",
       "  <th>country_HK</th>                  <td>    0.2806</td> <td>  7.3e+06</td> <td> 3.84e-08</td> <td> 1.000</td> <td>-1.43e+07</td> <td> 1.43e+07</td>\n",
       "</tr>\n",
       "<tr>\n",
       "  <th>country_IE</th>                  <td>    0.2607</td> <td>    0.146</td> <td>    1.788</td> <td> 0.074</td> <td>   -0.025</td> <td>    0.546</td>\n",
       "</tr>\n",
       "<tr>\n",
       "  <th>country_IT</th>                  <td>   -0.2360</td> <td>    0.128</td> <td>   -1.837</td> <td> 0.066</td> <td>   -0.488</td> <td>    0.016</td>\n",
       "</tr>\n",
       "<tr>\n",
       "  <th>country_JP</th>                  <td>   -0.0548</td> <td>      nan</td> <td>      nan</td> <td>   nan</td> <td>      nan</td> <td>      nan</td>\n",
       "</tr>\n",
       "<tr>\n",
       "  <th>country_LU</th>                  <td>    0.5348</td> <td>    0.324</td> <td>    1.650</td> <td> 0.099</td> <td>   -0.101</td> <td>    1.170</td>\n",
       "</tr>\n",
       "<tr>\n",
       "  <th>country_MX</th>                  <td>   -0.1133</td> <td>      nan</td> <td>      nan</td> <td>   nan</td> <td>      nan</td> <td>      nan</td>\n",
       "</tr>\n",
       "<tr>\n",
       "  <th>country_NL</th>                  <td>    0.1841</td> <td>    0.126</td> <td>    1.463</td> <td> 0.143</td> <td>   -0.063</td> <td>    0.431</td>\n",
       "</tr>\n",
       "<tr>\n",
       "  <th>country_NO</th>                  <td>   -0.0117</td> <td> 5.36e+06</td> <td>-2.18e-09</td> <td> 1.000</td> <td>-1.05e+07</td> <td> 1.05e+07</td>\n",
       "</tr>\n",
       "<tr>\n",
       "  <th>country_NZ</th>                  <td>    0.1097</td> <td> 2.77e+06</td> <td> 3.96e-08</td> <td> 1.000</td> <td>-5.43e+06</td> <td> 5.43e+06</td>\n",
       "</tr>\n",
       "<tr>\n",
       "  <th>country_SE</th>                  <td>    0.0944</td> <td> 5.28e+07</td> <td> 1.79e-09</td> <td> 1.000</td> <td>-1.03e+08</td> <td> 1.03e+08</td>\n",
       "</tr>\n",
       "<tr>\n",
       "  <th>country_SG</th>                  <td>    0.1848</td> <td> 5.17e+06</td> <td> 3.57e-08</td> <td> 1.000</td> <td>-1.01e+07</td> <td> 1.01e+07</td>\n",
       "</tr>\n",
       "<tr>\n",
       "  <th>country_US</th>                  <td>    0.2042</td> <td>      nan</td> <td>      nan</td> <td>   nan</td> <td>      nan</td> <td>      nan</td>\n",
       "</tr>\n",
       "</table>"
      ],
      "text/plain": [
       "<class 'statsmodels.iolib.summary.Summary'>\n",
       "\"\"\"\n",
       "                           Logit Regression Results                           \n",
       "==============================================================================\n",
       "Dep. Variable:          classes_state   No. Observations:               331150\n",
       "Model:                          Logit   Df Residuals:                   330960\n",
       "Method:                           MLE   Df Model:                          189\n",
       "Date:                Thu, 12 Dec 2019   Pseudo R-squ.:                  0.1051\n",
       "Time:                        15:49:26   Log-Likelihood:            -1.9983e+05\n",
       "converged:                       True   LL-Null:                   -2.2331e+05\n",
       "Covariance Type:            nonrobust   LLR p-value:                     0.000\n",
       "===============================================================================================\n",
       "                                  coef    std err          z      P>|z|      [0.025      0.975]\n",
       "-----------------------------------------------------------------------------------------------\n",
       "usd_goal_real               -1.406e-05   2.14e-07    -65.600      0.000   -1.45e-05   -1.36e-05\n",
       "number_of_days                 -0.0177      0.000    -56.056      0.000      -0.018      -0.017\n",
       "category_Academic              -0.4779        nan        nan        nan         nan         nan\n",
       "category_Accessories            0.4520        nan        nan        nan         nan         nan\n",
       "category_Action                -0.8932   4.81e+04  -1.86e-05      1.000   -9.44e+04    9.44e+04\n",
       "category_Animals               -0.1711   4.21e+06  -4.07e-08      1.000   -8.24e+06    8.24e+06\n",
       "category_Animation             -0.1729        nan        nan        nan         nan         nan\n",
       "category_Anthologies            1.0477        nan        nan        nan         nan         nan\n",
       "category_Apparel               -0.3202        nan        nan        nan         nan         nan\n",
       "category_Apps                  -2.3805      0.104    -22.966      0.000      -2.584      -2.177\n",
       "category_Architecture          -0.3028        nan        nan        nan         nan         nan\n",
       "category_Art                    0.1120        nan        nan        nan         nan         nan\n",
       "category_Art Books              0.7973        nan        nan        nan         nan         nan\n",
       "category_Audio                 -1.6482      0.180     -9.181      0.000      -2.000      -1.296\n",
       "category_Bacon                 -0.8367        nan        nan        nan         nan         nan\n",
       "category_Blues                  0.5175        nan        nan        nan         nan         nan\n",
       "category_Calendars              0.2348        nan        nan        nan         nan         nan\n",
       "category_Camera Equipment       0.4730      0.142      3.321      0.001       0.194       0.752\n",
       "category_Candles               -1.5790        nan        nan        nan         nan         nan\n",
       "category_Ceramics               0.2107        nan        nan        nan         nan         nan\n",
       "category_Children's Books       0.0542        nan        nan        nan         nan         nan\n",
       "category_Childrenswear         -0.3316        nan        nan        nan         nan         nan\n",
       "category_Chiptune               2.0704        nan        nan        nan         nan         nan\n",
       "category_Civic Design           0.1634        nan        nan        nan         nan         nan\n",
       "category_Classical Music        1.2459        nan        nan        nan         nan         nan\n",
       "category_Comedy                 0.1929        nan        nan        nan         nan         nan\n",
       "category_Comic Books            0.2622        nan        nan        nan         nan         nan\n",
       "category_Comics                -0.0846        nan        nan        nan         nan         nan\n",
       "category_Community Gardens     -0.5809   1.01e+05  -5.78e-06      1.000   -1.97e+05    1.97e+05\n",
       "category_Conceptual Art        -0.1694        nan        nan        nan         nan         nan\n",
       "category_Cookbooks             -0.4106        nan        nan        nan         nan         nan\n",
       "category_Country & Folk         1.1700        nan        nan        nan         nan         nan\n",
       "category_Couture               -0.5186        nan        nan        nan         nan         nan\n",
       "category_Crafts                -0.7272        nan        nan        nan         nan         nan\n",
       "category_Crochet               -1.0124        nan        nan        nan         nan         nan\n",
       "category_DIY                   -1.2568        nan        nan        nan         nan         nan\n",
       "category_DIY Electronics        0.1295      0.115      1.129      0.259      -0.095       0.354\n",
       "category_Dance                  1.0894        nan        nan        nan         nan         nan\n",
       "category_Design                -0.0056        nan        nan        nan         nan         nan\n",
       "category_Digital Art           -0.5075        nan        nan        nan         nan         nan\n",
       "category_Documentary            0.2531        nan        nan        nan         nan         nan\n",
       "category_Drama                  0.2605        nan        nan        nan         nan         nan\n",
       "category_Drinks                -0.3052   2.89e+05  -1.06e-06      1.000   -5.67e+05    5.67e+05\n",
       "category_Electronic Music      -0.0467        nan        nan        nan         nan         nan\n",
       "category_Embroidery            -1.2230        nan        nan        nan         nan         nan\n",
       "category_Events                -0.9170   1.05e+05  -8.72e-06      1.000   -2.06e+05    2.06e+05\n",
       "category_Experimental          -0.2125        nan        nan        nan         nan         nan\n",
       "category_Fabrication Tools     -0.4675      0.178     -2.621      0.009      -0.817      -0.118\n",
       "category_Faith                  0.3025        nan        nan        nan         nan         nan\n",
       "category_Family                -0.6457    1.5e+05   -4.3e-06      1.000   -2.94e+05    2.94e+05\n",
       "category_Fantasy                0.0855        nan        nan        nan         nan         nan\n",
       "category_Farmer's Markets      -0.9657        nan        nan        nan         nan         nan\n",
       "category_Farms                 -0.5043   1.62e+05  -3.11e-06      1.000   -3.17e+05    3.17e+05\n",
       "category_Fashion               -0.0172        nan        nan        nan         nan         nan\n",
       "category_Festivals              0.1949        nan        nan        nan         nan         nan\n",
       "category_Fiction               -0.4456        nan        nan        nan         nan         nan\n",
       "category_Film & Video          -0.0077        nan        nan        nan         nan         nan\n",
       "category_Fine Art               0.4014        nan        nan        nan         nan         nan\n",
       "category_Flight                -1.0217      0.161     -6.342      0.000      -1.337      -0.706\n",
       "category_Food                  -0.2257   2.12e+05  -1.06e-06      1.000   -4.15e+05    4.15e+05\n",
       "category_Food Trucks           -1.2146   3.59e+04  -3.38e-05      1.000   -7.04e+04    7.04e+04\n",
       "category_Footwear               0.6097        nan        nan        nan         nan         nan\n",
       "category_Gadgets               -0.2915      0.099     -2.937      0.003      -0.486      -0.097\n",
       "category_Games                 -0.1685        nan        nan        nan         nan         nan\n",
       "category_Gaming Hardware        0.1144        nan        nan        nan         nan         nan\n",
       "category_Glass                 -0.5581   1.52e+05  -3.66e-06      1.000   -2.99e+05    2.99e+05\n",
       "category_Graphic Design        -0.1474    1.5e+06  -9.83e-08      1.000   -2.94e+06    2.94e+06\n",
       "category_Graphic Novels         0.1516        nan        nan        nan         nan         nan\n",
       "category_Hardware              -0.0720      0.097     -0.745      0.456      -0.262       0.117\n",
       "category_Hip-Hop               -1.0746   1.43e+05  -7.52e-06      1.000    -2.8e+05     2.8e+05\n",
       "category_Horror                -0.0775        nan        nan        nan         nan         nan\n",
       "category_Illustration           0.4665        nan        nan        nan         nan         nan\n",
       "category_Immersive             -0.1331        nan        nan        nan         nan         nan\n",
       "category_Indie Rock             1.2210        nan        nan        nan         nan         nan\n",
       "category_Installations          0.5389        nan        nan        nan         nan         nan\n",
       "category_Interactive Design    -0.8130   2.23e+06  -3.64e-07      1.000   -4.37e+06    4.37e+06\n",
       "category_Jazz                   1.0682        nan        nan        nan         nan         nan\n",
       "category_Jewelry               -0.0832        nan        nan        nan         nan         nan\n",
       "category_Journalism            -1.5772      0.149    -10.615      0.000      -1.868      -1.286\n",
       "category_Kids                   0.4802        nan        nan        nan         nan         nan\n",
       "category_Knitting               0.3104      8e+04   3.88e-06      1.000   -1.57e+05    1.57e+05\n",
       "category_Latin                 -0.1960        nan        nan        nan         nan         nan\n",
       "category_Letterpress            1.0760        nan        nan        nan         nan         nan\n",
       "category_Literary Journals      0.6513        nan        nan        nan         nan         nan\n",
       "category_Literary Spaces        1.5614        nan        nan        nan         nan         nan\n",
       "category_Live Games            -0.5780        nan        nan        nan         nan         nan\n",
       "category_Makerspaces           -0.3524      0.174     -2.031      0.042      -0.693      -0.012\n",
       "category_Metal                  0.2323        nan        nan        nan         nan         nan\n",
       "category_Mixed Media           -0.2182        nan        nan        nan         nan         nan\n",
       "category_Mobile Games          -1.4381        nan        nan        nan         nan         nan\n",
       "category_Movie Theaters        -0.0003        nan        nan        nan         nan         nan\n",
       "category_Music                  0.5647        nan        nan        nan         nan         nan\n",
       "category_Music Videos          -0.1235   2.67e+05  -4.62e-07      1.000   -5.24e+05    5.24e+05\n",
       "category_Musical               -0.1778        nan        nan        nan         nan         nan\n",
       "category_Narrative Film         0.3947        nan        nan        nan         nan         nan\n",
       "category_Nature                -0.6046   5.33e+06  -1.14e-07      1.000   -1.04e+07    1.04e+07\n",
       "category_Nonfiction            -0.2627        nan        nan        nan         nan         nan\n",
       "category_Painting              -0.2218        nan        nan        nan         nan         nan\n",
       "category_People                -0.3254   4.14e+06  -7.85e-08      1.000   -8.12e+06    8.12e+06\n",
       "category_Performance Art        0.1917        nan        nan        nan         nan         nan\n",
       "category_Performances           0.8847        nan        nan        nan         nan         nan\n",
       "category_Periodicals            0.3980        nan        nan        nan         nan         nan\n",
       "category_Pet Fashion            0.1252        nan        nan        nan         nan         nan\n",
       "category_Photo                 -2.2565      0.242     -9.335      0.000      -2.730      -1.783\n",
       "category_Photobooks             0.6719   1.49e+06   4.49e-07      1.000   -2.93e+06    2.93e+06\n",
       "category_Photography            0.2170   3.15e+06   6.88e-08      1.000   -6.18e+06    6.18e+06\n",
       "category_Places                -0.6828   3.86e+06  -1.77e-07      1.000   -7.56e+06    7.56e+06\n",
       "category_Playing Cards          0.4839        nan        nan        nan         nan         nan\n",
       "category_Plays                 -0.0177        nan        nan        nan         nan         nan\n",
       "category_Poetry                 0.0451        nan        nan        nan         nan         nan\n",
       "category_Pop                    0.5620        nan        nan        nan         nan         nan\n",
       "category_Pottery                0.3537        nan        nan        nan         nan         nan\n",
       "category_Print                 -1.8265      0.166    -11.005      0.000      -2.152      -1.501\n",
       "category_Printing              -0.8410   2.17e+05  -3.87e-06      1.000   -4.26e+05    4.26e+05\n",
       "category_Product Design         0.1885        nan        nan        nan         nan         nan\n",
       "category_Public Art             0.5129        nan        nan        nan         nan         nan\n",
       "category_Publishing            -0.0994        nan        nan        nan         nan         nan\n",
       "category_Punk                   0.6610        nan        nan        nan         nan         nan\n",
       "category_Puzzles                0.3200        nan        nan        nan         nan         nan\n",
       "category_Quilts                -0.8445        nan        nan        nan         nan         nan\n",
       "category_R&B                   -0.5674        nan        nan        nan         nan         nan\n",
       "category_Radio & Podcasts       0.3993        nan        nan        nan         nan         nan\n",
       "category_Ready-to-wear         -0.4546        nan        nan        nan         nan         nan\n",
       "category_Residencies            1.3912        nan        nan        nan         nan         nan\n",
       "category_Restaurants           -0.6642        nan        nan        nan         nan         nan\n",
       "category_Robots                 0.1203      0.130      0.922      0.356      -0.135       0.376\n",
       "category_Rock                   0.7288        nan        nan        nan         nan         nan\n",
       "category_Romance               -0.0758        nan        nan        nan         nan         nan\n",
       "category_Science Fiction        0.3235        nan        nan        nan         nan         nan\n",
       "category_Sculpture              0.0165        nan        nan        nan         nan         nan\n",
       "category_Shorts                 0.7067        nan        nan        nan         nan         nan\n",
       "category_Small Batch           -0.2177   6.95e+04  -3.13e-06      1.000   -1.36e+05    1.36e+05\n",
       "category_Software              -1.6069      0.105    -15.231      0.000      -1.814      -1.400\n",
       "category_Sound                  0.2924      0.126      2.319      0.020       0.045       0.539\n",
       "category_Space Exploration     -0.0076      0.157     -0.048      0.961      -0.316       0.301\n",
       "category_Spaces                -0.0433        nan        nan        nan         nan         nan\n",
       "category_Stationery            -0.2035        nan        nan        nan         nan         nan\n",
       "category_Tabletop Games         1.2948        nan        nan        nan         nan         nan\n",
       "category_Taxidermy              0.1832   1.92e+05   9.54e-07      1.000   -3.76e+05    3.76e+05\n",
       "category_Technology            -0.9235      0.094     -9.793      0.000      -1.108      -0.739\n",
       "category_Television            -0.8379        nan        nan        nan         nan         nan\n",
       "category_Textiles              -0.5130        nan        nan        nan         nan         nan\n",
       "category_Theater                0.1849        nan        nan        nan         nan         nan\n",
       "category_Thrillers             -0.2342   8.18e+04  -2.86e-06      1.000    -1.6e+05     1.6e+05\n",
       "category_Translations          -0.2616        nan        nan        nan         nan         nan\n",
       "category_Typography             0.9761   2.36e+06   4.13e-07      1.000   -4.63e+06    4.63e+06\n",
       "category_Vegan                 -0.0310        nan        nan        nan         nan         nan\n",
       "category_Video                 -2.5848      0.205    -12.601      0.000      -2.987      -2.183\n",
       "category_Video Art             -0.5329        nan        nan        nan         nan         nan\n",
       "category_Video Games           -0.2685        nan        nan        nan         nan         nan\n",
       "category_Wearables              0.0185      0.112      0.165      0.869      -0.201       0.238\n",
       "category_Weaving               -0.3896        nan        nan        nan         nan         nan\n",
       "category_Web                   -2.3198      0.110    -21.018      0.000      -2.536      -2.103\n",
       "category_Webcomics              0.1070        nan        nan        nan         nan         nan\n",
       "category_Webseries             -0.2581        nan        nan        nan         nan         nan\n",
       "category_Woodworking           -0.7419   1.43e+05  -5.19e-06      1.000    -2.8e+05     2.8e+05\n",
       "category_Workshops             -0.3478        nan        nan        nan         nan         nan\n",
       "category_World Music            0.4632        nan        nan        nan         nan         nan\n",
       "category_Young Adult           -0.5952        nan        nan        nan         nan         nan\n",
       "category_Zines                  0.5594        nan        nan        nan         nan         nan\n",
       "main_category_Comics            0.6037   7.15e+05   8.44e-07      1.000    -1.4e+06     1.4e+06\n",
       "main_category_Crafts            0.0243   6.37e+05   3.81e-08      1.000   -1.25e+06    1.25e+06\n",
       "main_category_Dance             0.0156   7.03e+05   2.22e-08      1.000   -1.38e+06    1.38e+06\n",
       "main_category_Design            0.0591   2.43e+06   2.43e-08      1.000   -4.76e+06    4.76e+06\n",
       "main_category_Fashion          -0.5386        nan        nan        nan         nan         nan\n",
       "main_category_Film & Video     -0.0838   7.79e+05  -1.08e-07      1.000   -1.53e+06    1.53e+06\n",
       "main_category_Food             -0.1250   5.76e+05  -2.17e-07      1.000   -1.13e+06    1.13e+06\n",
       "main_category_Games            -0.2399        nan        nan        nan         nan         nan\n",
       "main_category_Journalism        1.1516        nan        nan        nan         nan         nan\n",
       "main_category_Music            -0.1700   6.73e+05  -2.53e-07      1.000   -1.32e+06    1.32e+06\n",
       "main_category_Photography      -0.4936        nan        nan        nan         nan         nan\n",
       "main_category_Publishing       -0.2423   7.77e+05  -3.12e-07      1.000   -1.52e+06    1.52e+06\n",
       "main_category_Technology        0.4361        nan        nan        nan         nan         nan\n",
       "main_category_Theater           0.7985   8.99e+05   8.88e-07      1.000   -1.76e+06    1.76e+06\n",
       "currency_CAD                    0.0746   1.17e+07   6.38e-09      1.000   -2.29e+07    2.29e+07\n",
       "currency_CHF                    0.1133        nan        nan        nan         nan         nan\n",
       "currency_DKK                    0.2147   5.34e+06   4.02e-08      1.000   -1.05e+07    1.05e+07\n",
       "currency_EUR                   -0.2669        nan        nan        nan         nan         nan\n",
       "currency_GBP                    0.1740        nan        nan        nan         nan         nan\n",
       "currency_HKD                    0.2806   6.94e+06   4.04e-08      1.000   -1.36e+07    1.36e+07\n",
       "currency_JPY                   -0.0548        nan        nan        nan         nan         nan\n",
       "currency_MXN                   -0.1133        nan        nan        nan         nan         nan\n",
       "currency_NOK                   -0.0117   5.55e+06   -2.1e-09      1.000   -1.09e+07    1.09e+07\n",
       "currency_NZD                    0.1097   8.97e+05   1.22e-07      1.000   -1.76e+06    1.76e+06\n",
       "currency_SEK                    0.0944   5.28e+07   1.79e-09      1.000   -1.03e+08    1.03e+08\n",
       "currency_SGD                    0.1848   5.17e+06   3.57e-08      1.000   -1.01e+07    1.01e+07\n",
       "currency_USD                    0.2042        nan        nan        nan         nan         nan\n",
       "country_AU                      0.0784        nan        nan        nan         nan         nan\n",
       "country_BE                      0.3901      0.155      2.518      0.012       0.086       0.694\n",
       "country_CA                      0.0746   1.18e+07   6.33e-09      1.000   -2.31e+07    2.31e+07\n",
       "country_CH                      0.1133        nan        nan        nan         nan         nan\n",
       "country_DE                      0.2397      0.123      1.955      0.051      -0.001       0.480\n",
       "country_DK                      0.2147   4.98e+06   4.31e-08      1.000   -9.76e+06    9.76e+06\n",
       "country_ES                      0.1361      0.129      1.058      0.290      -0.116       0.388\n",
       "country_FR                      0.7287      0.124      5.874      0.000       0.486       0.972\n",
       "country_GB                      0.1740        nan        nan        nan         nan         nan\n",
       "country_HK                      0.2806    7.3e+06   3.84e-08      1.000   -1.43e+07    1.43e+07\n",
       "country_IE                      0.2607      0.146      1.788      0.074      -0.025       0.546\n",
       "country_IT                     -0.2360      0.128     -1.837      0.066      -0.488       0.016\n",
       "country_JP                     -0.0548        nan        nan        nan         nan         nan\n",
       "country_LU                      0.5348      0.324      1.650      0.099      -0.101       1.170\n",
       "country_MX                     -0.1133        nan        nan        nan         nan         nan\n",
       "country_NL                      0.1841      0.126      1.463      0.143      -0.063       0.431\n",
       "country_NO                     -0.0117   5.36e+06  -2.18e-09      1.000   -1.05e+07    1.05e+07\n",
       "country_NZ                      0.1097   2.77e+06   3.96e-08      1.000   -5.43e+06    5.43e+06\n",
       "country_SE                      0.0944   5.28e+07   1.79e-09      1.000   -1.03e+08    1.03e+08\n",
       "country_SG                      0.1848   5.17e+06   3.57e-08      1.000   -1.01e+07    1.01e+07\n",
       "country_US                      0.2042        nan        nan        nan         nan         nan\n",
       "===============================================================================================\n",
       "\"\"\""
      ]
     },
     "execution_count": 18,
     "metadata": {},
     "output_type": "execute_result"
    }
   ],
   "source": [
    "result.summary()"
   ]
  },
  {
   "cell_type": "markdown",
   "metadata": {},
   "source": [
    "The r2 value of the model is 0.6 but based on the summary table above we definitely have a lot of categorical dummy variables that are not significant based on alpha value of 0.05 in prediction of the classes."
   ]
  },
  {
   "cell_type": "markdown",
   "metadata": {},
   "source": [
    "The next step is to use Sci-kit learn but this time we use train test split and standardize the varaibles using MaxMin scaler"
   ]
  },
  {
   "cell_type": "code",
   "execution_count": 19,
   "metadata": {},
   "outputs": [],
   "source": [
    "def preprocession(X,y):\n",
    "    X_train, X_test, y_train, y_test = train_test_split(X, y, random_state=42, test_size = 0.3)\n",
    "    stdscaler = StandardScaler()\n",
    "    stdscaler.fit(X_train)\n",
    "    X_train_scaled = pd.DataFrame(data = stdscaler.transform(X_train), columns = X_train.columns)\n",
    "    X_test_scaled = pd.DataFrame(data = stdscaler.transform(X_test), columns = X_test.columns)\n",
    "    return X_train_scaled, X_test_scaled, y_train, y_test\n"
   ]
  },
  {
   "cell_type": "code",
   "execution_count": 20,
   "metadata": {},
   "outputs": [],
   "source": [
    "X_train_scaled, X_test_scaled, y_train, y_test = preprocession(predictors,target);"
   ]
  },
  {
   "cell_type": "markdown",
   "metadata": {},
   "source": [
    "Using the saga solver because I have a large dataset as liblinear is for smaller datasets"
   ]
  },
  {
   "cell_type": "code",
   "execution_count": 21,
   "metadata": {},
   "outputs": [
    {
     "name": "stderr",
     "output_type": "stream",
     "text": [
      "/Users/yusufolodo/anaconda3/lib/python3.7/site-packages/sklearn/linear_model/sag.py:326: ConvergenceWarning: The max_iter was reached which means the coef_ did not converge\n",
      "  \"the coef_ did not converge\", ConvergenceWarning)\n"
     ]
    },
    {
     "data": {
      "text/plain": [
       "LogisticRegression(C=1000000000000.0, class_weight=None, dual=False,\n",
       "          fit_intercept=False, intercept_scaling=1, max_iter=100,\n",
       "          multi_class='ovr', n_jobs=1, penalty='l2', random_state=None,\n",
       "          solver='saga', tol=0.0001, verbose=0, warm_start=False)"
      ]
     },
     "execution_count": 21,
     "metadata": {},
     "output_type": "execute_result"
    }
   ],
   "source": [
    "logreg = LogisticRegression(fit_intercept=False, C=1e12, solver='saga')\n",
    "model_log = logreg.fit(X_train_scaled, y_train)\n",
    "model_log"
   ]
  },
  {
   "cell_type": "code",
   "execution_count": 22,
   "metadata": {},
   "outputs": [],
   "source": [
    "y_hat_test = model_log.predict(X_test_scaled)\n",
    "y_hat_train = model_log.predict(X_train_scaled)\n"
   ]
  },
  {
   "cell_type": "markdown",
   "metadata": {},
   "source": [
    "Using the logistic regression to predict classes and checking for the probability of the model predicting the correct failed and successful classes"
   ]
  },
  {
   "cell_type": "code",
   "execution_count": 23,
   "metadata": {},
   "outputs": [
    {
     "name": "stdout",
     "output_type": "stream",
     "text": [
      "0    147321\n",
      "1     84484\n",
      "Name: classes_state, dtype: int64\n",
      "0    0.635538\n",
      "1    0.364462\n",
      "Name: classes_state, dtype: float64\n"
     ]
    }
   ],
   "source": [
    "import numpy as np\n",
    "# We could subtract the two columns. If values or equal, difference will be zero. Then count number of zeros \n",
    "residuals = np.abs(y_train - y_hat_train)\n",
    "print(pd.Series(residuals).value_counts())\n",
    "print(pd.Series(residuals).value_counts(normalize=True))"
   ]
  },
  {
   "cell_type": "markdown",
   "metadata": {},
   "source": [
    "The model is performing averagely when using a linear regression, as the classifier is 63% correct on the training data"
   ]
  },
  {
   "cell_type": "code",
   "execution_count": 24,
   "metadata": {},
   "outputs": [
    {
     "name": "stdout",
     "output_type": "stream",
     "text": [
      "0    63148\n",
      "1    36197\n",
      "Name: classes_state, dtype: int64\n",
      "0    0.635643\n",
      "1    0.364357\n",
      "Name: classes_state, dtype: float64\n"
     ]
    }
   ],
   "source": [
    "residuals = np.abs(y_test - y_hat_test)\n",
    "print(pd.Series(residuals).value_counts())\n",
    "print(pd.Series(residuals).value_counts(normalize=True))"
   ]
  },
  {
   "cell_type": "markdown",
   "metadata": {},
   "source": [
    "When predicting the test data, our model is worse as it can only predict 63% of the data accurately"
   ]
  },
  {
   "cell_type": "code",
   "execution_count": 25,
   "metadata": {},
   "outputs": [
    {
     "name": "stdout",
     "output_type": "stream",
     "text": [
      "Accuracy_score: 0.635643464693744\n",
      "\n",
      "\n",
      "             precision    recall  f1-score   support\n",
      "\n",
      "          0       0.73      0.62      0.67     59393\n",
      "          1       0.54      0.66      0.59     39952\n",
      "\n",
      "avg / total       0.65      0.64      0.64     99345\n",
      "\n"
     ]
    },
    {
     "data": {
      "text/plain": [
       "(None, None, None)"
      ]
     },
     "execution_count": 25,
     "metadata": {},
     "output_type": "execute_result"
    }
   ],
   "source": [
    " print('Accuracy_score:',accuracy_score(y_test, y_hat_test)), print('\\n') ,print(classification_report(y_test, y_hat_test))"
   ]
  },
  {
   "cell_type": "markdown",
   "metadata": {},
   "source": [
    "And the accuracy score 63.5%"
   ]
  },
  {
   "cell_type": "code",
   "execution_count": 26,
   "metadata": {},
   "outputs": [],
   "source": [
    "y_proba_test = model_log.predict_proba(X_test_scaled)"
   ]
  },
  {
   "cell_type": "code",
   "execution_count": 27,
   "metadata": {},
   "outputs": [
    {
     "data": {
      "text/plain": [
       "array([[0.74817511, 0.25182489],\n",
       "       [0.73125253, 0.26874747],\n",
       "       [0.43498096, 0.56501904],\n",
       "       ...,\n",
       "       [0.62099834, 0.37900166],\n",
       "       [0.31837014, 0.68162986],\n",
       "       [0.36354304, 0.63645696]])"
      ]
     },
     "execution_count": 27,
     "metadata": {},
     "output_type": "execute_result"
    }
   ],
   "source": [
    "y_proba_test"
   ]
  },
  {
   "cell_type": "code",
   "execution_count": 28,
   "metadata": {},
   "outputs": [
    {
     "name": "stdout",
     "output_type": "stream",
     "text": [
      "Confusion Matrix:\n",
      " [[36736 22657]\n",
      " [13540 26412]]\n"
     ]
    }
   ],
   "source": [
    "cnf_matrix = confusion_matrix(y_test, y_hat_test)\n",
    "print('Confusion Matrix:\\n', cnf_matrix)"
   ]
  },
  {
   "cell_type": "markdown",
   "metadata": {},
   "source": [
    "The confusion matrix is a better way to evaluate the model since accuracy doesn't perform a good job on skewed datasets. The row represents the actual class and the columns represent the predicted class.\n",
    "Judging from this data set we have 36736 True Negatives, 22576 False positives, 13540 false negatives, 26412 True positives"
   ]
  },
  {
   "cell_type": "code",
   "execution_count": 29,
   "metadata": {},
   "outputs": [
    {
     "data": {
      "text/plain": [
       "0.5933880769706025"
      ]
     },
     "execution_count": 29,
     "metadata": {},
     "output_type": "execute_result"
    }
   ],
   "source": [
    "from sklearn.metrics import f1_score\n",
    "f1_score(y_test, y_hat_test)"
   ]
  },
  {
   "cell_type": "markdown",
   "metadata": {},
   "source": [
    "To view all the metric scores at a glance\n"
   ]
  },
  {
   "cell_type": "code",
   "execution_count": 30,
   "metadata": {},
   "outputs": [
    {
     "name": "stdout",
     "output_type": "stream",
     "text": [
      "Training Precision:  0.5398488506899347\n",
      "Testing Precision:  0.538262446758646\n",
      "\n",
      "\n",
      "\n",
      "Training Recall:  0.6614758563234965\n",
      "Testing Recall:  0.6610933119743693\n",
      "\n",
      "\n",
      "\n",
      "Training Accuracy:  0.6355384914044132\n",
      "Testing Accuracy:  0.635643464693744\n",
      "\n",
      "\n",
      "\n",
      "Training F1-Score:  0.5945053468235836\n",
      "Testing F1-Score:  0.5933880769706025\n"
     ]
    }
   ],
   "source": [
    "from sklearn.metrics import precision_score, recall_score, accuracy_score, f1_score\n",
    "\n",
    "print('Training Precision: ', precision_score(y_train, y_hat_train))\n",
    "print('Testing Precision: ', precision_score(y_test, y_hat_test))\n",
    "print('\\n\\n')\n",
    "\n",
    "print('Training Recall: ', recall_score(y_train, y_hat_train))\n",
    "print('Testing Recall: ', recall_score(y_test, y_hat_test))\n",
    "print('\\n\\n')\n",
    "\n",
    "print('Training Accuracy: ', accuracy_score(y_train, y_hat_train))\n",
    "print('Testing Accuracy: ', accuracy_score(y_test, y_hat_test))\n",
    "print('\\n\\n')\n",
    "\n",
    "print('Training F1-Score: ', f1_score(y_train, y_hat_train))\n",
    "print('Testing F1-Score: ', f1_score(y_test, y_hat_test))"
   ]
  },
  {
   "cell_type": "code",
   "execution_count": 71,
   "metadata": {},
   "outputs": [],
   "source": [
    "# calculating the probability scores\n",
    "\n",
    "\n",
    "fpr, tpr, thresholds = roc_curve(y_test, y_proba_test[:,1])"
   ]
  },
  {
   "cell_type": "code",
   "execution_count": 72,
   "metadata": {},
   "outputs": [
    {
     "data": {
      "text/plain": [
       "0.5092778174571204"
      ]
     },
     "execution_count": 72,
     "metadata": {},
     "output_type": "execute_result"
    }
   ],
   "source": [
    "optimal_idx = np.argmax(tpr - fpr)\n",
    "optimal_threshold = thresholds[optimal_idx]\n",
    "optimal_threshold"
   ]
  },
  {
   "cell_type": "code",
   "execution_count": 88,
   "metadata": {},
   "outputs": [],
   "source": [
    "def Find_Optimal_Cutoff(target, predicted):\n",
    "    \"\"\" Find the optimal probability cutoff point for a classification model related to event rate\n",
    "    Parameters\n",
    "    ----------\n",
    "    target : Matrix with dependent or target data, where rows are observations\n",
    "\n",
    "    predicted : Matrix with predicted data, where rows are observations\n",
    "\n",
    "    Returns\n",
    "    -------     \n",
    "    list type, with optimal cutoff value\n",
    "\n",
    "    \"\"\"\n",
    "    fpr, tpr, threshold = roc_curve(target, predicted)\n",
    "    i = np.arange(len(tpr)) \n",
    "    roc = pd.DataFrame({'tf' : pd.Series(tpr-(1-fpr), index=i), 'threshold' : pd.Series(threshold, index=i)})\n",
    "    roc_t = roc.ix[(roc.tf-0).abs().argsort()[:1]]\n",
    "\n",
    "    return list(round(roc_t['threshold'],2)) \n",
    "    \n",
    "    fig, ax = plt.subplots()\n",
    "    plt.plot(roc['tpr'])\n",
    "    plt.plot(roc['1-fpr'], color = 'red')\n",
    "    plt.xlabel('1-False Positive Rate')\n",
    "    plt.ylabel('True Positive Rate')\n",
    "    plt.title('Receiver operating characteristic')\n",
    "    ax.set_xticklabels([])"
   ]
  },
  {
   "cell_type": "code",
   "execution_count": 89,
   "metadata": {},
   "outputs": [
    {
     "name": "stderr",
     "output_type": "stream",
     "text": [
      "/Users/yusufolodo/anaconda3/lib/python3.7/site-packages/ipykernel_launcher.py:17: DeprecationWarning: \n",
      ".ix is deprecated. Please use\n",
      ".loc for label based indexing or\n",
      ".iloc for positional indexing\n",
      "\n",
      "See the documentation here:\n",
      "http://pandas.pydata.org/pandas-docs/stable/indexing.html#ix-indexer-is-deprecated\n"
     ]
    },
    {
     "data": {
      "text/plain": [
       "[0.51]"
      ]
     },
     "execution_count": 89,
     "metadata": {},
     "output_type": "execute_result"
    }
   ],
   "source": [
    "Find_Optimal_Cutoff(y_test, y_proba_test[:,1])"
   ]
  },
  {
   "cell_type": "code",
   "execution_count": 90,
   "metadata": {},
   "outputs": [
    {
     "name": "stdout",
     "output_type": "stream",
     "text": [
      "AUC: 0.6973242986291681\n"
     ]
    }
   ],
   "source": [
    "print('AUC: {}'.format(auc(fpr, tpr)))"
   ]
  },
  {
   "cell_type": "markdown",
   "metadata": {},
   "source": [
    "The AUC score is 0.69"
   ]
  },
  {
   "cell_type": "code",
   "execution_count": 93,
   "metadata": {},
   "outputs": [
    {
     "data": {
      "text/plain": [
       "Text(0, 0.5, 'TPR')"
      ]
     },
     "execution_count": 93,
     "metadata": {},
     "output_type": "execute_result"
    },
    {
     "data": {
      "image/png": "[encoded data removed]",
      "text/plain": [
       "<Figure size 720x432 with 1 Axes>"
      ]
     },
     "metadata": {
      "needs_background": "light"
     },
     "output_type": "display_data"
    }
   ],
   "source": [
    "plt.subplots(figsize=(10, 6))\n",
    "plt.plot(fpr, tpr, 'o-', label=\"ROC curve\")\n",
    "plt.plot(np.linspace(0,1,10), np.linspace(0,1,10), label=\"diagonal\")\n",
    "for x, y, txt in zip(fpr[::5], tpr[::5], thresholds[::5]):\n",
    "    plt.annotate(np.round(txt,2), (x, y-0.04))\n",
    "rnd_idx = 27\n",
    "plt.annotate('this point refers to the tpr and the fpr\\n at a probability threshold of {}'.format(np.round(thresholds[rnd_idx], 2)), \n",
    "             xy=(fpr[rnd_idx], tpr[rnd_idx]), xytext=(fpr[rnd_idx]+0.2, tpr[rnd_idx]-0.25),\n",
    "             arrowprops=dict(facecolor='black', lw=2, arrowstyle='->'),)\n",
    "plt.legend(loc=\"upper left\")\n",
    "plt.xlabel(\"FPR\")\n",
    "plt.ylabel(\"TPR\")\n"
   ]
  },
  {
   "cell_type": "code",
   "execution_count": 97,
   "metadata": {},
   "outputs": [
    {
     "data": {
      "image/png": "[encoded data removed]",
      "text/plain": [
       "<Figure size 360x360 with 1 Axes>"
      ]
     },
     "metadata": {},
     "output_type": "display_data"
    }
   ],
   "source": [
    "from plot_metric.functions import BinaryClassification\n",
    "# Visualisation with plot_metric\n",
    "bc = BinaryClassification(y_test, y_proba_test[:,1], labels=[\"Class 1\", \"Class 2\"])\n",
    "# Figures\n",
    "plt.figure(figsize=(5,5))\n",
    "bc.plot_roc_curve()\n",
    "plt.show()\n",
    "\n",
    "\n",
    "\n",
    "\n",
    "\n"
   ]
  },
  {
   "cell_type": "code",
   "execution_count": 94,
   "metadata": {},
   "outputs": [
    {
     "name": "stdout",
     "output_type": "stream",
     "text": [
      "AUC: 0.6973242986291681\n"
     ]
    },
    {
     "data": {
      "image/png": "[encoded data removed]",
      "text/plain": [
       "<Figure size 720x576 with 1 Axes>"
      ]
     },
     "metadata": {},
     "output_type": "display_data"
    }
   ],
   "source": [
    "import matplotlib.pyplot as plt\n",
    "import seaborn as sns\n",
    "%matplotlib inline\n",
    "\n",
    "# Seaborn's beautiful styling\n",
    "sns.set_style('darkgrid', {'axes.facecolor': '0.9'})\n",
    "\n",
    "print('AUC: {}'.format(auc(fpr, tpr)))\n",
    "plt.figure(figsize=(10, 8))\n",
    "lw = 2\n",
    "plt.plot(fpr, tpr, color='darkorange',\n",
    "         lw=lw, label='ROC curve')\n",
    "plt.plot([0, 1], [0, 1], color='navy', lw=lw, linestyle='--')\n",
    "plt.xlim([0.0, 1.0])\n",
    "plt.ylim([0.0, 1.05])\n",
    "plt.yticks([i/20.0 for i in range(21)])\n",
    "plt.xticks([i/20.0 for i in range(21)])\n",
    "plt.xlabel('False Positive Rate')\n",
    "plt.ylabel('True Positive Rate')\n",
    "plt.title('Receiver operating characteristic (ROC) Curve')\n",
    "plt.legend(loc='lower right')\n",
    "plt.show()"
   ]
  },
  {
   "cell_type": "markdown",
   "metadata": {},
   "source": [
    "In final conclusion.. the best AUC score for the Logistic Regression model is 0.69"
   ]
  },
  {
   "cell_type": "markdown",
   "metadata": {},
   "source": [
    "### CLASS IMBALANCE LOGISTIC REGRESSION"
   ]
  },
  {
   "cell_type": "code",
   "execution_count": null,
   "metadata": {},
   "outputs": [],
   "source": [
    "print('Raw counts: \\n')\n",
    "print(kick['classes_state'].value_counts())\n",
    "print('-----------------------------------')\n",
    "print('Normalized counts: \\n')\n",
    "print(kick['classes_state'].value_counts(normalize=True))"
   ]
  },
  {
   "cell_type": "markdown",
   "metadata": {},
   "source": [
    "Approximately 60/40% split between target variable classes"
   ]
  },
  {
   "cell_type": "code",
   "execution_count": null,
   "metadata": {},
   "outputs": [],
   "source": [
    "weights = [None, 'balanced', {1:1.5, 0:1}, {1:2, 0:1}, {1:10, 0:1}, {1:100, 0:1}, {1:1000, 0:1}]\n",
    "names = ['None', 'Balanced', '1.5 to 1','2 to 1', '10 to 1', '100 to 1', '1000 to 1']\n",
    "colors = sns.color_palette('Set2')\n",
    "\n",
    "plt.figure(figsize=(10,8))\n",
    "\n",
    "for n, weight in enumerate(weights):\n",
    "    # Fit a model\n",
    "    logreg = LogisticRegression(fit_intercept=False, C=1e20, class_weight=weight, solver='lbfgs')\n",
    "    model_log = logreg.fit(X_train_scaled, y_train)\n",
    "    print(model_log)\n",
    "\n",
    "    # Predict\n",
    "    y_hat_train = logreg.predict(X_train_scaled)\n",
    "    y_hat_test = logreg.predict(X_test_scaled)\n",
    "\n",
    "    y_score = logreg.fit(X_train_scaled, y_train).decision_function(X_test_scaled)\n",
    "\n",
    "    fpr1, tpr1, thresholds1 = roc_curve(y_train, y_hat_train)\n",
    "    fpr, tpr, thresholds = roc_curve(y_test, y_score)\n",
    "    \n",
    "    print('AUC test for {}: {}'.format(names[n], auc(fpr, tpr)))\n",
    "    print('-------------------------------------------------------------------------------------')\n",
    "    print('AUC train for {}: {}'.format(names[n], auc(fpr1, tpr1)))\n",
    "    lw = 2\n",
    "    plt.plot(fpr, tpr, color=colors[n],\n",
    "             lw=lw, label='ROC curve {}'.format(names[n]))\n",
    "\n",
    "plt.plot([0, 1], [0, 1], color='navy', lw=lw, linestyle='--')\n",
    "plt.xlim([0.0, 1.0])\n",
    "plt.ylim([0.0, 1.05])\n",
    "\n",
    "plt.yticks([i/20.0 for i in range(21)])\n",
    "plt.xticks([i/20.0 for i in range(21)])\n",
    "plt.xlabel('False Positive Rate')\n",
    "plt.ylabel('True Positive Rate')\n",
    "plt.title('Receiver operating characteristic (ROC) Curve')\n",
    "plt.legend(loc='lower right')\n",
    "plt.show()"
   ]
  },
  {
   "cell_type": "markdown",
   "metadata": {},
   "source": [
    "As evidenced, class weight can have a significant impact! In this case, typically the heavier we weigh the positive case, the better our classifier appears to be performing until it is weighed more than 2 to 1, which is also generalisable and then perfomance drops again becasue our dataset is not that Imbalanced to begin with."
   ]
  },
  {
   "cell_type": "markdown",
   "metadata": {},
   "source": [
    "The optimal value for the AUC is 0.712"
   ]
  },
  {
   "cell_type": "markdown",
   "metadata": {},
   "source": [
    "Because of the scope of this project and the amount of data points that we have K-Nearest neighbors is not the best classification algorithm to use in this instance to get a good model"
   ]
  },
  {
   "cell_type": "markdown",
   "metadata": {},
   "source": [
    "### DECISION TREES MODELLING"
   ]
  },
  {
   "cell_type": "markdown",
   "metadata": {},
   "source": [
    "### BASELINE MODEL"
   ]
  },
  {
   "cell_type": "code",
   "execution_count": null,
   "metadata": {},
   "outputs": [],
   "source": [
    "X_train_clf, X_test_clf, y_train_clf, y_test_clf = train_test_split(predictors, target, test_size = 0.3, random_state = 42)"
   ]
  },
  {
   "cell_type": "code",
   "execution_count": null,
   "metadata": {},
   "outputs": [],
   "source": [
    "#using entropy as the initial criterion\n",
    "clf = DecisionTreeClassifier(criterion='entropy')\n",
    "\n",
    "clf.fit(X_train_clf, y_train_clf)"
   ]
  },
  {
   "cell_type": "code",
   "execution_count": null,
   "metadata": {},
   "outputs": [],
   "source": [
    "y_train_pred = clf.predict(X_train_clf)\n",
    "y_train_pred"
   ]
  },
  {
   "cell_type": "code",
   "execution_count": null,
   "metadata": {},
   "outputs": [],
   "source": [
    "y_preds_clf = clf.predict(X_test_clf)\n",
    "y_preds_clf"
   ]
  },
  {
   "cell_type": "markdown",
   "metadata": {},
   "source": [
    "using different evaluation metrics to assess the performance of the baseline model"
   ]
  },
  {
   "cell_type": "code",
   "execution_count": null,
   "metadata": {},
   "outputs": [],
   "source": [
    "acc_1 = accuracy_score(y_train_clf, y_train_pred ) *100\n",
    "acc = accuracy_score(y_test_clf,y_preds_clf) * 100\n",
    "print ('Accuracy for train_score is :{0}'.format(acc_1))\n",
    "print('Accuracy for test_score is :{0}'.format(acc))\n",
    "\n",
    "# Check the AUC for predictions\n",
    "false_positive_rate1, true_positive_rate1, thresholds1 = roc_curve(y_train_clf, y_train_pred)\n",
    "false_positive_rate2, true_positive_rate2, thresholds2 = roc_curve(y_test_clf, y_preds_clf)\n",
    "roc_auc1 = auc(false_positive_rate1, true_positive_rate1)\n",
    "\n",
    "print('\\nAUC train is :{0}'.format(round(roc_auc1, 2)))\n",
    "\n",
    "\n",
    "roc_auc2 = auc(false_positive_rate2, true_positive_rate2)\n",
    "\n",
    "print('\\nAUC test is :{0}'.format(round(roc_auc2, 2)))\n",
    "\n",
    "# Create and print a confusion matrix \n",
    "print('\\nConfusion Matrix')\n",
    "print('----------------')\n",
    "pd.crosstab(y_test_clf, y_preds_clf, rownames=['True'], colnames=['Predicted'], margins=True)"
   ]
  },
  {
   "cell_type": "markdown",
   "metadata": {},
   "source": [
    "AUC score is 0.61 and the accuracy for the baseline model is 63%... the confusion matrix also details that the model was able to predict 44215 True Negatives, 15178 false positives, 21003 False negatives and 18949 True Positives."
   ]
  },
  {
   "cell_type": "markdown",
   "metadata": {},
   "source": [
    "Next up- we are going to regrow the tree using the criterion= Gini and random_state = 20..and access the performance"
   ]
  },
  {
   "cell_type": "code",
   "execution_count": null,
   "metadata": {},
   "outputs": [],
   "source": [
    "clf_2 = DecisionTreeClassifier(criterion='gini', random_state = 20)\n",
    "\n",
    "clf_2.fit(X_train_clf, y_train_clf)"
   ]
  },
  {
   "cell_type": "code",
   "execution_count": null,
   "metadata": {},
   "outputs": [],
   "source": [
    "y_train_pred = clf_2.predict(X_train_clf)\n",
    "y_preds_clf = clf_2.predict(X_test_clf)"
   ]
  },
  {
   "cell_type": "code",
   "execution_count": null,
   "metadata": {},
   "outputs": [],
   "source": [
    "acc_1 = accuracy_score(y_train_clf, y_train_pred ) *100\n",
    "acc = accuracy_score(y_test_clf,y_preds_clf) * 100\n",
    "print ('Accuracy for train_score is :{0}'.format(acc_1))\n",
    "print('Accuracy for test_score is :{0}'.format(acc))\n",
    "\n",
    "# Check the AUC for predictions\n",
    "false_positive_rate1, true_positive_rate1, thresholds1 = roc_curve(y_train_clf, y_train_pred)\n",
    "false_positive_rate2, true_positive_rate2, thresholds2 = roc_curve(y_test_clf, y_preds_clf)\n",
    "roc_auc1 = auc(false_positive_rate1, true_positive_rate1)\n",
    "\n",
    "print('\\nAUC train is :{0}'.format(round(roc_auc1, 2)))\n",
    "\n",
    "\n",
    "roc_auc2 = auc(false_positive_rate2, true_positive_rate2)\n",
    "\n",
    "print('\\nAUC test is :{0}'.format(round(roc_auc2, 2)))\n",
    "\n",
    "# Create and print a confusion matrix \n",
    "print('\\nConfusion Matrix')\n",
    "print('----------------')\n",
    "pd.crosstab(y_test_clf, y_preds_clf, rownames=['True'], colnames=['Predicted'], margins=True)"
   ]
  },
  {
   "cell_type": "markdown",
   "metadata": {},
   "source": [
    "Between the Gini and entropy, the accuracy is 63.55% for gini and 63.50% for entropy.\n",
    "Although the model predicts True Negatives better by 96 instances and the true instances are less by 50 instances\n",
    "AUC is still the same"
   ]
  },
  {
   "cell_type": "markdown",
   "metadata": {},
   "source": [
    "Performing some hyperparamter tuning on the Decision tree model with maximum depth tuning"
   ]
  },
  {
   "cell_type": "code",
   "execution_count": null,
   "metadata": {},
   "outputs": [],
   "source": [
    "clf_3 = DecisionTreeClassifier(criterion='gini',random_state = 20, max_depth = 5)\n",
    "\n",
    "clf_3.fit(X_train_clf, y_train_clf)"
   ]
  },
  {
   "cell_type": "code",
   "execution_count": null,
   "metadata": {},
   "outputs": [],
   "source": [
    "y_train_pred = clf_3.predict(X_train_clf)\n",
    "y_preds_clf = clf_3.predict(X_test_clf)"
   ]
  },
  {
   "cell_type": "code",
   "execution_count": null,
   "metadata": {},
   "outputs": [],
   "source": [
    "acc_1 = accuracy_score(y_train_clf, y_train_pred ) *100\n",
    "acc = accuracy_score(y_test_clf,y_preds_clf) * 100\n",
    "print ('Accuracy for train_score is :{0}'.format(acc_1))\n",
    "print('Accuracy for test_score is :{0}'.format(acc))\n",
    "\n",
    "# Check the AUC for predictions\n",
    "false_positive_rate1, true_positive_rate1, thresholds1 = roc_curve(y_train_clf, y_train_pred)\n",
    "false_positive_rate2, true_positive_rate2, thresholds2 = roc_curve(y_test_clf, y_preds_clf)\n",
    "roc_auc1 = auc(false_positive_rate1, true_positive_rate1)\n",
    "\n",
    "print('\\nAUC train is :{0}'.format(round(roc_auc1, 2)))\n",
    "\n",
    "\n",
    "roc_auc2 = auc(false_positive_rate2, true_positive_rate2)\n",
    "\n",
    "print('\\nAUC test is :{0}'.format(round(roc_auc2, 2)))\n",
    "\n",
    "# Create and print a confusion matrix \n",
    "print('\\nConfusion Matrix')\n",
    "print('----------------')\n",
    "pd.crosstab(y_test_clf, y_preds_clf, rownames=['True'], colnames=['Predicted'], margins=True)"
   ]
  },
  {
   "cell_type": "markdown",
   "metadata": {},
   "source": [
    "AUC is worse when the max_depth is set to 5 and it is tending towards a worthless model but the error between the model is less and therefore regularisation technique worked as it is not overfitting. but AUC is worse"
   ]
  },
  {
   "cell_type": "code",
   "execution_count": null,
   "metadata": {},
   "outputs": [],
   "source": [
    "# Create DOT data\n",
    "dot_data = export_graphviz(clf_3, out_file=None, \n",
    "                           feature_names=predictors.columns,  \n",
    "                           class_names=np.unique(target).astype('str'), \n",
    "                           filled=True, rounded=True, special_characters=True)\n",
    "\n",
    "# Draw graph\n",
    "graph = graph_from_dot_data(dot_data)  \n",
    "\n",
    "# Show graph\n",
    "Image(graph.create_png())"
   ]
  },
  {
   "cell_type": "markdown",
   "metadata": {},
   "source": [
    "Reducing the max_depth allows us to plot the decsison tree and we can see from the top at the root node tha the most impportant feature the model split on was usd_goal_real....although the gini is not optimised beacuse of the regularisation technique of reducing the max_depth, the best gini scores were prerdicting class 0 better than class 1 which classifying unsuccessful projects than successful projects"
   ]
  },
  {
   "cell_type": "markdown",
   "metadata": {},
   "source": [
    "To optimise for the best hyperparamters for Max depth and min samples in each leaf node"
   ]
  },
  {
   "cell_type": "code",
   "execution_count": null,
   "metadata": {},
   "outputs": [],
   "source": [
    "model = DecisionTreeClassifier()\n",
    "\n",
    "param_grid = {'max_depth':range(1,11+1),'min_samples_leaf':[100,200,300]}\n",
    "\n",
    "opt_model = GridSearchCV(model,param_grid,cv=3,scoring='roc_auc')\n",
    "opt_model.fit(X_train_clf,y_train_clf)\n",
    "best_model = opt_model.best_estimator_\n",
    "\n",
    "opt_model.best_params_"
   ]
  },
  {
   "cell_type": "markdown",
   "metadata": {},
   "source": [
    "Using the best hyperparameters selected by the GridSearchCV"
   ]
  },
  {
   "cell_type": "code",
   "execution_count": null,
   "metadata": {},
   "outputs": [],
   "source": [
    "clf_best = DecisionTreeClassifier(criterion='gini',random_state = 20, max_depth = 11, min_samples_leaf = 100)\n",
    "\n",
    "clf_best.fit(X_train_clf, y_train_clf)"
   ]
  },
  {
   "cell_type": "code",
   "execution_count": null,
   "metadata": {},
   "outputs": [],
   "source": [
    "y_train_pred = clf_best.predict(X_train_clf)\n",
    "y_preds_clf = clf_best.predict(X_test_clf)"
   ]
  },
  {
   "cell_type": "code",
   "execution_count": null,
   "metadata": {},
   "outputs": [],
   "source": [
    "acc_1 = accuracy_score(y_train_clf, y_train_pred ) *100\n",
    "acc = accuracy_score(y_test_clf,y_preds_clf) * 100\n",
    "print ('Accuracy for train_score is :{0}'.format(acc_1))\n",
    "print('Accuracy for test_score is :{0}'.format(acc))\n",
    "\n",
    "# Check the AUC for predictions\n",
    "false_positive_rate1, true_positive_rate1, thresholds1 = roc_curve(y_train_clf, y_train_pred)\n",
    "false_positive_rate2, true_positive_rate2, thresholds2 = roc_curve(y_test_clf, y_preds_clf)\n",
    "roc_auc1 = auc(false_positive_rate1, true_positive_rate1)\n",
    "\n",
    "print('\\nAUC train is :{0}'.format(round(roc_auc1, 2)))\n",
    "\n",
    "\n",
    "roc_auc2 = auc(false_positive_rate2, true_positive_rate2)\n",
    "\n",
    "print('\\nAUC test is :{0}'.format(round(roc_auc2, 2)))\n",
    "\n",
    "# Create and print a confusion matrix \n",
    "print('\\nConfusion Matrix')\n",
    "print('----------------')\n",
    "pd.crosstab(y_test_clf, y_preds_clf, rownames=['True'], colnames=['Predicted'], margins=True)"
   ]
  },
  {
   "cell_type": "markdown",
   "metadata": {},
   "source": [
    "In conclusion- the best Decision Tree model is generalisable, does not overfit but the AUC score is not optimal which is leads to underfitting"
   ]
  },
  {
   "cell_type": "markdown",
   "metadata": {},
   "source": [
    "Plotting the feature importances - "
   ]
  },
  {
   "cell_type": "code",
   "execution_count": null,
   "metadata": {},
   "outputs": [],
   "source": [
    "def plot_feature_importances(model):\n",
    "    n_features = X_train_clf.shape[1]\n",
    "    plt.figure(figsize=(30,30))\n",
    "    plt.barh(range(n_features), model.feature_importances_, align='center') \n",
    "    plt.yticks(np.arange(n_features), X_train_clf.columns.values) \n",
    "    plt.xlabel('Feature importance')\n",
    "    plt.ylabel('Feature')\n",
    "\n",
    "plot_feature_importances(clf_best)\n"
   ]
  },
  {
   "cell_type": "markdown",
   "metadata": {},
   "source": [
    "USD goal real and number of days are the most important features"
   ]
  },
  {
   "cell_type": "code",
   "execution_count": null,
   "metadata": {},
   "outputs": [],
   "source": [
    "perm = PermutationImportance(clf_best, random_state=1).fit(X_test_clf, y_test_clf)\n",
    "top_features_df=eli5.formatters.as_dataframe.explain_weights_df(perm, feature_names=list(X_train_clf.columns), target_names=y_train_clf)\n",
    "top_features_df.head()\n",
    "\n",
    "\n"
   ]
  },
  {
   "cell_type": "code",
   "execution_count": null,
   "metadata": {},
   "outputs": [],
   "source": [
    "top_f= top_features_df.loc[top_features_df['weight']!=0.000000] "
   ]
  },
  {
   "cell_type": "code",
   "execution_count": null,
   "metadata": {},
   "outputs": [],
   "source": [
    "list_clf = list(top_f['feature'])\n",
    "X = predictors[list_clf]\n",
    "y = target"
   ]
  },
  {
   "cell_type": "code",
   "execution_count": null,
   "metadata": {},
   "outputs": [],
   "source": [
    "X_train_clf, X_test_clf, y_train_clf, y_test_clf = train_test_split(X, y, test_size = 0.3, random_state = 42)"
   ]
  },
  {
   "cell_type": "code",
   "execution_count": null,
   "metadata": {},
   "outputs": [],
   "source": [
    "clf_optimised = DecisionTreeClassifier(criterion='gini',random_state = 20, max_depth = 11, min_samples_leaf = 100)\n",
    "\n",
    "clf_optimised.fit(X_train_clf, y_train_clf)"
   ]
  },
  {
   "cell_type": "code",
   "execution_count": null,
   "metadata": {},
   "outputs": [],
   "source": [
    "y_train_pred = clf_optimised.predict(X_train_clf)\n",
    "y_preds_clf = clf_optimised.predict(X_test_clf)"
   ]
  },
  {
   "cell_type": "code",
   "execution_count": null,
   "metadata": {},
   "outputs": [],
   "source": [
    "acc_1 = accuracy_score(y_train_clf, y_train_pred ) *100\n",
    "acc = accuracy_score(y_test_clf,y_preds_clf) * 100\n",
    "print ('Accuracy for train_score is :{0}'.format(acc_1))\n",
    "print('Accuracy for test_score is :{0}'.format(acc))\n",
    "\n",
    "# Check the AUC for predictions\n",
    "false_positive_rate1, true_positive_rate1, thresholds1 = roc_curve(y_train_clf, y_train_pred)\n",
    "false_positive_rate2, true_positive_rate2, thresholds2 = roc_curve(y_test_clf, y_preds_clf)\n",
    "roc_auc1 = auc(false_positive_rate1, true_positive_rate1)\n",
    "\n",
    "print('\\nAUC train is :{0}'.format(round(roc_auc1, 2)))\n",
    "\n",
    "\n",
    "roc_auc2 = auc(false_positive_rate2, true_positive_rate2)\n",
    "\n",
    "print('\\nAUC test is :{0}'.format(round(roc_auc2, 2)))\n",
    "\n",
    "# Create and print a confusion matrix \n",
    "print('\\nConfusion Matrix')\n",
    "print('----------------')\n",
    "pd.crosstab(y_test_clf, y_preds_clf, rownames=['True'], colnames=['Predicted'], margins=True)"
   ]
  },
  {
   "cell_type": "markdown",
   "metadata": {},
   "source": [
    "The same results were still achievied after taking out the important features"
   ]
  },
  {
   "cell_type": "markdown",
   "metadata": {},
   "source": [
    "### ENSEMBLE METHODS (RANDOM FOREST)"
   ]
  },
  {
   "cell_type": "code",
   "execution_count": null,
   "metadata": {},
   "outputs": [],
   "source": [
    "#using bagged trees as our first ensemble approach and using 20 decision trees\n",
    "bagged_tree =  BaggingClassifier(DecisionTreeClassifier(criterion='gini', max_depth=11), \n",
    "                                 n_estimators=20)"
   ]
  },
  {
   "cell_type": "code",
   "execution_count": null,
   "metadata": {},
   "outputs": [],
   "source": [
    "bagged_tree.fit(X_train_clf, y_train_clf)"
   ]
  },
  {
   "cell_type": "code",
   "execution_count": null,
   "metadata": {},
   "outputs": [],
   "source": [
    "y_train_pred = bagged_tree.predict(X_train_clf)\n",
    "y_preds_clf = bagged_tree.predict(X_test_clf)"
   ]
  },
  {
   "cell_type": "code",
   "execution_count": null,
   "metadata": {},
   "outputs": [],
   "source": [
    "acc_1 = accuracy_score(y_train_clf, y_train_pred ) *100\n",
    "acc = accuracy_score(y_test_clf,y_preds_clf) * 100\n",
    "print ('Accuracy for train_score is :{0}'.format(acc_1))\n",
    "print('Accuracy for test_score is :{0}'.format(acc))\n",
    "\n",
    "# Check the AUC for predictions\n",
    "false_positive_rate1, true_positive_rate1, thresholds1 = roc_curve(y_train_clf, y_train_pred)\n",
    "false_positive_rate2, true_positive_rate2, thresholds2 = roc_curve(y_test_clf, y_preds_clf)\n",
    "roc_auc1 = auc(false_positive_rate1, true_positive_rate1)\n",
    "\n",
    "print('\\nAUC train is :{0}'.format(round(roc_auc1, 2)))\n",
    "\n",
    "\n",
    "roc_auc2 = auc(false_positive_rate2, true_positive_rate2)\n",
    "\n",
    "print('\\nAUC test is :{0}'.format(round(roc_auc2, 2)))\n",
    "\n",
    "# Create and print a confusion matrix \n",
    "print('\\nConfusion Matrix')\n",
    "print('----------------')\n",
    "pd.crosstab(y_test_clf, y_preds_clf, rownames=['True'], colnames=['Predicted'], margins=True)"
   ]
  },
  {
   "cell_type": "markdown",
   "metadata": {},
   "source": [
    "So after using the important features contributing to the model, the accuracy for both train and test improves but the AUC is still relatively the same compared to the other classifiers."
   ]
  },
  {
   "cell_type": "markdown",
   "metadata": {},
   "source": [
    "Next up for the random forest"
   ]
  },
  {
   "cell_type": "code",
   "execution_count": null,
   "metadata": {},
   "outputs": [],
   "source": [
    "forest = RandomForestClassifier(n_estimators=100, max_depth= 11)\n",
    "forest.fit(X_train_clf, y_train_clf)"
   ]
  },
  {
   "cell_type": "code",
   "execution_count": null,
   "metadata": {},
   "outputs": [],
   "source": [
    "y_train_pred = forest.predict(X_train_clf)\n",
    "y_preds_clf = forest.predict(X_test_clf)"
   ]
  },
  {
   "cell_type": "code",
   "execution_count": null,
   "metadata": {},
   "outputs": [],
   "source": [
    "acc_1 = accuracy_score(y_train_clf, y_train_pred ) *100\n",
    "acc = accuracy_score(y_test_clf,y_preds_clf) * 100\n",
    "print ('Accuracy for train_score is :{0}'.format(acc_1))\n",
    "print('Accuracy for test_score is :{0}'.format(acc))\n",
    "\n",
    "# Check the AUC for predictions\n",
    "false_positive_rate1, true_positive_rate1, thresholds1 = roc_curve(y_train_clf, y_train_pred)\n",
    "false_positive_rate2, true_positive_rate2, thresholds2 = roc_curve(y_test_clf, y_preds_clf)\n",
    "roc_auc1 = auc(false_positive_rate1, true_positive_rate1)\n",
    "\n",
    "print('\\nAUC train is :{0}'.format(round(roc_auc1, 2)))\n",
    "\n",
    "\n",
    "roc_auc2 = auc(false_positive_rate2, true_positive_rate2)\n",
    "\n",
    "print('\\nAUC test is :{0}'.format(round(roc_auc2, 2)))\n",
    "\n",
    "# Create and print a confusion matrix \n",
    "print('\\nConfusion Matrix')\n",
    "print('----------------')\n",
    "pd.crosstab(y_test_clf, y_preds_clf, rownames=['True'], colnames=['Predicted'], margins=True)"
   ]
  },
  {
   "cell_type": "markdown",
   "metadata": {},
   "source": [
    "Hyperparameters optimization on Random Forest Classifier"
   ]
  },
  {
   "cell_type": "code",
   "execution_count": null,
   "metadata": {},
   "outputs": [],
   "source": [
    "rf_param_grid = {\n",
    "    'n_estimators': [10, 30, 100],\n",
    "    'criterion': ['gini', 'entropy'],\n",
    "    'max_depth': [None, 2, 6, 11],\n",
    "    'min_samples_split': [5, 10],\n",
    "    'min_samples_leaf': [3, 6, 10]\n",
    "}"
   ]
  },
  {
   "cell_type": "code",
   "execution_count": null,
   "metadata": {},
   "outputs": [],
   "source": [
    "forest = RandomForestClassifier()\n",
    "\n",
    "param_grid = {'max_depth':range(1,11+1),'min_samples_leaf':[100,200,300]}\n",
    "\n",
    "opt_model = GridSearchCV(forest,rf_param_grid,cv=3,scoring='roc_auc')\n",
    "opt_model.fit(X_train_clf,y_train_clf)\n",
    "best_model = opt_model.best_estimator_\n",
    "\n",
    "opt_model.best_params_"
   ]
  },
  {
   "cell_type": "code",
   "execution_count": null,
   "metadata": {},
   "outputs": [],
   "source": [
    "rf_grid_search = GridSearchCV(forest, rf_param_grid, cv=3, n_jobs= -1, return_train_score=True)\n",
    "rf_grid_search.fit(X_train_clf, y_train_clf)\n",
    "\n",
    "print(f\"Training Accuracy: {rf_grid_search.best_params :.2%}\")\n",
    "print(\"\")\n",
    "print(f\"Optimal Parameters: {rf_grid_search.best_params_}\")"
   ]
  },
  {
   "cell_type": "markdown",
   "metadata": {},
   "source": [
    "The Random Forest ensmeble optimised hyperparameters are as above. Now we will train the dataset on this set of parameters"
   ]
  },
  {
   "cell_type": "code",
   "execution_count": null,
   "metadata": {},
   "outputs": [],
   "source": [
    "forest_opt = RandomForestClassifier(n_estimators=100, max_depth= None, criterion='gini', min_samples_leaf= 10,\n",
    "                                    min_samples_split=10 )\n",
    "forest_opt.fit(X_train_clf, y_train_clf)"
   ]
  },
  {
   "cell_type": "code",
   "execution_count": null,
   "metadata": {},
   "outputs": [],
   "source": [
    "y_train_pred = forest_opt.predict(X_train_clf)\n",
    "y_preds_clf = forest_opt.predict(X_test_clf)"
   ]
  },
  {
   "cell_type": "code",
   "execution_count": null,
   "metadata": {},
   "outputs": [],
   "source": [
    "acc_1 = accuracy_score(y_train_clf, y_train_pred ) *100\n",
    "acc = accuracy_score(y_test_clf,y_preds_clf) * 100\n",
    "print ('Accuracy for train_score is :{0}'.format(acc_1))\n",
    "print('Accuracy for test_score is :{0}'.format(acc))\n",
    "\n",
    "# Check the AUC for predictions\n",
    "false_positive_rate1, true_positive_rate1, thresholds1 = roc_curve(y_train_clf, y_train_pred)\n",
    "false_positive_rate2, true_positive_rate2, thresholds2 = roc_curve(y_test_clf, y_preds_clf)\n",
    "roc_auc1 = auc(false_positive_rate1, true_positive_rate1)\n",
    "\n",
    "print('\\nAUC train is :{0}'.format(round(roc_auc1, 2)))\n",
    "\n",
    "\n",
    "roc_auc2 = auc(false_positive_rate2, true_positive_rate2)\n",
    "\n",
    "print('\\nAUC test is :{0}'.format(round(roc_auc2, 2)))\n",
    "\n",
    "# Create and print a confusion matrix \n",
    "print('\\nConfusion Matrix')\n",
    "print('----------------')\n",
    "pd.crosstab(y_test_clf, y_preds_clf, rownames=['True'], colnames=['Predicted'], margins=True)"
   ]
  },
  {
   "cell_type": "markdown",
   "metadata": {},
   "source": [
    "This has a higher training accuracy score and does not show signs of overfitting and it is the model that predicts the most True Positives so far, but predicts less True Negatives. Based on the current business model of predicting success. This is our best model so far"
   ]
  },
  {
   "cell_type": "markdown",
   "metadata": {},
   "source": [
    "### PRINCIPAL COMPONENT ANALYSIS"
   ]
  },
  {
   "cell_type": "markdown",
   "metadata": {},
   "source": [
    "Foray into whether dimensionality reduction would improve the model."
   ]
  },
  {
   "cell_type": "code",
   "execution_count": null,
   "metadata": {},
   "outputs": [],
   "source": [
    "ss = StandardScaler()\n",
    "scaled = ss.fit_transform(X)\n",
    "from sklearn.decomposition import PCA\n",
    "fit = PCA()\n",
    "pca = fit.fit_transform(scaled)\n",
    "pca"
   ]
  },
  {
   "cell_type": "code",
   "execution_count": null,
   "metadata": {},
   "outputs": [],
   "source": [
    "plt.plot(fit.explained_variance_ratio_)\n",
    "plt.title(\"Variance Explained, Given Number of Components\")\n",
    "plt.xlabel(\"Number of Eigenvectors\")\n",
    "plt.ylabel(\"Variance Explained\")"
   ]
  },
  {
   "cell_type": "code",
   "execution_count": null,
   "metadata": {},
   "outputs": [],
   "source": [
    "print(fit.explained_variance_ratio_)\n",
    "print(\"--------------------\")\n",
    "print(fit.explained_variance_ratio_[:15].sum())\n",
    "print(\"--------------------\")\n",
    "print(\"If we use ALL the data we can explain\",fit.explained_variance_ratio_[:23].sum()*100,\" % of our data!\")"
   ]
  },
  {
   "cell_type": "code",
   "execution_count": null,
   "metadata": {},
   "outputs": [],
   "source": [
    "pca = pd.DataFrame(pca[:, :15], index=predictors.index)\n",
    "pca"
   ]
  },
  {
   "cell_type": "code",
   "execution_count": null,
   "metadata": {},
   "outputs": [],
   "source": [
    "X_train_clf, X_test_clf, y_train_clf, y_test_clf = train_test_split(pca, target, test_size = 0.3, random_state = 42)"
   ]
  },
  {
   "cell_type": "markdown",
   "metadata": {},
   "source": [
    "Re-running the random Forest"
   ]
  },
  {
   "cell_type": "code",
   "execution_count": null,
   "metadata": {},
   "outputs": [],
   "source": [
    "forest_opt_pca = RandomForestClassifier(n_estimators=100, max_depth= None, criterion='gini', min_samples_leaf= 10,\n",
    "                                    min_samples_split=10 )\n",
    "forest_opt_pca.fit(X_train_clf, y_train_clf)"
   ]
  },
  {
   "cell_type": "code",
   "execution_count": null,
   "metadata": {},
   "outputs": [],
   "source": [
    "y_train_pred = forest_opt_pca.predict(X_train_clf)\n",
    "y_preds_clf = forest_opt_pca.predict(X_test_clf)"
   ]
  },
  {
   "cell_type": "code",
   "execution_count": null,
   "metadata": {},
   "outputs": [],
   "source": [
    "acc_1 = accuracy_score(y_train_clf, y_train_pred ) *100\n",
    "acc = accuracy_score(y_test_clf,y_preds_clf) * 100\n",
    "print ('Accuracy for train_score is :{0}'.format(acc_1))\n",
    "print('Accuracy for test_score is :{0}'.format(acc))\n",
    "\n",
    "# Check the AUC for predictions\n",
    "false_positive_rate1, true_positive_rate1, thresholds1 = roc_curve(y_train_clf, y_train_pred)\n",
    "false_positive_rate2, true_positive_rate2, thresholds2 = roc_curve(y_test_clf, y_preds_clf)\n",
    "roc_auc1 = auc(false_positive_rate1, true_positive_rate1)\n",
    "\n",
    "print('\\nAUC train is :{0}'.format(round(roc_auc1, 2)))\n",
    "\n",
    "\n",
    "roc_auc2 = auc(false_positive_rate2, true_positive_rate2)\n",
    "\n",
    "print('\\nAUC test is :{0}'.format(round(roc_auc2, 2)))\n",
    "\n",
    "# Create and print a confusion matrix \n",
    "print('\\nConfusion Matrix')\n",
    "print('----------------')\n",
    "pd.crosstab(y_test_clf, y_preds_clf, rownames=['True'], colnames=['Predicted'], margins=True)"
   ]
  },
  {
   "cell_type": "markdown",
   "metadata": {},
   "source": [
    "Accuracy for train score is the best we have gotten so far without overfitting the model but the AUC has not significantly improved but we defnitely have a good number of True positives compared to the final model"
   ]
  },
  {
   "cell_type": "markdown",
   "metadata": {},
   "source": [
    "### USING SMOTE TO BALANCE THE CLASSES"
   ]
  },
  {
   "cell_type": "code",
   "execution_count": null,
   "metadata": {},
   "outputs": [],
   "source": [
    "from imblearn.over_sampling import SMOTE"
   ]
  },
  {
   "cell_type": "code",
   "execution_count": null,
   "metadata": {},
   "outputs": [],
   "source": [
    "print('Original class distribution: \\n')\n",
    "print(target.value_counts())\n",
    "smote = SMOTE()\n",
    "X_train_resampled, y_train_resampled = smote.fit_sample(X_train_clf, y_train_clf) \n",
    "# Preview synthetic sample class distribution\n",
    "print('-----------------------------------------')\n",
    "print('Synthetic sample class distribution: \\n')\n",
    "print(pd.Series(y_train_resampled).value_counts()) "
   ]
  },
  {
   "cell_type": "code",
   "execution_count": null,
   "metadata": {},
   "outputs": [],
   "source": [
    "#using the resampled data with the Random Forest Classifier"
   ]
  },
  {
   "cell_type": "code",
   "execution_count": null,
   "metadata": {},
   "outputs": [],
   "source": [
    "forest_sam = RandomForestClassifier(n_estimators=100, max_depth= None, criterion='gini', min_samples_leaf= 10,\n",
    "                                    min_samples_split=10 )\n",
    "forest_sam.fit(X_train_resampled, y_train_resampled)"
   ]
  },
  {
   "cell_type": "code",
   "execution_count": null,
   "metadata": {},
   "outputs": [],
   "source": [
    "y_train_pred = forest_sam.predict(X_train_resampled)\n",
    "y_preds_clf = forest_sam.predict(X_test_clf)"
   ]
  },
  {
   "cell_type": "code",
   "execution_count": null,
   "metadata": {},
   "outputs": [],
   "source": [
    "acc_1 = accuracy_score(y_train_resampled, y_train_pred ) *100\n",
    "acc = accuracy_score(y_test_clf,y_preds_clf) * 100\n",
    "print ('Accuracy for train_score is :{0}'.format(acc_1))\n",
    "print('Accuracy for test_score is :{0}'.format(acc))\n",
    "\n",
    "# Check the AUC for predictions\n",
    "false_positive_rate1, true_positive_rate1, thresholds1 = roc_curve(y_train_resampled, y_train_pred)\n",
    "false_positive_rate2, true_positive_rate2, thresholds2 = roc_curve(y_test_clf, y_preds_clf)\n",
    "roc_auc1 = auc(false_positive_rate1, true_positive_rate1)\n",
    "\n",
    "print('\\nAUC train is :{0}'.format(round(roc_auc1, 2)))\n",
    "\n",
    "\n",
    "roc_auc2 = auc(false_positive_rate2, true_positive_rate2)\n",
    "\n",
    "print('\\nAUC test is :{0}'.format(round(roc_auc2, 2)))\n",
    "\n",
    "# Create and print a confusion matrix \n",
    "print('\\nConfusion Matrix')\n",
    "print('----------------')\n",
    "pd.crosstab(y_test_clf, y_preds_clf, rownames=['True'], colnames=['Predicted'], margins=True)"
   ]
  },
  {
   "cell_type": "markdown",
   "metadata": {},
   "source": [
    "AUC train and AUC test score has improved just by a 0.1 compared to previous models."
   ]
  },
  {
   "cell_type": "code",
   "execution_count": null,
   "metadata": {},
   "outputs": [],
   "source": [
    "def Find_Optimal_Cutoff(target, predicted):\n",
    "    fpr, tpr, threshold = roc_curve(target, predicted)\n",
    "    i = np.arange(len(tpr)) \n",
    "    roc = pd.DataFrame({'tf' : pd.Series(tpr-(1-fpr), index=i), 'threshold' : pd.Series(threshold, index=i)})\n",
    "    roc_t = roc.ix[(roc.tf-0).abs().argsort()[:1]]\n",
    "\n",
    "    return list(roc_t['threshold']) "
   ]
  },
  {
   "cell_type": "code",
   "execution_count": null,
   "metadata": {},
   "outputs": [],
   "source": [
    "Find_Optimal_Cutoff(target, predictors)"
   ]
  },
  {
   "cell_type": "code",
   "execution_count": null,
   "metadata": {},
   "outputs": [],
   "source": []
  }
 ],
 "metadata": {
  "kernelspec": {
   "display_name": "Python 3",
   "language": "python",
   "name": "python3"
  },
  "language_info": {
   "codemirror_mode": {
    "name": "ipython",
    "version": 3
   },
   "file_extension": ".py",
   "mimetype": "text/x-python",
   "name": "python",
   "nbconvert_exporter": "python",
   "pygments_lexer": "ipython3",
   "version": "3.7.3"
  }
 },
 "nbformat": 4,
 "nbformat_minor": 2
}
